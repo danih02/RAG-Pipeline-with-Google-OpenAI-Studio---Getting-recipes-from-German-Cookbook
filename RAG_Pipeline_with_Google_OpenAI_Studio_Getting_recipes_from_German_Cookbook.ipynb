{
  "cells": [
    {
      "cell_type": "markdown",
      "metadata": {
        "colab_type": "text",
        "id": "view-in-github"
      },
      "source": [
        "<a href=\"https://colab.research.google.com/github/danih02/RAG-Pipeline-with-Google-OpenAI-Studio---Getting-recipes-from-German-Cookbook/blob/main/RAG_Pipeline_with_Google_OpenAI_Studio_Getting_recipes_from_German_Cookbook.ipynb\" target=\"_parent\"><img src=\"https://colab.research.google.com/assets/colab-badge.svg\" alt=\"Open In Colab\"/></a>"
      ]
    },
    {
      "cell_type": "markdown",
      "metadata": {
        "id": "x46Wu17gP__2"
      },
      "source": [
        "# Introduction"
      ]
    },
    {
      "cell_type": "markdown",
      "metadata": {
        "id": "PC4s_qM6N7nb"
      },
      "source": [
        "In this workbook, we will consider a LangChain RAG to extract information out of a german cookbook - Das gute Essen: Mit 500 Rezepten für jeden Tag. We aim to extract specific information from this book like\n",
        "\n",
        "\n",
        "1.   What recipe is on page x?\n",
        "2.   Give me a recipe from the book containing Paprika.\n",
        "3.   I have Paprika, eggs and cucumber in my fridge. Give me recipes where at least 2 of those ingridients are used.\n",
        "\n",
        "\n",
        "The llm of consideration is a free tier from google OpenAI Studio - Gemini 2.0 Pro"
      ]
    },
    {
      "cell_type": "markdown",
      "metadata": {
        "id": "LH9k0DLjPWc4"
      },
      "source": [
        "# Install dependencies, get LLM and inspect document"
      ]
    },
    {
      "cell_type": "markdown",
      "metadata": {
        "id": "3wL2CeQcPg-v"
      },
      "source": [
        "As already mentioned, we will use a LangChain pipeline."
      ]
    },
    {
      "cell_type": "code",
      "execution_count": 28,
      "metadata": {
        "id": "6iu_dH4TQHKx"
      },
      "outputs": [],
      "source": [
        "%%capture\n",
        "%pip install langchain pypdf faiss-cpu sentence-transformers transformers langchain-community langchain_google_genai PyMuPDF"
      ]
    },
    {
      "cell_type": "code",
      "execution_count": 29,
      "metadata": {
        "id": "tb56hm-FQLlF"
      },
      "outputs": [],
      "source": [
        "import pandas as pd\n",
        "from langchain.document_loaders import PyPDFLoader # document loader for PDF\n",
        "from langchain.text_splitter import RecursiveCharacterTextSplitter # text splitter\n",
        "from langchain.embeddings import HuggingFaceEmbeddings # embedding model for FAISS\n",
        "from langchain.vectorstores import FAISS # faiss retriever\n",
        "from langchain.chains import RetrievalQA # LangChain RAG pipeline\n",
        "from langchain.retrievers import BM25Retriever  # BM25 retriever\n",
        "from langchain.retrievers import EnsembleRetriever # ensemlbe retriever to combine FAISS and BM25"
      ]
    },
    {
      "cell_type": "markdown",
      "metadata": {
        "id": "Zj6VqWp_Qg3Z"
      },
      "source": [
        "We are going to use a hybrid retriever: FAISS and BM25. In this setup, bm25 is possibly more useful that embedding queries. This is because recipes are of a more structured than semantic type and we will likely search for specific keywords like Paprika or Cucumber."
      ]
    },
    {
      "cell_type": "code",
      "execution_count": 30,
      "metadata": {
        "id": "nbxYeYiJQP_r"
      },
      "outputs": [],
      "source": [
        "import os\n",
        "pdf_path = \"Das gute Essen - Kochbuch.pdf\"\n",
        "loader = PyPDFLoader(pdf_path) # PyPDF load the documents pagewise\n",
        "documents = loader.load()"
      ]
    },
    {
      "cell_type": "markdown",
      "metadata": {
        "id": "s9SeEnBzTmmC"
      },
      "source": [
        "PyPDFLoader loads the document page wise. This might be a problem for quering as on some pages of this book there are multiple recipes while for some pages there is a single recipe per page. We will already initilize the llm."
      ]
    },
    {
      "cell_type": "code",
      "execution_count": 31,
      "metadata": {
        "id": "BQt_L3HxUUPH"
      },
      "outputs": [],
      "source": [
        "import google.generativeai as genai\n",
        "from langchain_google_genai import ChatGoogleGenerativeAI\n",
        "\n",
        "api_key = os.environ.get(\"GOOGLE_API_KEY\")\n",
        "genai.configure(api_key=api_key)\n",
        "\n",
        "os.environ[\"GOOGLE_API_KEY\"] = api_key\n",
        "llm = ChatGoogleGenerativeAI(model=\"gemini-2.0-flash\", temperature = 0)"
      ]
    },
    {
      "cell_type": "markdown",
      "metadata": {},
      "source": [
        "We can initialize a Prompt. Important for us is the the LLM only uses the context provided. Notice that take a prompt in german as this is the cookbook language."
      ]
    },
    {
      "cell_type": "code",
      "execution_count": 32,
      "metadata": {
        "id": "xddEVVPjVCl0"
      },
      "outputs": [],
      "source": [
        "from langchain import PromptTemplate\n",
        "\n",
        "# create a prompt template with the \"input_prompt\" and \"context\" variables\n",
        "template = \"\"\"\n",
        "{input_prompt}\n",
        "\n",
        "Für deine Antwort, nutze nur folgenden Kontext:\n",
        "{context}\n",
        "\n",
        "Anworte strukturiert in folgender Form:\n",
        "\n",
        "**Rezeptname**: [Name des Rezepts]\n",
        "\n",
        "**Zutaten**: [Liste der Zutaten, die für das Rezept benötigt werden]\n",
        "\n",
        "**Zubereitung**: [Schritt-für-Schritt-Anleitung zur Zubereitung des Rezepts]\n",
        "\n",
        "**Seite**: [Seitenzahl des Rezepts im Kochbuch]\n",
        "\n",
        "Falls sich in dem Kontext mehr als ein Rezept befindet, gebe alle an, außer es wird nur nach einem Rezept gefragt.\n",
        "\n",
        "\n",
        "\"\"\"\n",
        "prompt = PromptTemplate(template=template, input_variables=[\"input_prompt\", \"context\"])"
      ]
    },
    {
      "cell_type": "markdown",
      "metadata": {},
      "source": [
        "Define a simple chain which takes the prompt and feeds it into the llm"
      ]
    },
    {
      "cell_type": "code",
      "execution_count": 33,
      "metadata": {
        "id": "TLxSJKHmVmta"
      },
      "outputs": [],
      "source": [
        "chain_example = prompt | llm"
      ]
    },
    {
      "cell_type": "markdown",
      "metadata": {},
      "source": [
        "We now define two number index_single_recipe and index_multiple_recipe, which represent page numbers on in the wook with single and multiple recipes, respectively. These two pages will be our example and test cases throughout. We will print these recipes. "
      ]
    },
    {
      "cell_type": "code",
      "execution_count": 34,
      "metadata": {
        "id": "OSmjEKH0WBKM"
      },
      "outputs": [
        {
          "data": {
            "image/png": "[encoded data removed]",
            "text/plain": [
              "<Figure size 900x600 with 2 Axes>"
            ]
          },
          "metadata": {},
          "output_type": "display_data"
        }
      ],
      "source": [
        "import fitz  # PyMuPDF\n",
        "import matplotlib.pyplot as plt\n",
        "from PIL import Image\n",
        "\n",
        "index_single_recipe = 17\n",
        "index_multiple_recipes = 27\n",
        "\n",
        "# Open the PDF\n",
        "doc = fitz.open(\"Das gute Essen - Kochbuch.pdf\")\n",
        "\n",
        "# Convert pages to images\n",
        "pages = [doc[index_single_recipe].get_pixmap(), doc[index_multiple_recipes].get_pixmap()]\n",
        "\n",
        "# Plot images\n",
        "fig, axes = plt.subplots(1, 2, figsize=(9, 6))\n",
        "for ax, pix in zip(axes, pages):\n",
        "    img = Image.frombytes(\"RGB\", [pix.width, pix.height], pix.samples)\n",
        "    ax.imshow(img)\n",
        "    ax.axis('off')\n",
        "\n",
        "plt.tight_layout()\n",
        "plt.show()"
      ]
    },
    {
      "cell_type": "code",
      "execution_count": 35,
      "metadata": {
        "colab": {
          "base_uri": "https://localhost:8080/",
          "height": 193
        },
        "id": "n1jOPQxFVt4V",
        "outputId": "20dffcb2-c267-4407-8d93-6d7df2967213"
      },
      "outputs": [
        {
          "name": "stdout",
          "output_type": "stream",
          "text": [
            "**Rezeptname**: Kartoffelsalat mit Makrele, Brunnenkresse, Tomatenkonfitüre\n",
            "\n",
            "**Zutaten**:\n",
            "* 1 Bund Vogelmiere (Wildkraut)\n",
            "* 260 ml Geflügelbrühe\n",
            "* 1,5 g Agar-Agar (pflanzliche Gelatine)\n",
            "* 50 ml Sahne\n",
            "* 1 Blatt Gelatine\n",
            "* Salz, Pfeffer\n",
            "* 10 Kartoffeln (La Ratte)\n",
            "* 5 EL Olivenöl extra vergine\n",
            "* 2 EL Rotweinessig\n",
            "* 4 Scheiben rustikales Weißbrot\n",
            "* 4 Knoblauchzehen\n",
            "* 8 EL Tomatenkonfitüre mit Fenchel und Anis\n",
            "* 2 Makrelen\n",
            "* 100 ml Vinaigrette\n",
            "* 12 Schalotten\n",
            "* 2 EL Butter\n",
            "* 20 g Risottoreis\n",
            "* Weißer Balsamicoessig\n",
            "* 2 Bund Brunnenkresse\n",
            "\n",
            "**Zubereitung**:\n",
            "1. Vogelmiere waschen, trocken schütteln, Blätter abzupfen und mit 200 ml Geflügelbrühe kochen. Fein mixen, Agar-Agar und Sahne zugeben und aufkochen. Gelatine in Wasser einweichen, ausdrücken und in der Vogelmierenmasse auflösen. Mit Salz und Pfeffer abschmecken und ca. 2 cm hoch in eine kleine Form gießen. Kühl stellen.\n",
            "2. Kartoffeln waschen und ungeschält gar kochen. Kurz auskühlen lassen, dann pellen und in gleichmäßige Scheiben schneiden. 3 EL Olivenöl mit Rotweinessig vermengen und die Kartoffelscheiben darin marinieren.\n",
            "3. Brotscheiben zu 4 gleich großen Rechtecken zurechtschneiden. 1 Knoblauchzehe schälen und zusammen mit dem Brot in Olivenöl kross braten. Das Brot dann aus der Pfanne nehmen und mit 4 EL Tomatenkonfitüre bestreichen.\n",
            "4. Makrelen filetieren und in Streifen schneiden. In einer Pfanne in Olivenöl auf der Hautseite kurz anbraten, dann in eine Schüssel geben und mit der Vinaigrette begießen. 8 Makrelenstreifen beiseitestellen. Die restlichen Streifen zurechtschneiden, die Brotstücke damit belegen und warm stellen.\n",
            "5. Schalotten und den restlichen Knoblauch schälen und in feine Würfel schneiden. In Butter anschwitzen. Den Risottoreis zugeben und mit 60 ml Geflügelbrühe aufgießen. Köcheln lassen, bis der Reis weich ist. Dann mixen und mit weißem Balsamicoessig und Salz abschmecken.\n",
            "6. Brunnenkresse waschen, trocken schütteln und klein zupfen. Die Vogelmierencreme in Würfel schneiden und kurz erwärmen.\n",
            "7. Den Kartoffelsalat auf Tellern anrichten. Die Makrelenstreifen darauf verteilen. Die Vogelmierenwürfel seitlich platzieren. Die Risotto-Schalotten-Creme und die Tomatenkonfitüre auf die Teller geben und das Brot darauf setzen. Mit Brunnenkresse verzieren.\n",
            "\n",
            "**Seite**: 18\n"
          ]
        }
      ],
      "source": [
        "query = 'Erzähl mit etwas über das Rezept auf der Seite.'\n",
        "context = documents[index_single_recipe].page_content\n",
        "output = chain_example.invoke({'input_prompt' : query, 'context' : context}).content\n",
        "print(output)"
      ]
    },
    {
      "cell_type": "markdown",
      "metadata": {
        "id": "Ixk3EpOwPZ_t"
      },
      "source": [
        "and we do the same for the multiplce page document without changing the query."
      ]
    },
    {
      "cell_type": "code",
      "execution_count": 36,
      "metadata": {
        "colab": {
          "base_uri": "https://localhost:8080/"
        },
        "id": "ZQ8IPwPHPsB6",
        "outputId": "62f9e2e0-37d4-4ea7-c625-cc9d2326be4c"
      },
      "outputs": [
        {
          "name": "stdout",
          "output_type": "stream",
          "text": [
            "**Rezeptname**: Winterlicher Fenchel-Orangen-Salat\n",
            "\n",
            "**Zutaten**: 2 Orangen, 2 Fenchel, Parmesan nach Belieben, 1 Handvoll entsteinte schwarze Oliven, 2-3 EL milder Obstessig, 4 EL neutrales Pflanzenöl, Salz, Pfeffer\n",
            "\n",
            "**Zubereitung**:\n",
            "1. Vom Fenchel den Strunk entfernen, die Knollen waschen und unansehnliche Stellen ausschneiden. Die Knollen mit einem Gurkenhobel sehr fein hobeln. Dann den Parmesan ebenso fein hobeln.\n",
            "2. Die Orangen so schälen, dass auch die weiße Haut entfernt wird. Die Fruchtspalten zwischen den hellen Trennhäuten herausschneiden, dabei den Saft auffangen.\n",
            "3. Fenchel und Parmesan vorsichtig mit den Orangenfilets vermischen. Die Oliven halbieren und zum Salat geben.\n",
            "4. Aus dem Essig, dem aufgefangenen Orangensaft, dem Pflanzenöl, Salz und Pfeffer eine Salatsauce rühren, über den Fenchel-Orangen-Salat gießen und alles noch einmal behutsam vermischen.\n",
            "\n",
            "**Seite**: 28\n",
            "\n",
            "**Rezeptname**: Feldsalat mit Rote Bete\n",
            "\n",
            "**Zutaten**: 200g vakuumverpackte Rote Bete, 200g Feldsalat, 50g Walnüsse, 5 EL Walnussöl, 1 EL Rotweinessig, 1 EL Balsamicoessig, Salz, Pfeffer\n",
            "\n",
            "**Zubereitung**:\n",
            "1. Rote Bete in 1 cm große Würfel schneiden.\n",
            "2. Feldsalat verlesen, gründlich waschen und trocken schleudern. Walnüsse klein schneiden.\n",
            "3. In einer Schüssel die Rote Bete mit Feldsalat und Nüssen mischen. Für die Vinaigrette Walnussöl mit Rotwein- und Balsamicoessig vermengen. Mit Salz und Pfeffer abschmecken und vorsichtig mit dem Salat vermengen.\n",
            "\n",
            "**Seite**: 28\n",
            "\n",
            "**Rezeptname**: Sellerie-Salat\n",
            "\n",
            "**Zutaten**: 750g Knollensellerie, Salz, 2 Schalotten, 3 EL Weißweinessig, 150g saure Sahne, 2 EL Pflanzenöl, Pfeffer\n",
            "\n",
            "**Zubereitung**:\n",
            "1. Den Sellerie waschen, schälen und vierteln. Die Sellerieviertel in einem Topf mit kaltem Wasser bedecken, salzen und aufkochen. Den Sellerie bissfest garen. Die Schalotten schälen und in feine Scheiben schneiden.\n",
            "2. Aus dem Essig, saurer Sahne, Öl, Salz und Pfeffer eine Marinade rühren. Die Schalottenscheiben zu Ringen aufblättern und unter die Marinade mischen.\n",
            "3. Die gegarten Selleriestücke abgießen und noch heiß in ca. 5 mm dicke Scheiben schneiden. Unter die Marinade heben und durchmischen. 2 bis 3 Stunden durchziehen lassen, dabei ab und zu umrühren.\n",
            "\n",
            "**Seite**: 28\n"
          ]
        }
      ],
      "source": [
        "query = 'Erzähl mit etwas über das Rezept auf der Seite.'\n",
        "context = documents[index_multiple_recipes].page_content\n",
        "output = chain_example.invoke({'input_prompt' : query, 'context' : context}).content\n",
        "print(output)"
      ]
    },
    {
      "cell_type": "markdown",
      "metadata": {
        "id": "4tIs-0bNJ2PK"
      },
      "source": [
        "Let us display the pdf pages to manually check how accurate our llm was:"
      ]
    },
    {
      "cell_type": "markdown",
      "metadata": {
        "id": "VuwABKRgJ1ra"
      },
      "source": [
        "Comparing the llms output to the actual recipes, we see that it did a really good job for the first single recipe. For the multiple recipe page it worked just as good with extraction of every single recipe. This is due to the specific prompt that everything should be extracted."
      ]
    },
    {
      "cell_type": "markdown",
      "metadata": {
        "id": "UFUWqeLmVZ3f"
      },
      "source": [
        "# Splitting the Document"
      ]
    },
    {
      "cell_type": "markdown",
      "metadata": {
        "id": "ouo1lZYMVdnE"
      },
      "source": [
        "From the previous two examples we see that some pages can contain multiple recipes. This might cause problems: Imagine if we are asking for a mediteran dish. As we are not asking specific ingridients this resembles for an embedding type of problem. But it is very possible that on a single page are not only mediteran dish, so embedding might not work as intended.\n",
        "\n",
        "So what we would want to have is the document split into recipes. We approach this problem in two steps.\n",
        "\n",
        "1.   Classical text splitter like RecursiveTextSplitter do not split the text in reading order. So we need to split the pages text in our own way.\n",
        "2.   Afterwards, we split each page containing multiple recipes into single chunks.\n",
        "\n"
      ]
    },
    {
      "cell_type": "markdown",
      "metadata": {
        "id": "sxWDbuia66Va"
      },
      "source": [
        "## Bringng pages into reading order"
      ]
    },
    {
      "cell_type": "markdown",
      "metadata": {
        "id": "scTL78S17wEJ"
      },
      "source": [
        "The easiest way to do this is to simply as an llm to do it. As we saw above, this works reasonable. However, Google's OpenAI Studio free tier cannot do this and I don't wont to pay for it.\n",
        "\n",
        "The idea is the following: we split each page vertically into 3 parts of same width. In this way we are going to seperate recipes as above. For recipes on a single page this will not cause any troubles as the ingridients list and how to prepare it are written block-wise."
      ]
    },
    {
      "cell_type": "code",
      "execution_count": 37,
      "metadata": {
        "id": "olJx6bDFZPiV"
      },
      "outputs": [],
      "source": [
        "%%capture\n",
        "%pip install pymupdf"
      ]
    },
    {
      "cell_type": "code",
      "execution_count": 38,
      "metadata": {
        "id": "WFBgH-9VZFLp"
      },
      "outputs": [],
      "source": [
        "import fitz  # PyMuPDF\n",
        "\n",
        "pdf_path = \"Das gute Essen - Kochbuch.pdf\"\n",
        "doc = fitz.open(pdf_path)\n",
        "\n",
        "all_text_blocks = []\n",
        "\n",
        "# save origin, i.e., (x,y) coordinates of lines, page_num and text into a dictionary\n",
        "for page_num, page in enumerate(doc):\n",
        "    blocks = page.get_text(\"dict\")[\"blocks\"]\n",
        "    for block in blocks:\n",
        "        if \"lines\" in block:\n",
        "            for line in block[\"lines\"]:\n",
        "                for span in line[\"spans\"]:\n",
        "                    text = span[\"text\"]\n",
        "                    origin = span[\"origin\"]\n",
        "                    size = span[\"size\"]\n",
        "                    if text:\n",
        "                        all_text_blocks.append({\n",
        "                            \"text\": text, # text of document\n",
        "                            \"page\": page_num + 1, # pages\n",
        "                            \"origin\" : origin, # coordinates needed for rearranging pages\n",
        "                            \"size\" : size # size to identify headers\n",
        "                        })"
      ]
    },
    {
      "cell_type": "markdown",
      "metadata": {
        "id": "40tiDE6j80jw"
      },
      "source": [
        "As an example we will print the index_single_recipe from all_text_blocks"
      ]
    },
    {
      "cell_type": "code",
      "execution_count": 39,
      "metadata": {
        "colab": {
          "base_uri": "https://localhost:8080/"
        },
        "id": "nQlmyZxc9l_E",
        "outputId": "24757006-b669-4653-87ed-1bc6b4d50120"
      },
      "outputs": [
        {
          "data": {
            "text/plain": [
              "{'text': 'Dr. Cordes: Gutes Essen basiert auf guten, nachhaltig oder zumindest regional an\\xad',\n",
              " 'page': 5,\n",
              " 'origin': (144.6280975341797, 622.48828125),\n",
              " 'size': 8.982132911682129}"
            ]
          },
          "execution_count": 39,
          "metadata": {},
          "output_type": "execute_result"
        }
      ],
      "source": [
        "all_text_blocks[100]"
      ]
    },
    {
      "cell_type": "code",
      "execution_count": 40,
      "metadata": {
        "colab": {
          "base_uri": "https://localhost:8080/"
        },
        "id": "OIVahCjw3nF5",
        "outputId": "3b412f1e-81bf-4081-905a-bcda4767826d"
      },
      "outputs": [
        {
          "name": "stdout",
          "output_type": "stream",
          "text": [
            "Salate & Vorspeisen\n",
            "18\n",
            "Kartoffelsalat mit Makrele,  \n",
            "Brunnenkresse, Tomatenkonfitüre \n",
            "Die Vogelmiere waschen, trocken schütteln, Blätter abzupfen und zusammen mit \n",
            "200 ml Geflügelbrühe kochen. Fein mixen, das Agar-Agar sowie die Sahne zu­geben \n",
            "und aufkochen. Die Gelatine in Wasser ein­weichen, ausdrücken und in der Vogel-\n",
            "mierenmasse auflösen. Mit Salz und Pfeffer abschmecken und ca. 2 cm hoch in \n",
            "eine kleine Form gießen. Kühl stellen.\n",
            "Die Kartoffeln waschen und ungeschält gar kochen. Kurz auskühlen lassen, dann \n",
            "pellen und in gleichmäßige Scheiben schneiden. 3 EL Olivenöl mit Rotweinessig \n",
            "vermengen und die Kartoffelscheiben darin marinieren. \n",
            "Die Brotscheiben zu 4 gleich großen Rechtecken zurechtschneiden. 1 Knoblauch-\n",
            "zehe schälen und zusammen mit dem Brot in Olivenöl kross braten. Das Brot dann \n",
            "aus der Pfanne nehmen und mit 4 EL Tomatenkonfitüre bestreichen.\n",
            "Die Makrelen filetieren und in Streifen schneiden. In einer Pfanne in Olivenöl auf \n",
            "der Hautseite kurz anbraten, dann in eine Schüssel geben und mit der ­Vinaigrette \n",
            "begießen. 8 Makrelenstreifen beiseitestellen. Die restlichen Streifen zurechtschnei-\n",
            "den, die Brotstücke damit belegen und warm stellen.\n",
            "Schalotten und den restlichen Knoblauch schälen und in feine Würfel schnei-\n",
            "den. In Butter anschwitzen. Den Risottoreis zugeben und mit 60 ml Geflügel­brühe \n",
            "aufgießen. Köcheln lassen, bis der Reis weich ist. Dann mixen und mit weißem \n",
            "­Balsamicoessig und Salz abschmecken. \n",
            "Die Brunnenkresse waschen, trocken schütteln und klein zupfen. Die Vogelmie-\n",
            "rencreme in Würfel schneiden und kurz erwärmen.\n",
            "Den Kartoffelsalat auf Tellern anrichten. Die Makrelenstreifen darauf verteilen. \n",
            "Die Vogelmierenwürfel seitlich platzieren. Die Risotto-Schalotten-Creme und die \n",
            "Tomatenkonfitüre auf die Teller geben und das Brot darauf setzen. Mit Brunnen-\n",
            "kresse verzieren.\n",
            "Weinempfehlung\n",
            "Le Cléray Sauvignon, Frankreich\n",
            "Zutaten für 4 Personen\n",
            "1 Bund Vogelmiere  \n",
            "(Wildkraut)\n",
            "260 ml Geflügelbrühe\n",
            "1,5 g Agar-Agar (pflanzliche \n",
            "Gelatine)\n",
            "50 ml Sahne\n",
            "1 Blatt Gelatine\n",
            "Salz, Pfeffer\n",
            "10 Kartoffeln (La Ratte)\n",
            "5 EL Olivenöl extra vergine\n",
            "2 EL Rotweinessig\n",
            "4 Scheiben rustikales \n",
            "WeiSSbrot\n",
            "4 Knoblauchzehen\n",
            "8 EL Tomatenkonfitüre \n",
            "mit Fenchel und Anis \n",
            "2 Makrelen\n",
            "100 ml Vinaigrette\n",
            "12 Schalotten\n",
            "2 EL Butter\n",
            "20 g Risottoreis\n",
            "weiSSer Balsamicoessig\n",
            "2 Bund Brunnenkresse\n"
          ]
        }
      ],
      "source": [
        "for block in all_text_blocks:\n",
        "    if block['page'] == index_single_recipe + 1:\n",
        "        print(block['text']) # every text is a new line on the page"
      ]
    },
    {
      "cell_type": "markdown",
      "metadata": {
        "id": "HT7dHFuC93Ai"
      },
      "source": [
        "Even tought the ingridients list at the bottom, this will likely not cause a problem for the llm. To highlight the problem with multiples recipes consider the multiple recipes page. Plotting just the first we line we can already see the problem:"
      ]
    },
    {
      "cell_type": "code",
      "execution_count": 41,
      "metadata": {
        "colab": {
          "base_uri": "https://localhost:8080/"
        },
        "id": "RkUf-RDA-Dat",
        "outputId": "dd616ce1-7e8f-4216-84d8-82f6a634d536"
      },
      "outputs": [
        {
          "name": "stdout",
          "output_type": "stream",
          "text": [
            "Salate & Vorspeisen\n",
            "28\n",
            "Vom Fenchel jeweils den Strunk ent­\n",
            "fernen, die Knollen waschen und un­\n",
            "ansehnliche Stellen ausschneiden. Die \n"
          ]
        }
      ],
      "source": [
        "i = 0\n",
        "for block in all_text_blocks:\n",
        "    if block['page'] == index_multiple_recipes + 1:\n",
        "        i += 1\n",
        "        print(block['text']) # every text is a new line on the page\n",
        "        if i == 5:\n",
        "            break"
      ]
    },
    {
      "cell_type": "markdown",
      "metadata": {
        "id": "QHz4Bmdi_Hw5"
      },
      "source": [
        "Comparing with the picture above, the first lines are just some lines of the last recipe on the bottom right. But we want the recipes in logical reading order. We split the coordinates in 'origin' into x and y coordinates."
      ]
    },
    {
      "cell_type": "code",
      "execution_count": 42,
      "metadata": {
        "colab": {
          "base_uri": "https://localhost:8080/",
          "height": 206
        },
        "id": "zn1IwN_3bV1_",
        "outputId": "cce63c0c-330a-4c6b-8d60-50f4d4f6543a"
      },
      "outputs": [
        {
          "data": {
            "text/html": [
              "<div>\n",
              "<style scoped>\n",
              "    .dataframe tbody tr th:only-of-type {\n",
              "        vertical-align: middle;\n",
              "    }\n",
              "\n",
              "    .dataframe tbody tr th {\n",
              "        vertical-align: top;\n",
              "    }\n",
              "\n",
              "    .dataframe thead th {\n",
              "        text-align: right;\n",
              "    }\n",
              "</style>\n",
              "<table border=\"1\" class=\"dataframe\">\n",
              "  <thead>\n",
              "    <tr style=\"text-align: right;\">\n",
              "      <th></th>\n",
              "      <th>text</th>\n",
              "      <th>origin_x</th>\n",
              "      <th>origin_y</th>\n",
              "      <th>page</th>\n",
              "      <th>size</th>\n",
              "    </tr>\n",
              "  </thead>\n",
              "  <tbody>\n",
              "    <tr>\n",
              "      <th>0</th>\n",
              "      <td>MIT 500 REZEPTEN</td>\n",
              "      <td>200.801605</td>\n",
              "      <td>595.130798</td>\n",
              "      <td>1</td>\n",
              "      <td>23.0</td>\n",
              "    </tr>\n",
              "    <tr>\n",
              "      <th>1</th>\n",
              "      <td>FÜR JEDEN TAG</td>\n",
              "      <td>219.017609</td>\n",
              "      <td>622.270752</td>\n",
              "      <td>1</td>\n",
              "      <td>23.0</td>\n",
              "    </tr>\n",
              "    <tr>\n",
              "      <th>2</th>\n",
              "      <td>KOCHBUCH</td>\n",
              "      <td>200.891800</td>\n",
              "      <td>157.897400</td>\n",
              "      <td>1</td>\n",
              "      <td>36.0</td>\n",
              "    </tr>\n",
              "    <tr>\n",
              "      <th>3</th>\n",
              "      <td>2</td>\n",
              "      <td>298.123505</td>\n",
              "      <td>775.559265</td>\n",
              "      <td>2</td>\n",
              "      <td>9.0</td>\n",
              "    </tr>\n",
              "    <tr>\n",
              "      <th>4</th>\n",
              "      <td>Vorwort</td>\n",
              "      <td>39.586601</td>\n",
              "      <td>30.614380</td>\n",
              "      <td>2</td>\n",
              "      <td>8.0</td>\n",
              "    </tr>\n",
              "  </tbody>\n",
              "</table>\n",
              "</div>"
            ],
            "text/plain": [
              "                text    origin_x    origin_y  page  size\n",
              "0  MIT 500 REZEPTEN   200.801605  595.130798     1  23.0\n",
              "1      FÜR JEDEN TAG  219.017609  622.270752     1  23.0\n",
              "2           KOCHBUCH  200.891800  157.897400     1  36.0\n",
              "3                  2  298.123505  775.559265     2   9.0\n",
              "4            Vorwort   39.586601   30.614380     2   8.0"
            ]
          },
          "execution_count": 42,
          "metadata": {},
          "output_type": "execute_result"
        }
      ],
      "source": [
        "import pandas as pd\n",
        "text = []\n",
        "origin_x = []\n",
        "origin_y = []\n",
        "page = []\n",
        "size = []\n",
        "for block in all_text_blocks:\n",
        "    text.append(block['text'])\n",
        "    origin_x.append(block['origin'][0])\n",
        "    origin_y.append(block['origin'][1])\n",
        "    page.append(block['page'])\n",
        "    size.append(block['size'])\n",
        "\n",
        "df = pd.DataFrame({'text' : text, 'origin_x' : origin_x, 'origin_y' : origin_y, 'page' : page, 'size' : size})\n",
        "df.head()"
      ]
    },
    {
      "cell_type": "markdown",
      "metadata": {
        "id": "spjRmt07DPUT"
      },
      "source": [
        "Now we split each page into 3 parts 'left', 'middle' and 'right'. This is decided by the values of x and the width of the page. Note that the pages are all of the same size."
      ]
    },
    {
      "cell_type": "code",
      "execution_count": 43,
      "metadata": {
        "id": "XQC_YrgTDFvf"
      },
      "outputs": [],
      "source": [
        "page = doc[0]\n",
        "page_height = page.rect.height\n",
        "page_width = page.rect.width\n",
        "splitter_num = [page_width/3, page_width/2, page_width]\n",
        "splitter_cat = ['left','middle','right']"
      ]
    },
    {
      "cell_type": "code",
      "execution_count": 44,
      "metadata": {
        "id": "Fa00xSDxzmfz"
      },
      "outputs": [],
      "source": [
        "# function which assign 'left', 'middle' or 'right on dataframe depending on origin_x value\n",
        "def get_position(x):\n",
        "    if 0 <= x <= splitter_num[0]:\n",
        "        return splitter_cat[0]\n",
        "    elif splitter_num[0] < x <= splitter_num[1]:\n",
        "        return splitter_cat[1]\n",
        "    elif splitter_num[1] < x <= splitter_num[2]:\n",
        "        return splitter_cat[2]\n",
        "    else:\n",
        "        raise ValueError(f\"x={x} is out of bounds for the defined splitter range.\")\n",
        "\n",
        "df['position'] = df['origin_x'].apply(get_position)"
      ]
    },
    {
      "cell_type": "markdown",
      "metadata": {
        "id": "_wp4HVmwEOB_"
      },
      "source": [
        "Let us test this on our multiple recipe page"
      ]
    },
    {
      "cell_type": "code",
      "execution_count": 45,
      "metadata": {
        "id": "89bvCMyW2Sra"
      },
      "outputs": [],
      "source": [
        "dashed_line = \"-\" * 100 # create dashed line for structured output"
      ]
    },
    {
      "cell_type": "code",
      "execution_count": 46,
      "metadata": {
        "colab": {
          "base_uri": "https://localhost:8080/"
        },
        "id": "-LemVlGD1KAx",
        "outputId": "52f4e53f-5da9-42b6-d20f-d63d2acad518"
      },
      "outputs": [
        {
          "name": "stdout",
          "output_type": "stream",
          "text": [
            "Position: left\n",
            "\n",
            "Möhre und Kohlrabi schälen, Sellerie put- 9.0\n",
            "zen und waschen, alles in sehr kleine Wür- 8.996349334716797\n",
            "fel schneiden. Die Champignons putzen  9.04553508758545\n",
            "und ebenfalls in kleine ­Würfel schneiden.  9.0\n",
            "Den Spargel falls nötig im unteren Drittel  9.0\n",
            "schälen, die Enden ab­schneiden, Spargel  9.0\n",
            "waschen und in 2 cm lange Stücke schnei- 9.0\n",
            "den, dabei die Köpfe ganz lassen. Die To- 9.0\n",
            "mate mit heißem Wasser überbrühen,  9.089554786682129\n",
            "mit kaltem Wasser ab­schrecken und die  9.0\n",
            "Haut abziehen. Die Tomate erst halbieren,  9.0\n",
            "die Kerne entfernen und dann in Würfel  9.007646560668945\n",
            "schneiden. Mit 3 EL ­Mayonnaise und Ket- 9.0\n",
            "chup verrühren, mit Salz, Pfeffer und 1 Pri- 8.976218223571777\n",
            "se Zucker abschmecken. 9.0\n",
            "Für die Vinaigrette Essig, Salz, Pfeffer  9.0\n",
            "und 1 Prise Zucker verrühren und die rest- 9.0\n",
            "liche Mayonnaise unterziehen. 9.0\n",
            "Die Champignons in einer Pfanne mit  9.0\n",
            "Butter leicht anbraten und herausnehmen.  8.959006309509277\n",
            "Den Spargel in die Pfanne geben und biss- 9.0\n",
            "fest dünsten. Möhre, Sellerie und Kohl­rabi  8.979025840759277\n",
            "in reichlich kochendem Salzwasser etwa  9.0\n",
            "3 Minuten garen. Gut abtropfen lassen und  8.967540740966797\n",
            "mit Salz und Pfeffer würzen. Mit der Vinai- 9.0\n",
            "grette vermischen. 9.0\n",
            "Das Gemüse auf Tellern anrichten. Den  8.935821533203125\n",
            "Lachs in ca. 1 cm dicke Streifen schneiden  9.0\n",
            "und auf das Gemüse legen, mit der Toma- 9.0\n",
            "tensauce beträufeln und mit Garten­kresse  8.968344688415527\n",
            "garnieren.  9.0\n",
            "Weinempfehlung 8.75\n",
            "Hochheimer Riesling Kabinett trocken,  9.0\n",
            "Rheingau 9.0\n",
            "Kartoffel-Gemüse-Salat  14.0\n",
            "Zubereitungszeit: 45 Minuten   8.0\n",
            "plus 5 Stunden Ziehzeit 8.0\n",
            "Zutaten für 4 Personen 7.800000190734863\n",
            "800 g festkochende Kartoffeln  8.0\n",
            "4 groSSe Zwiebeln  8.0\n",
            "je 1 rote, gelbe und grüne Paprika- 8.0\n",
            "schote  8.0\n",
            "2–4 Knoblauchzehen  8.0\n",
            "2 Fleischtomaten  8.0\n",
            "250 ml Olivenöl extra nativ  8.0\n",
            "Der gute Tipp  12.0\n",
            "Warum nicht lieber eine fertige Salatsauce als eine selbst gemachte Vinaigrette?   9.0\n",
            "Ganz einfach, weil sich der kleine Einsatz lohnt. Neben Essig und Öl verbergen  9.0\n",
            "sich in Fertigsaucen meist reichlich Zucker, Verdickungsmittel und Geschmacks- 9.0\n",
            "verstärker – aber keine gartenfrischen Zutaten, die den Salat aro­matisch verfei- 9.0\n",
            "nern. Wer gerne Salat isst und Zeit sparen will, kann die im Rezept angegebene  9.0\n",
            "Menge für Vinaigrette zum Beispiel verdreifachen und die restliche Sauce in ein  9.0\n",
            "kleines Schraubglas füllen.  9.0\n",
            "----------------------------------------------------------------------------------------------------\n",
            "Position: middle\n",
            "\n",
            "27 9.0\n",
            "Salz, Pfeffer  8.0\n",
            "2 Zweige Thymian  8.0\n",
            "125 ml WeiSSwein  8.0\n",
            "1 EL Balsamicoessig  8.0\n",
            "2–3 EL WeiSSweinessig  8.0\n",
            "1 Bund Basilikum  8.0\n",
            "Die Kartoffeln waschen, schälen und in  9.060297966003418\n",
            "große Würfel schneiden. Die Zwiebeln  9.089554786682129\n",
            "schälen und vierteln.  9.0\n",
            "Die Paprikaschoten waschen, halbie­ 9.029451370239258\n",
            "ren, Stiele, Kerne sowie Trennwände  9.089554786682129\n",
            "entfer­nen und in Würfel schneiden. Die  9.05274486541748\n",
            "Knoblauchzehen schälen und fein hacken.  9.0\n",
            "Die Tomaten kurz mit kochendem Was- 9.08425521850586\n",
            "ser über­brühen, häuten und halbieren, die  8.971203804016113\n",
            "Kerne entfernen und die Tomatenhälften in  8.926197052001953\n",
            "kleine Stücke schneiden.  9.0\n",
            "In einem Schmortopf das Olivenöl er­ 9.0\n",
            "hitzen. Zuerst die Zwiebeln und den Knob- 9.0\n",
            "lauch darin glasig dünsten, dann die Kar- 9.0\n",
            "toffel- ­und die Paprika­würfel zugeben. Mit  8.99639892578125\n",
            "Salz und Pfeffer würzen und die Thymian- 9.0\n",
            "zweige zufügen. Mit dem Weißwein über- 9.0\n",
            "gießen und zugedeckt bei schwacher Hitze  8.953530311584473\n",
            "etwa 30 Minuten garen. Nach 10 Minuten  9.0\n",
            "Garzeit die Tomaten unter das Gemüse mi- 8.98248291015625\n",
            "schen und fertig garen.  9.0\n",
            "Die Gemüsemischung mit den beiden  9.0\n",
            "Essig­sorten, Salz und Pfeffer abschme- 9.07989501953125\n",
            "cken und bei Zimmertemperatur abkühlen  8.953530311584473\n",
            "lassen (nicht im Kühlschrank, sonst leidet  9.0\n",
            "das feine Aroma). Etwa 5 Stunden durch- 9.0\n",
            "ziehen lassen.  9.0\n",
            "Zum Servieren das Basilikum waschen  8.970401763916016\n",
            "und die Blättchen grob hacken. Den Ge- 9.026761054992676\n",
            "müsesalat mit dem Basilikum bestreuen  9.0\n",
            "und servieren.  9.0\n",
            "Weinempfehlung 8.75\n",
            "Sauvignon Blanc trocken, Südafrika 9.0\n",
            "Weiße Bohnen mit   14.0\n",
            "Räucherforelle  14.0\n",
            "Zubereitungszeit: 20 Minuten 8.0\n",
            "Zutaten für 4 Personen  7.800000190734863\n",
            "1 Dose weiSSe Bohnen (425 g) 8.0\n",
            "1 unbehandelte Zitrone  8.0\n",
            "1 Bund glatte Petersilie  8.0\n",
            "----------------------------------------------------------------------------------------------------\n",
            "Position: right\n",
            "\n",
            "Salate & Vorspeisen 8.0\n",
            "1 Knoblauchzehe  8.0\n",
            "1 rote Zwiebel  8.0\n",
            "3–4 EL Olivenöl  8.0\n",
            "Salz, Pfeffer  8.0\n",
            "2 geräucherte Forellenfilets  8.0\n",
            "Die Bohnen in einem Sieb mit heißem Was- 8.96894645690918\n",
            "ser über­gießen und abtropfen lassen. Die  9.0\n",
            "Zitrone heiß abwa­schen und ca. 2 TL Zes- 9.0\n",
            "ten abziehen. Von einer Hälfte den Saft  9.06417179107666\n",
            "auspressen. Die Petersilie waschen, tro- 9.0192289352417\n",
            "cken tupfen und grob hacken. Knoblauch  9.0\n",
            "und Zwiebel schälen und die Zwiebel fein  9.0\n",
            "würfeln.  9.0\n",
            "Die Bohnen in eine Schüssel geben. Zes-  8.909544944763184\n",
            "ten, Zitronensaft, Petersilie und Öl mit den  9.0\n",
            "Bohnen vermischen, Zwiebelwürfel dazu- 9.0\n",
            "geben und Knoblauch dazupressen, mit  9.05016040802002\n",
            "Salz und Pfeffer abschmecken.  9.0\n",
            "Den Salat mit den Forellenfilets an- 9.089554786682129\n",
            "richten.  9.0\n",
            "Weinempfehlung 8.75\n",
            "Silvaner Kabinett trocken, Franken 9.0\n",
            "  8.0\n",
            "Bohnensalat mit   14.0\n",
            "Kapern 14.0\n",
            "Zubereitungszeit: 30 Minuten   8.0\n",
            "plus 1 Stunde Ziehzeit 8.0\n",
            "Zutaten für 4 Personen 7.800000190734863\n",
            "500 g dünne grüne Bohnen   8.0\n",
            "(Buschbohnen)  8.0\n",
            "2 mittelgroSSe Zucchini  8.0\n",
            "Saft von 1 Zitrone  8.0\n",
            "2 kleine rote Zwiebeln  8.0\n",
            "Salz  8.0\n",
            "3 EL Sherryessig  8.0\n",
            "2 EL Balsamicoessig  8.0\n",
            "8 EL Olivenöl  8.0\n",
            "Pfeffer  8.0\n",
            "Zucker  8.0\n",
            "2–3 EL Kapern  8.0\n",
            "Die Bohnen waschen und halbieren. Zu­ 9.036675453186035\n",
            "cchini waschen und in sehr dünne Schei- 9.0\n",
            "ben hobeln. In eine Schüssel geben und  9.0\n",
            "mit dem Saft der Zitrone mischen. Die  9.089554786682129\n",
            "­Zwiebeln schälen und in sehr feine Ringe  9.0\n",
            "hobeln. Salzwasser in einem Topf zum Ko- 9.0\n",
            "chen bringen und die Bohnen darin etwa  9.0\n",
            "15 Minuten bissfest garen.  9.0\n",
            "Für das Dressing Sherryessig, Balsa- 9.0\n",
            "mico und Olivenöl vermischen und mit Salz,  8.916513442993164\n",
            "Pfeffer und Zucker herzhaft abschmecken.  8.96718978881836\n",
            "Die Bohnen abgießen, gut abtropfen las- 9.010443687438965\n",
            "sen und heiß mit dem Dressing mischen.  9.0\n",
            "Zwiebeln, Kapern und Zuc­chini unterhe- 9.05696964263916\n",
            "ben und durchziehen lassen, bis der ­Salat  9.0\n",
            "abgekühlt ist.  9.0\n",
            "Weinempfehlung 8.75\n",
            "Terre di Tuffi IGT, Italien 9.0\n",
            "----------------------------------------------------------------------------------------------------\n"
          ]
        }
      ],
      "source": [
        "for split in splitter_cat:\n",
        "    print(f'Position: {split}\\n')\n",
        "    for _, text in df[(df['position'] == split) & (df['page'] == index_multiple_recipes)][['text','size']].iterrows():\n",
        "        print(text['text'], text['size']) # plot text and size\n",
        "    print(dashed_line)"
      ]
    },
    {
      "cell_type": "markdown",
      "metadata": {
        "id": "dT52BzX7E2O3"
      },
      "source": [
        "We see that this workes quite well and the text is in a chronological order. In this way we will now restructure ever page. Moreover, we can make an important observation: the recipe header have text size 14. In this way we can identify header via the text size on this, and hopefully every other, page. To identify the header, we introduce the token [HEAD] to split the recipes. From the pictures above, we also see that single recipe pages have bigger sizes that multiple recipe pages. Let us check the size of this recipe as well. We only print the middle part as this contains the header"
      ]
    },
    {
      "cell_type": "code",
      "execution_count": 47,
      "metadata": {
        "colab": {
          "base_uri": "https://localhost:8080/"
        },
        "id": "fbosf90P4qQJ",
        "outputId": "5f440afc-da27-4f2e-e185-dc166715f468"
      },
      "outputs": [
        {
          "name": "stdout",
          "output_type": "stream",
          "text": [
            "Position: middle\n",
            "\n",
            "18 9.0\n",
            "Kartoffelsalat mit Makrele,   17.0\n",
            "Brunnenkresse, Tomatenkonfitüre  17.0\n",
            "Die Vogelmiere waschen, trocken schütteln, Blätter abzupfen und zusammen mit  9.0\n"
          ]
        }
      ],
      "source": [
        "print(f'Position: middle\\n')\n",
        "counter = 0\n",
        "for _, text in df[(df['position'] == 'middle') & (df['page'] == index_single_recipe + 1)][['text','size']].iterrows():\n",
        "    print(text['text'], text['size']) # plot text and size\n",
        "    counter += 1\n",
        "    if counter == 4:\n",
        "        break # break condition to only sample first few lines"
      ]
    },
    {
      "cell_type": "markdown",
      "metadata": {
        "id": "ckWozZvv5fUG"
      },
      "source": [
        "Hence, we see that for (this) single recipe page, the header has size 17. We do the following then: add the header tokens to every text with 14 <= size <= 17.  "
      ]
    },
    {
      "cell_type": "code",
      "execution_count": 48,
      "metadata": {
        "colab": {
          "base_uri": "https://localhost:8080/"
        },
        "id": "kJ9TYMdkUEuq",
        "outputId": "6346ddd9-d1b0-4eb0-da69-89b55f50a819"
      },
      "outputs": [
        {
          "data": {
            "text/plain": [
              "321"
            ]
          },
          "execution_count": 48,
          "metadata": {},
          "output_type": "execute_result"
        }
      ],
      "source": [
        "import numpy as np\n",
        "np.max(df['page'])"
      ]
    },
    {
      "cell_type": "code",
      "execution_count": 49,
      "metadata": {
        "id": "1viPj6PPTL4L"
      },
      "outputs": [],
      "source": [
        "document_sorted = []\n",
        "pages_num = []\n",
        "\n",
        "for page in range(np.max(df['page'])):  # loop through pages\n",
        "    page_text = ''\n",
        "    in_header = False  # tracks if we're currently inside a header block\n",
        "    for split in splitter_cat:  # loop through 'left', 'middle', 'right'\n",
        "        for _, row in df[(df['position'] == split) & (df['page'] == page)][['text', 'size']].iterrows():\n",
        "            text = row['text']\n",
        "            size = row['size']\n",
        "\n",
        "            if (size >= 14) & (size <= 17):\n",
        "                if not in_header:\n",
        "                    # start a header block\n",
        "                    page_text += \" [HEAD] \"\n",
        "                    in_header = True\n",
        "                page_text += f\"{text} \"\n",
        "            else:\n",
        "                if in_header:\n",
        "                    # close the header block\n",
        "                    in_header = False\n",
        "                page_text += f\"{text} \"\n",
        "\n",
        "    if in_header:\n",
        "        # close any unclosed header block at end of page\n",
        "        in_header = False\n",
        "\n",
        "    pages_num.append(str(page))  # keep track of page\n",
        "    document_sorted.append(page_text.strip())\n",
        "\n",
        "df_sorted = pd.DataFrame({'text': document_sorted, 'pages': pages_num})"
      ]
    },
    {
      "cell_type": "code",
      "execution_count": 50,
      "metadata": {
        "id": "TRXOyd7Dtax4"
      },
      "outputs": [],
      "source": [
        "import re\n",
        "def clean_text(text):\n",
        "    text = text.strip()  # Remove leading/trailing spaces\n",
        "    text = re.sub(r'\\s+', ' ', text)  # Replace multiple spaces/newlines with a single space\n",
        "    text = re.sub(r'\\s([?.!\"])', r'\\1', text)  # Remove space before punctuation\n",
        "    return text"
      ]
    },
    {
      "cell_type": "code",
      "execution_count": 51,
      "metadata": {
        "id": "J1VGVH7SXPiP"
      },
      "outputs": [],
      "source": [
        "df_sorted['text'] = df_sorted['text'].apply(lambda x : clean_text(x))"
      ]
    },
    {
      "cell_type": "code",
      "execution_count": 52,
      "metadata": {
        "colab": {
          "base_uri": "https://localhost:8080/",
          "height": 105
        },
        "id": "0RRBIdBWwKcu",
        "outputId": "cb7191ba-fce9-4c28-de7c-e8e650696ff2"
      },
      "outputs": [
        {
          "data": {
            "text/plain": [
              "'Salate & Vorspeisen [HEAD] Herbstlicher Feldsalat Zubereitungszeit: 45 Minuten Zutaten für 4 Personen 400 g Kürbis 100 g Feldsalat 3 EL Kürbiskerne 6 EL Pflanzenöl Salz, Pfeffer 1 EL brauner Zucker 3 EL Weinessig Den Kürbis schälen und in schmale \\xadSpal\\xadten schneiden. Den Feldsalat verlesen, \\xadwaschen und trocken schleudern. Die Kürbiskerne ohne Zugabe von Fett in einer Pfanne an- rösten. In einer Pfanne 4 EL Öl erhitzen, die Kürbis\\xadspalten bei geringer Hitze auf je- der Seite 3 Minuten anbraten und mit Salz, Pfeffer und Zu\\xadcker würzen. Mit 2 EL Essig ablöschen und zugedeckt fertig dünsten. Aus der Pfanne nehmen und abkühlen las- sen. Aus 1 EL Essig, 2 EL Öl, Salz und Pfef- fer eine Vinaigrette rühren und mit dem Feldsalat vermengen. Den Salat auf Tellern anrichten, dar- auf die Kürbis\\xadspalten legen und mit den gerösteten Kernen bestreuen. Weinempfehlung Grauburgunder Q.b.A. trocken, Baden [HEAD] Feldsalat mit getrockneten Datteln Zubereitungszeit: 45 Minuten Zutaten für 4 Personen 100 g Feldsalat 1 kleiner Fenchel mit etwas frischem Grün 2 mittelgroSSe Chicorée 6 frische Datteln 1 rosa Grapefruit 2 unbehandelte Orangen 3–4 EL gestiftelte Mandeln 1 kleine reife Avocado 1 unbehandelte Zitrone 6 EL Olivenöl 1 EL WeiSSweinessig 1 EL Rotisseur-Senf (grobkörniger Senf) 2 EL Akazienhonig 2 EL Schnittlauchröllchen Salz, Pfeffer Den Feldsalat verlesen, mehrfach gründ- lich waschen und trocken schleudern. Den Fenchel halbieren, den Strunk keilförmig herausschneiden, eine Fenchelhälfte in dünne Scheiben schneiden und das Fen- chelgrün fein hacken. Die zweite Fenchel- hälfte wird nicht benötigt. Den Chicorée halbieren, den Strunk herausschneiden, die Blätter waschen und in 1 bis 2 cm \\xadbreite Streifen \\xadschneiden. 26 Die Datteln entkernen und in kleine Würfel schneiden. Grapefruit und 1 \\xadOrange filetieren, dabei den Saft auffangen und beiseitestellen. Die Mandeln in einer kleinen Pfanne ohne Zugabe von Fett bei schwacher Hitze anrösten. Die Avocado halbieren, den Kern auslösen, das Frucht- fleisch stückchenweise herauslöffeln. Vor- sichtig alles, bis auf den aufgefangenen Saft sowie die Mandeln, miteinan\\xadder ver- mengen. Orange und Zitrone heiß abwaschen und von beiden jeweils etwa 2 EL Schale abreiben (Zesten), dann die Früchte aus- pressen. Orangen-\\xad und Zitronen\\xadzesten mit dem Saft von 1 Orange und ½ Zitrone so- wie dem beim Filetieren auf\\xadgefangenen Saft und dem Olivenöl, Essig, Senf, Honig, Schnittlauch sowie Salz und Pfeffer zu ei- ner Vinaigrette mischen. Den Salat vor- sichtig mit der Vinaigrette mischen und mit den Mandeln \\xadbestreuen. Weinempfehlung Chardonnay trocken, Chile [HEAD] Rucola mit Birne und Roquefort Zubereitungszeit: 35 Minuten Zutaten für 4 Personen 1 Bund Rucola (möglichst mit groSSen, runden Blättern) 1 Bund Brunnenkresse 2 reife, aromatische Birnen (z. B. Williams Christ) ½ TL Korianderkörner 50 g Butter 1 TL brauner Zucker 2 EL Balsamicoessig Salz, Pfeffer 125 g Roquefort Rucola und die Brunnenkresse verlesen, gründlich waschen, die harten \\xadgröberen Stiele entfernen. Die Salate trocken schleu- dern und auf Tellern anrichten. Die Bir- nen schälen, vierteln oder achteln und die Kerngehäuse aus\\xadschneiden. Die Korian- derkörner im Mörser zerstoßen. Die Hälfte der Butter in einer Pfanne erhitzen, den Zucker und den Koriander darin verrühren. Die Birnen in die \\xadPfanne legen und unter Wenden braten, bis sie glasiert sind. Auf den \\xadSalat legen. Die rest- liche Butter in der Pfanne schmelzen las- sen, den Balsamicoessig einrüh\\xadren, mit etwas Salz und Pfeffer abschmecken und über den Salat geben. Den Roquefort zer- bröckeln und über den Salat streuen. Lau- warm servieren. Weinempfehlung Weißburgunder Q.b.A. trocken, Pfalz [HEAD] Romanasalat mit Senf-Vinaigrette Zubereitungszeit: 35 Minuten Zutaten für 4 Personen 4 Scheiben Toastbrot 2 EL Butter Salz 1 mittelgroSSer RomanaSalat 5 EL Olivenöl 2 TL Dijon-Senf 2 EL Joghurt 2 TL frisch gepresster Zitronensaft 40 g geriebener Parmesan Pfeffer Zucker 2 mittelgroSSe rote Zwiebeln 1 EL fein gehackter Koriander 1 EL fein gehackte glatte Petersilie Das Toastbrot entrinden und in ca. 1 cm große Würfel schneiden. Die Butter in \\xadeiner beschichteten Pfanne erhitzen und das Toastbrot darin von allen Seiten goldbraun braten, leicht salzen und auf \\xadKüchenkrepp auskühlen lassen. Den Romanasalat vom groben Strunk befreien, in 2 cm \\xadbreite Streifen schneiden, waschen und trocken schleudern. Das Olivenöl tröpfchenweise mit einem Schneebesen zum Senf rühren, Joghurt zugeben, mit Zitronensaft und Parme\\xadsan verfeinern, mit Salz, Pfeffer und 1 Prise Zucker abschmecken. Die Zwiebeln schä- len und in hauchdünne Scheiben schneiden. Romanasalat, Zwiebeln und Vinai\\xadgrette vermengen, mit den Kräutern \\xadbestreuen und portionsweise auf Tellern verteilen. Mit den Croûtons bestreut servieren. Weinempfehlung Sancerre Blanc trocken, Frankreich [HEAD] Lauwarmer Gemüse- salat mit Lachs Zubereitungszeit: 45 Minuten Zutaten für 4 Personen 1 Möhre ½ Kohlrabi 3 Stangen Staudensellerie 3 Champignons 250 g grüner Spargel 1 Tomate 6 EL Mayonnaise 1 EL Tomatenketchup Salz, Pfeffer Zucker 1 EL WeiSSweinessig 1 EL Butter 200 g geräucherter Lachs 1 Kästchen Gartenkresse'"
            ]
          },
          "execution_count": 52,
          "metadata": {},
          "output_type": "execute_result"
        }
      ],
      "source": [
        "df_sorted['text'].iloc[26]"
      ]
    },
    {
      "cell_type": "markdown",
      "metadata": {
        "id": "8ptjlejgV4tj"
      },
      "source": [
        "After all this manipulation, we can ask the llm the same prompt as above for our two example indices just to be sure that nothing was messed up."
      ]
    },
    {
      "cell_type": "code",
      "execution_count": 53,
      "metadata": {
        "colab": {
          "base_uri": "https://localhost:8080/"
        },
        "id": "6eMJ4_kcU9ZB",
        "outputId": "19c98fca-e20d-4a6f-89fd-729ca707f980"
      },
      "outputs": [
        {
          "name": "stdout",
          "output_type": "stream",
          "text": [
            "**Rezeptname**: Kartoffelsalat mit Makrele, Brunnenkresse, Tomatenkonfitüre\n",
            "\n",
            "**Zutaten**:\n",
            "* 1 Bund Vogelmiere (Wildkraut)\n",
            "* 260 ml Geflügelbrühe\n",
            "* 1,5 g Agar-Agar (pflanzliche Gelatine)\n",
            "* 50 ml Sahne\n",
            "* 1 Blatt Gelatine\n",
            "* Salz, Pfeffer\n",
            "* 10 Kartoffeln (La Ratte)\n",
            "* 5 EL Olivenöl extra vergine\n",
            "* 2 EL Rotweinessig\n",
            "* 4 Scheiben rustikales Weißbrot\n",
            "* 4 Knoblauchzehen\n",
            "* 8 EL Tomatenkonfitüre mit Fenchel und Anis\n",
            "* 2 Makrelen\n",
            "* 100 ml Vinaigrette\n",
            "* 12 Schalotten\n",
            "* 2 EL Butter\n",
            "* 20 g Risottoreis\n",
            "* weißer Balsamicoessig\n",
            "* 2 Bund Brunnenkresse\n",
            "\n",
            "**Zubereitung**:\n",
            "1. Vogelmiere waschen, trocken schütteln, Blätter abzupfen und mit 200 ml Geflügelbrühe kochen. Fein mixen, Agar-Agar und Sahne zugeben und aufkochen. Gelatine einweichen, ausdrücken und in der Vogelmierenmasse auflösen. Mit Salz und Pfeffer abschmecken und ca. 2 cm hoch in eine Form gießen. Kühl stellen.\n",
            "2. Kartoffeln waschen und ungeschält gar kochen. Kurz auskühlen lassen, pellen und in Scheiben schneiden. Mit Olivenöl und Rotweinessig marinieren.\n",
            "3. Brotscheiben zurechtschneiden. Knoblauch schälen und mit Brot in Olivenöl kross braten. Mit Tomatenkonfitüre bestreichen.\n",
            "4. Makrelen filetieren und in Streifen schneiden. In Olivenöl auf der Hautseite kurz anbraten, mit Vinaigrette begießen. 8 Streifen beiseitestellen, restliche Streifen zurechtschneiden und Brotstücke damit belegen. Warm stellen.\n",
            "5. Schalotten und Knoblauch würfeln, in Butter anschwitzen. Risottoreis zugeben, mit Geflügelbrühe aufgießen und köcheln lassen, bis der Reis weich ist. Mixen und mit Balsamicoessig und Salz abschmecken.\n",
            "6. Brunnenkresse waschen und klein zupfen. Vogelmierencreme in Würfel schneiden und kurz erwärmen.\n",
            "7. Kartoffelsalat auf Tellern anrichten. Makrelenstreifen darauf verteilen. Vogelmierenwürfel seitlich platzieren. Risotto-Schalotten-Creme und Tomatenkonfitüre auf die Teller geben und das Brot darauf setzen. Mit Brunnenkresse verzieren.\n",
            "\n",
            "**Seite**: 18\n"
          ]
        }
      ],
      "source": [
        "query = 'Erzähl mit etwas über das Rezept auf der Seite.'\n",
        "context = df_sorted['text'].iloc[index_single_recipe + 1] + '\\n\\n' + df_sorted['pages'].iloc[index_single_recipe + 1]\n",
        "output = chain_example.invoke({'input_prompt' : query, 'context' : context}).content\n",
        "print(output)"
      ]
    },
    {
      "cell_type": "code",
      "execution_count": 55,
      "metadata": {
        "colab": {
          "base_uri": "https://localhost:8080/"
        },
        "id": "rUneD6p3WZh4",
        "outputId": "3bdebee7-be5f-415c-ec8f-b9b5f02e19b1"
      },
      "outputs": [
        {
          "name": "stdout",
          "output_type": "stream",
          "text": [
            "**Rezeptname**: Feldsalat mit Rote Bete\n",
            "\n",
            "**Zutaten**: 200 g vakuumverpackte Rote Bete, 200 g Feldsalat, 50 g Walnüsse, 5 EL Walnussöl, 1 EL Rotweinessig, 1 EL Balsamicoessig, Salz, Pfeffer\n",
            "\n",
            "**Zubereitung**:\n",
            "1. Rote Bete in 1 cm große Würfel schneiden.\n",
            "2. Feldsalat verlesen, gründlich waschen und trocken schleudern.\n",
            "3. Walnüsse klein schneiden.\n",
            "4. In einer Schüssel die Rote Bete mit Feldsalat und Nüssen mischen.\n",
            "5. Für die Vinaigrette Walnussöl mit Rotwein- und Balsamicoessig vermengen. Mit Salz und Pfeffer abschmecken und vorsichtig mit dem Salat vermengen.\n",
            "\n",
            "**Seite**: Nicht angegeben\n",
            "\n",
            "**Rezeptname**: Sellerie-Salat\n",
            "\n",
            "**Zutaten**: 750 g Knollensellerie, Salz, 2 Schalotten, 3 EL Weißweinessig, 150 g saure Sahne, 2 EL Pflanzenöl, Pfeffer\n",
            "\n",
            "**Zubereitung**:\n",
            "1. Den Sellerie waschen, schälen und vierteln.\n",
            "2. Die Sellerieviertel in einem Topf mit kaltem Wasser bedecken, salzen und aufkochen. Den Sellerie bissfest garen.\n",
            "3. Die Schalotten schälen und in feine Scheiben schneiden.\n",
            "4. Aus dem Essig, saurer Sahne, Öl, Salz und Pfeffer eine Marinade rühren. Die Schalottenscheiben zu Ringen aufblättern und unter die Marinade mischen.\n",
            "5. Die gegarten Selleriestücke abgießen und noch heiß in ca. 5 mm dicke Scheiben schneiden. Unter die Marinade heben und durchmischen.\n",
            "6. 2 bis 3 Stunden durchziehen lassen, dabei ab und zu umrühren.\n",
            "\n",
            "**Seite**: 28\n",
            "\n",
            "**Rezeptname**: Winterlicher Fenchel-Orangen-Salat\n",
            "\n",
            "**Zutaten**: 2 Orangen, 2 Fenchel, Parmesan nach Belieben, 1 Handvoll entsteinte schwarze Oliven, 2–3 EL milder Obstessig, 4 EL neutrales Pflanzenöl, Salz, Pfeffer\n",
            "\n",
            "**Zubereitung**:\n",
            "1. Die Orangen mit einem scharfen Messer so schälen, dass auch die weiße Haut entfernt wird. Die Fruchtspalten zwischen den hellen Trennhäuten herausschneiden, dabei den Saft auffangen.\n",
            "2. Vom Fenchel jeweils den Strunk entfernen, die Knollen waschen und unansehnliche Stellen ausschneiden. Die Knollen mit einem Gurkenhobel sehr fein hobeln. Dann den Parmesan ebenso fein hobeln.\n",
            "3. Fenchel und Parmesan vorsichtig mit den Orangenfilets vermischen. Die Oliven halbieren und zum Salat geben.\n",
            "4. Aus dem Essig, dem aufgefangenen Orangensaft, dem Pflanzenöl, Salz und Pfeffer eine Salatsauce rühren, über den Fenchel-Orangen-Salat gießen und alles noch einmal behutsam vermischen.\n",
            "\n",
            "**Seite**: Nicht angegeben\n"
          ]
        }
      ],
      "source": [
        "query = 'Erzähl mit etwas über das Rezept auf der Seite.'\n",
        "context = df_sorted['text'].iloc[index_multiple_recipes + 1]\n",
        "output = chain_example.invoke({'input_prompt' : query, 'context' : context}).content\n",
        "print(output)"
      ]
    },
    {
      "cell_type": "markdown",
      "metadata": {
        "id": "lYhl7V3WWp1g"
      },
      "source": [
        "It works! But we are not quite finished yet as we want to split pages, containing multiple recipes, into single chunks. We flag such pages containing multiple recipes by search for duplicates of the word 'Zubereitungszeit''"
      ]
    },
    {
      "cell_type": "markdown",
      "metadata": {
        "id": "buWMzM9I-3qE"
      },
      "source": [
        "## Handling multiple recipes on a single page"
      ]
    },
    {
      "cell_type": "code",
      "execution_count": 56,
      "metadata": {
        "id": "mr6hnjgqWik1"
      },
      "outputs": [],
      "source": [
        "def get_duplicates(text, substring):\n",
        "    count = 0\n",
        "    for word in text.split():\n",
        "        if substring in word:\n",
        "            count += 1\n",
        "    return count\n",
        "\n",
        "df_sorted['duplicates'] = df_sorted['text'].apply(lambda x : get_duplicates(x, \"Zubereitungszeit:\"))"
      ]
    },
    {
      "cell_type": "markdown",
      "metadata": {
        "id": "-AHf-azkoLDa"
      },
      "source": [
        "Now we finally need to split the multiple recipe pages into single documents."
      ]
    },
    {
      "cell_type": "code",
      "execution_count": 57,
      "metadata": {
        "id": "_nvtnjgLm1_I"
      },
      "outputs": [],
      "source": [
        "df_single = df_sorted[df_sorted['duplicates'] == 0]\n",
        "df_multiple = df_sorted[df_sorted['duplicates'] > 0]"
      ]
    },
    {
      "cell_type": "code",
      "execution_count": 58,
      "metadata": {
        "id": "XSRST7NKoUCF"
      },
      "outputs": [],
      "source": [
        "split_recipes_page = []\n",
        "split_recipes = []\n",
        "for _, recipes in df_multiple.iterrows():\n",
        "    page_text = recipes['text']\n",
        "    page_number = recipes['pages']\n",
        "    page_text = page_text.split()\n",
        "    j = 0\n",
        "    for i, token in enumerate(page_text):\n",
        "        if (token == '[HEAD]') & (i != 0): # exclude empty list with i != 0\n",
        "            page_subset = page_text[j + 1 :i]\n",
        "            if \"Zubereitungszeit:\" in page_subset: # only want recipes and not the first string until first [HEAD] token\n",
        "                page_subset = \" \".join(page_subset)\n",
        "                split_recipes.append(page_subset) # add recipe in list\n",
        "                split_recipes_page.append(page_number)   # add page in list\n",
        "            j = i"
      ]
    },
    {
      "cell_type": "code",
      "execution_count": 59,
      "metadata": {
        "colab": {
          "base_uri": "https://localhost:8080/",
          "height": 206
        },
        "id": "gyJMcuhc7BeM",
        "outputId": "560dcd3b-8921-4a19-9a35-a5169664bd35"
      },
      "outputs": [
        {
          "data": {
            "text/html": [
              "<div>\n",
              "<style scoped>\n",
              "    .dataframe tbody tr th:only-of-type {\n",
              "        vertical-align: middle;\n",
              "    }\n",
              "\n",
              "    .dataframe tbody tr th {\n",
              "        vertical-align: top;\n",
              "    }\n",
              "\n",
              "    .dataframe thead th {\n",
              "        text-align: right;\n",
              "    }\n",
              "</style>\n",
              "<table border=\"1\" class=\"dataframe\">\n",
              "  <thead>\n",
              "    <tr style=\"text-align: right;\">\n",
              "      <th></th>\n",
              "      <th>text</th>\n",
              "      <th>pages</th>\n",
              "    </tr>\n",
              "  </thead>\n",
              "  <tbody>\n",
              "    <tr>\n",
              "      <th>0</th>\n",
              "      <td>Herbstlicher Feldsalat Zubereitungszeit: 45 Mi...</td>\n",
              "      <td>26</td>\n",
              "    </tr>\n",
              "    <tr>\n",
              "      <th>1</th>\n",
              "      <td>Feldsalat mit getrockneten Datteln Zubereitung...</td>\n",
              "      <td>26</td>\n",
              "    </tr>\n",
              "    <tr>\n",
              "      <th>2</th>\n",
              "      <td>Rucola mit Birne und Roquefort Zubereitungszei...</td>\n",
              "      <td>26</td>\n",
              "    </tr>\n",
              "    <tr>\n",
              "      <th>3</th>\n",
              "      <td>Romanasalat mit Senf-Vinaigrette Zubereitungsz...</td>\n",
              "      <td>26</td>\n",
              "    </tr>\n",
              "    <tr>\n",
              "      <th>4</th>\n",
              "      <td>Kartoffel-Gemüse-Salat Zubereitungszeit: 45 Mi...</td>\n",
              "      <td>27</td>\n",
              "    </tr>\n",
              "  </tbody>\n",
              "</table>\n",
              "</div>"
            ],
            "text/plain": [
              "                                                text pages\n",
              "0  Herbstlicher Feldsalat Zubereitungszeit: 45 Mi...    26\n",
              "1  Feldsalat mit getrockneten Datteln Zubereitung...    26\n",
              "2  Rucola mit Birne und Roquefort Zubereitungszei...    26\n",
              "3  Romanasalat mit Senf-Vinaigrette Zubereitungsz...    26\n",
              "4  Kartoffel-Gemüse-Salat Zubereitungszeit: 45 Mi...    27"
            ]
          },
          "execution_count": 59,
          "metadata": {},
          "output_type": "execute_result"
        }
      ],
      "source": [
        "df_multiple = pd.DataFrame({'text' : split_recipes, 'pages' : split_recipes_page})\n",
        "df_multiple.head()"
      ]
    },
    {
      "cell_type": "markdown",
      "metadata": {
        "id": "OtBRQ8H_9EIM"
      },
      "source": [
        "As a last part of this exercise we will put every single recipe from this book inside a single list, which is going to be our vector database. We also add pages to the recipes."
      ]
    },
    {
      "cell_type": "code",
      "execution_count": 60,
      "metadata": {
        "id": "2Jle4z_j7fFo"
      },
      "outputs": [],
      "source": [
        "df_final = pd.concat([df_single,df_multiple])\n",
        "documents = []\n",
        "for _, recipe in df_final[['text','pages']].iterrows():\n",
        "    recipe_on_page = f\"{recipe['text']} Seite {recipe['pages']}\"\n",
        "    documents.append(recipe_on_page)"
      ]
    },
    {
      "cell_type": "code",
      "execution_count": 61,
      "metadata": {
        "colab": {
          "base_uri": "https://localhost:8080/",
          "height": 105
        },
        "id": "ZMn-TZKC86sU",
        "outputId": "e4fbb433-6062-4965-d568-6ee501b5bae5"
      },
      "outputs": [
        {
          "data": {
            "text/plain": [
              "'Salate & Vorspeisen Zutaten für 4 Personen 1 Bund Vogelmiere (Wildkraut) 260 ml Geflügelbrühe 1,5 g Agar-Agar (pflanzliche Gelatine) 50 ml Sahne 1 Blatt Gelatine Salz, Pfeffer 10 Kartoffeln (La Ratte) 5 EL Olivenöl extra vergine 2 EL Rotweinessig 4 Scheiben rustikales WeiSSbrot 4 Knoblauchzehen 8 EL Tomatenkonfitüre mit Fenchel und Anis 2 Makrelen 100 ml Vinaigrette 12 Schalotten 2 EL Butter 20 g Risottoreis weiSSer Balsamicoessig 2 Bund Brunnenkresse 18 [HEAD] Kartoffelsalat mit Makrele, Brunnenkresse, Tomatenkonfitüre Die Vogelmiere waschen, trocken schütteln, Blätter abzupfen und zusammen mit 200 ml Geflügelbrühe kochen. Fein mixen, das Agar-Agar sowie die Sahne zu\\xadgeben und aufkochen. Die Gelatine in Wasser ein\\xadweichen, ausdrücken und in der Vogel- mierenmasse auflösen. Mit Salz und Pfeffer abschmecken und ca. 2 cm hoch in eine kleine Form gießen. Kühl stellen. Die Kartoffeln waschen und ungeschält gar kochen. Kurz auskühlen lassen, dann pellen und in gleichmäßige Scheiben schneiden. 3 EL Olivenöl mit Rotweinessig vermengen und die Kartoffelscheiben darin marinieren. Die Brotscheiben zu 4 gleich großen Rechtecken zurechtschneiden. 1 Knoblauch- zehe schälen und zusammen mit dem Brot in Olivenöl kross braten. Das Brot dann aus der Pfanne nehmen und mit 4 EL Tomatenkonfitüre bestreichen. Die Makrelen filetieren und in Streifen schneiden. In einer Pfanne in Olivenöl auf der Hautseite kurz anbraten, dann in eine Schüssel geben und mit der \\xadVinaigrette begießen. 8 Makrelenstreifen beiseitestellen. Die restlichen Streifen zurechtschnei- den, die Brotstücke damit belegen und warm stellen. Schalotten und den restlichen Knoblauch schälen und in feine Würfel schnei- den. In Butter anschwitzen. Den Risottoreis zugeben und mit 60 ml Geflügel\\xadbrühe aufgießen. Köcheln lassen, bis der Reis weich ist. Dann mixen und mit weißem \\xadBalsamicoessig und Salz abschmecken. Die Brunnenkresse waschen, trocken schütteln und klein zupfen. Die Vogelmie- rencreme in Würfel schneiden und kurz erwärmen. Den Kartoffelsalat auf Tellern anrichten. Die Makrelenstreifen darauf verteilen. Die Vogelmierenwürfel seitlich platzieren. Die Risotto-Schalotten-Creme und die Tomatenkonfitüre auf die Teller geben und das Brot darauf setzen. Mit Brunnen- kresse verzieren. Weinempfehlung Le Cléray Sauvignon, Frankreich Seite 18'"
            ]
          },
          "execution_count": 61,
          "metadata": {},
          "output_type": "execute_result"
        }
      ],
      "source": [
        "documents[18]"
      ]
    },
    {
      "cell_type": "markdown",
      "metadata": {
        "id": "5fJ4bWBJ-lFG"
      },
      "source": [
        "Doing that, notice that the index of documents no longer corresponds to the page in the pdf."
      ]
    },
    {
      "cell_type": "markdown",
      "metadata": {
        "id": "npOQst7N-wEW"
      },
      "source": [
        "# Embedding and retrieving documents"
      ]
    },
    {
      "cell_type": "markdown",
      "metadata": {},
      "source": [
        "Having prepared the text chucks, we are finally in a position to set up a RAG workflow. For a book like this, key matching retriever make a lot sense. For example, we might be asking for recipes which contain Paprika. This is a specific keyword which we want to look up in the text chunks. That's why we will install the BM25 retriever. On the other hand, we might be asking for mediteran recipes, so segmantic understanding is relevant as well, and FAISS is going to help us out there. In the end, an ensemble retriever is going to balanche the retrieved documents."
      ]
    },
    {
      "cell_type": "code",
      "execution_count": 62,
      "metadata": {},
      "outputs": [],
      "source": [
        "%%capture\n",
        "%pip install rank_bm25"
      ]
    },
    {
      "cell_type": "markdown",
      "metadata": {},
      "source": [
        "Set up the vector stores"
      ]
    },
    {
      "cell_type": "code",
      "execution_count": 63,
      "metadata": {
        "colab": {
          "base_uri": "https://localhost:8080/",
          "height": 496,
          "referenced_widgets": [
            "40cd29f37ddb480cabba1b644815c939",
            "45304e36827949aa8c9c2e674e11c282",
            "06e8086fda294e4fad3dcc74587479d7",
            "3399f28812134870b95bf4df0320a95c",
            "03f09be66c054a2e94a553b6253cafe3",
            "b6b94a248c624c1d8e105bb706ad08b0",
            "7039ad7f97e54f9ba611fdef16e3617b",
            "a26fb58abd364ce58fc9c6d5626d6db4",
            "21c7c7bf884642e38a504deaa404396a",
            "32c2947ffcfa48759183461f333e09d3",
            "ff35e3ff2c5c4598b4d478466e1e4d63",
            "f9a94259797f4be9b5c7de41a55f4eed",
            "671312514f9341779dc876e37e88b239",
            "2de6186faaa74f05bfec1ae7ed802c12",
            "37d3eb13dc344872bbae9339192c5953",
            "eaae140bff2f40b581dd5f9afca9b2c6",
            "9aa15a39579a41c5bb687ff7715b0264",
            "805b3c8c283e4d7f81f3f61715ca9985",
            "3fe3a9cb3ac64e5fa970c8254bb552ee",
            "4d003fe2530b4902b5be47599ae7083b",
            "9ae26c8c59834d48bb7d56103667d51b",
            "27f0937cb1ff4f0081edd3569a9cb46a",
            "24f75671c9b141f2a47c6abdbcfc7439",
            "f81bc191c7224b64807a549978f31c28",
            "5d2845e369754a82a239b8014c7538f3",
            "2fb6dfd4673844998e033ebdc132cbae",
            "4d5ac5880f094fa9a2afa9b9647f4c57",
            "39b79f1a9ea14154a9058c2fcdf44b4b",
            "c7df84a9d2dc4cd594ced327f5b56ff5",
            "fd42b35e1c0942d4aa6e6d5a9692fe68",
            "9e407c70d58545ba965d8fbd4b31e4f4",
            "21e614a76861461483833d43e404d61e",
            "f11a2efce9db4bef95f4b4ef58b1fcc3",
            "ea2450eb6d36409ea6ca50e4af7adf7c",
            "14a422b117ec404e8a81b12f9214e892",
            "f81e09294823406d8b3fc2ffd063501c",
            "6f7d5390ddb24d81aaa490c7a46edb32",
            "2d40724467af48359706503f3572d53a",
            "645ad5335b03425aa5c9e1dda60e5d91",
            "275437ca031b434bbe798a0202e76692",
            "9e08bfbd7ed142d0ab07bdea9fc2ed32",
            "dc0f00b0af114aa3975c948a5c7373bc",
            "c0fde7d0ee97429e8d771f2dbadc1a73",
            "929775e38a394d568e4062ca0813b1fc",
            "bc1fa94b3a0a4ac08d97d6b419fe9670",
            "d53ee564a77d480ea3d47954f3c48914",
            "dcebe343a5b24971a2827c427e9be01c",
            "57ddefd4a0a547f6a8567fea73a77e9b",
            "d2edbb4ce1564dd8b0bb9fc6ca4d52f1",
            "7d1e75ecda1c4b51885639837d7b90ed",
            "c22d18479bdb4c3cbcd12f33bda69d0f",
            "28f63d491efc4b67bd86a0dec604a338",
            "4cc2037008d94a0ca30e21ca7a9923b2",
            "48d1247d7a8946738807d19feb872bf6",
            "eb918cf5e1474a99a3e2917dc3961446",
            "4be37dc464a34b53a21b91a123266941",
            "e59c28cf0b624a509cd3a7cac94b1c68",
            "e35f3ff150af42e780b9018e07162447",
            "23539b2c0cf04bd998462ec73513f975",
            "c3c1b10ae6494c78b25833f8f23b075f",
            "0f10d2e852fd4e65beb7f4fddffa72aa",
            "cdcdefc29264405185860b0ce2970249",
            "bfdddd318f5d42de9a9e4a584ab0928a",
            "673e6271335241a2bf7fa949bac8f8ca",
            "5612d815b82644288979e648fd3003dc",
            "46e68856ce6f412a8a99a41dcaf89536",
            "5378c49ba93a4daa9862adc9d5a953f6",
            "130da72849e14423806c2c564a58df99",
            "0a55112599ee47419eb6f21a3a17f1bc",
            "1a80c62994014f909f6469bacb443a0b",
            "a13e6237b934431a90aa7128f1ebe128",
            "beddecdd3493453e8109f4c6bb610d49",
            "b3af0260da8a41dcbcbaf54db5050876",
            "1e272ec727fd42eeab579cb8c0f4734f",
            "964ff98a658747cd84e86ddd681d74a3",
            "533509fc0b234d13b13c363beffcbfde",
            "a0c0c0b0113a49f99ce3bb30d9e6c1b9",
            "260a3f8bbb984472b9d8db56199573a2",
            "68b91d9824e442568b5bc525fbb30ac6",
            "338d330188fa44e997b2303ebce0b991",
            "c1c4783f3da543aaab0b06dc015d9252",
            "6407c69b3e8747c98beb7a57e6c7a3f0",
            "bdd5295da95049eeab52dd513b03f113",
            "4bad9da1071e4e08adb5b5907fdf6758",
            "b6bd001409ee4d21a7cef9e259eabe94",
            "60542d0b8f6d4de09d88a8480a0a7e78",
            "d248283ec598472eae87dabc5513b67e",
            "a73e5163e46b4f35a4b88ddc50335124",
            "5d8d5578e5944d7c91739b09bb685b60",
            "5c83578ba8224a098a8cc69dd66dde69",
            "237d04cf18a2491496b432d53930a147",
            "3323fcdc136c4be28a335b6fcfdf18c6",
            "cc7f26f8be564a5eaefc832121e58a61",
            "6edec2b1b0134427a1c7d8f9afa76af3",
            "79150c15abfe42a7b741011e82434266",
            "420c2f11f6f64f459deac125df3f07e2",
            "cdb7299365fc406185d12c7c8d05f09a",
            "e3fc177a3c274d0fbea77feda85c4df0",
            "9d3a03f3749445cda7cb6762bb97260a",
            "d3b8f16b4e72485e86006bc332830539",
            "30ba6e28b4494fd1bee86461815ce8fe",
            "69b8d78526094589af370853125fc061",
            "c3f25d3187d14b7ab02922c201fa2ada",
            "0fae8ce8ef1c4fe595ccf0ff7c1992a0",
            "c23d325309c240b3a81596784831fd09",
            "f8d9dff59e544d3eb8f84de37b8eff47",
            "74f6b74b15374871be1b1378439e20d4",
            "0c91c4aeaa7940efb32bb979513aabec",
            "716d4f494b4e445f8ac232428e966f5e",
            "980c6cd840c84911b69003b303f2fa90"
          ]
        },
        "id": "TCA5wUqC9e_U",
        "outputId": "4bce2161-7e24-4659-da4c-8caea2a72e3b"
      },
      "outputs": [
        {
          "name": "stderr",
          "output_type": "stream",
          "text": [
            "C:\\Users\\dholz\\AppData\\Local\\Temp\\ipykernel_25144\\4211503996.py:2: LangChainDeprecationWarning: The class `HuggingFaceEmbeddings` was deprecated in LangChain 0.2.2 and will be removed in 1.0. An updated version of the class exists in the :class:`~langchain-huggingface package and should be used instead. To use it run `pip install -U :class:`~langchain-huggingface` and import as `from :class:`~langchain_huggingface import HuggingFaceEmbeddings``.\n",
            "  embedding_model = HuggingFaceEmbeddings(model_name='thenlper/gte-small')\n"
          ]
        }
      ],
      "source": [
        "from langchain.embeddings.huggingface import HuggingFaceEmbeddings\n",
        "embedding_model = HuggingFaceEmbeddings(model_name='thenlper/gte-small')\n",
        "\n",
        "from langchain.vectorstores import FAISS\n",
        "# create vectorstore with FAISS\n",
        "db = FAISS.from_texts(documents, embedding_model)\n",
        "\n",
        "bm25_retriever = BM25Retriever.from_texts(documents)\n",
        "faiss_retriever = db.as_retriever()\n",
        "\n",
        "# set the number of results to return\n",
        "\n",
        "bm25_retriever.k = 10\n",
        "faiss_retriever.search_kwargs['k'] = 10\n",
        "\n",
        "# define a hybrid retriever that combines BM25 and FAISS with more weight on BM25\n",
        "hybrid_retriever = EnsembleRetriever(retrievers=[bm25_retriever, faiss_retriever], weights = [0.7, 0.3])"
      ]
    },
    {
      "cell_type": "markdown",
      "metadata": {},
      "source": [
        "## Simple retriever using LCEL"
      ]
    },
    {
      "cell_type": "code",
      "execution_count": 64,
      "metadata": {
        "id": "O9xGuH3ij_op"
      },
      "outputs": [],
      "source": [
        "from langchain.schema.runnable import RunnableParallel, RunnablePassthrough\n",
        "from langchain.schema.output_parser import StrOutputParser\n",
        "\n",
        "# Define the RAG chain that retrieves documents and generates an answer\n",
        "rag_chain_from_docs = (\n",
        "    RunnablePassthrough()\n",
        "    | prompt             \n",
        "    | llm\n",
        "    | StrOutputParser()\n",
        ")\n",
        "\n",
        "# RunnableParallel allows us to run multiple tasks in parallel and access their outputs\n",
        "rag_chain = RunnableParallel({\n",
        "    \"context\": hybrid_retriever,\n",
        "    \"input_prompt\": RunnablePassthrough()\n",
        "}).assign(\n",
        "    answer=rag_chain_from_docs\n",
        ")\n"
      ]
    },
    {
      "cell_type": "code",
      "execution_count": 65,
      "metadata": {},
      "outputs": [
        {
          "name": "stdout",
          "output_type": "stream",
          "text": [
            "**Rezeptname**: Lauwarmer Kartoffelsalat\n",
            "\n",
            "**Zutaten**:\n",
            "* 800 g festkochende Kartoffeln\n",
            "* 1 Msp. Kümmelsamen\n",
            "* 1 Lorbeerblatt\n",
            "* Meersalz\n",
            "* 1 Zwiebel\n",
            "* 5 EL Pflanzenöl\n",
            "* 200 ml Geflügelfond\n",
            "* 1 TL Dijon-Senf\n",
            "* 3 EL Obstessig\n",
            "* Salz, Pfeffer\n",
            "* 1 Salatgurke\n",
            "* 4 Radieschen\n",
            "* 1 hart gekochtes Ei\n",
            "* 1 Kästchen Gartenkresse\n",
            "* ½ Kopf roter Eichblattsalat\n",
            "\n",
            "**Zubereitung**:\n",
            "1. Die Kartoffeln waschen und mit Schale in einem Topf mit Kümmel, dem Lorbeerblatt und Meersalz nicht zu weich kochen. Dann abgießen und pellen.\n",
            "2. Zwiebel schälen, in kleine Würfel schneiden und in einer Pfanne mit heißem Öl glasig dünsten. Geflügelfond zugießen und etwas reduzieren. Den Geflügelfond mit Senf, Essig, Salz und Pfeffer abschmecken.\n",
            "3. Die noch lauwarmen Kartoffeln in Scheiben schneiden, mit der Zwiebelsauce mischen und ziehen lassen.\n",
            "4. In der Zwischenzeit die Gurke schälen. Der Länge nach halbieren und mit einem Teelöffel entkernen. Die Gurke in dünne Scheiben schneiden und zu den Kartoffeln geben.\n",
            "5. Die Radieschen putzen, waschen und in sehr dünne Scheiben schneiden. Das hart gekochte Ei pellen, Eiweiß und Eigelb getrennt fein hacken.\n",
            "6. Den Eichblattsalat putzen, schöne Blätter heraussuchen, waschen und trocken tupfen.\n",
            "7. Den Kartoffelsalat auf den Salatblättern auf Tellern anrichten, mit den Radieschenscheiben, gehacktem Ei sowie Gartenkresse dekorieren und servieren.\n",
            "\n",
            "**Seite**: 22\n",
            "\n",
            "**Rezeptname**: Kartoffel-Spargel-Salat mit Lachs\n",
            "\n",
            "**Zutaten**:\n",
            "*Für den Salat:*\n",
            "* 200 g kleine festkochende Kartoffeln\n",
            "* Salz\n",
            "* 16 Stangen grüner Spargel\n",
            "* 1 rote Zwiebel\n",
            "* 200 g grüne Bohnen\n",
            "* 250 g geräucherter Lachs\n",
            "*Für die Vinaigrette:*\n",
            "* 5 EL Rotweinessig\n",
            "* 5 EL WeiSSweinessig\n",
            "* 100 ml Olivenöl\n",
            "* Salz, Pfeffer\n",
            "* 1 TL Zucker\n",
            "*Für die Sauce:*\n",
            "* 1 Ei\n",
            "* 2 EL saure Sahne\n",
            "* 1 EL Meerrettich, aus dem Glas\n",
            "* 200 ml Olivenöl\n",
            "* 1 EL gehackte Staudensellerieblätter, aus der Mitte\n",
            "* 1 EL gehackter Kerbel\n",
            "* 1 EL gehackte glatte Petersilie\n",
            "* Salz, Pfeffer\n",
            "* Zitronensaft\n",
            "\n",
            "**Zubereitung**:\n",
            "1. Die Kartoffeln waschen und mit der Schale in reichlich Salzwasser kochen. Dann abgießen, etwas abkühlen lassen, pellen und in Scheiben schneiden.\n",
            "2. Den Spargel falls nötig im unteren Drittel schälen, die Enden abschneiden und den Spargel waschen. In ca. 2 cm lange Stücke schneiden, dabei die Köpfe ganz lassen.\n",
            "3. Die Zwiebel schälen und in feine Streifen schneiden. Die Bohnen putzen, waschen und falls nötig in Stücke schneiden.\n",
            "4. Salzwasser in einem Topf zum Kochen bringen, nacheinander zuerst die Spargelstücke, dann die Bohnen, die Zwiebel und zum Schluss die Spargelköpfe darin bissfest kochen; das geht recht schnell, etwa 2 bis 3 Minuten. Den Gemüsefond, der durch das Kochen entsteht, aufbewahren.\n",
            "5. Den Lachs in ca. 1 cm breite Streifen schneiden.\n",
            "6. Aus dem Essig, dem Olivenöl sowie 100 ml Gemüsefond eine Vinaigrette rühren. Mit Salz, Pfeffer und Zucker abschmecken.\n",
            "7. Kartoffeln, Spargel, Bohnen und Zwiebel in einer Schüssel mit der Vinaigrette vermischen und kurz ziehen lassen.\n",
            "8. In der Zwischenzeit Ei, saure Sahne, Meerrettich und Olivenöl in ein hohes Gefäß geben und mit dem Pürierstab aufschlagen. Sellerieblätter und fein gehackte Kräuter unterrühren und die Sauce mit Salz, Pfeffer und 1 Spritzer Zitronensaft abschmecken.\n",
            "9. Den Salat auf Tellern anrichten, geräucherten Lachs darauf verteilen und mit der Sauce beträufeln.\n",
            "\n",
            "**Seite**: 33\n",
            "\n",
            "**Rezeptname**: Rindfleischsalat\n",
            "\n",
            "**Zutaten**:\n",
            "*Für den Salat:*\n",
            "* 700 g flache Rinderschulter (das Fleisch sollte schon am Vortag gekocht werden)\n",
            "* 2 Bund Suppengrün\n",
            "* 1 mittelgroße Zwiebel\n",
            "* 1 Tomate\n",
            "* ½ TL Pfefferkörner\n",
            "* 2 Nelken\n",
            "* 1 Lorbeerblatt\n",
            "* 200 g tiefgefrorene geschälte Saubohnen (dicke Bohnen)\n",
            "* Salz\n",
            "* 2 mittelgroße Frühlingszwiebeln\n",
            "* ½ Bund Radieschen\n",
            "* 1 Bund Schnittlauch\n",
            "*Für die Vinaigrette:*\n",
            "* 3 TL Meerrettich, aus dem Glas\n",
            "* 4 EL WeiSSweinessig\n",
            "* 100 ml lauwarme Rinderbrühe\n",
            "* Salz, Pfeffer\n",
            "* Zucker\n",
            "* 8 EL Olivenöl\n",
            "\n",
            "**Zubereitung**:\n",
            "1. Etwa 3 l kaltes Wasser in einen hohen Topf geben, Fleisch hineinlegen und bei mittlerer Hitze aufkochen lassen. Das Suppengrün waschen, Sellerie und Möhren schälen. Die Zwiebel, mit Schale, und die Tomate halbieren.\n",
            "2. Sobald die Suppe einmal aufgekocht ist, den auftretenden Schaum mit einer Schaumkelle oder einem Schöpfer abnehmen und etwa 2,5 Stunden bei geringer Hitze köcheln lassen. Nach 1,5 Stunden das Suppengrün, Tomate, Zwiebel und die Gewürze hinzufügen.\n",
            "3. Das fertig gegarte Fleisch aus der Suppe heben, auskühlen lassen und in hauchdünne Scheiben schneiden (gegen die Faser). Die Brühe durch ein feines Sieb gießen und 100 ml abmessen.\n",
            "4. Die Saubohnen auftauen. Frühlingszwiebeln putzen, waschen und in feine Ringe schneiden. Die Radieschen putzen, waschen und mit einer Küchenreibe grob raspeln oder in Scheiben schneiden. Den Schnittlauch waschen, trocken schütteln und in feine Röllchen schneiden.\n",
            "5. Für die Vinaigrette Meerrettich, Essig und Brühe verrühren, mit 1 TL Salz, Pfeffer und Zucker abschmecken, kurz ziehen lassen und das Öl unterrühren.\n",
            "6. Zum Anrichten 4 flache Teller mit je 1 EL Vinaigrette beträufeln. Fleisch portionsweise darauf verteilen und nochmals mit 1 EL Vinaigrette beträufeln. Etwa 15 Minuten marinieren lassen.\n",
            "7. Bohnen, Frühlingszwiebeln und Radieschen mit der restlichen Vinaigrette verrühren, auf dem Fleisch verteilen, mit Schnittlauch bestreuen und mit Bauernbrot servieren.\n",
            "\n",
            "**Seite**: 36\n",
            "\n",
            "**Rezeptname**: Rote-Bete-Salat klassisch\n",
            "\n",
            "**Zutaten**:\n",
            "* 1 kg möglichst kleine Rote Bete mit Blättern\n",
            "* Salz\n",
            "* 1 TL Kümmel\n",
            "* 4–6 EL WeiSSweinessig\n",
            "* 3–4 Schalotten\n",
            "* 2–3 Knoblauchzehen\n",
            "* 5 EL Olivenöl\n",
            "* Pfeffer\n",
            "* 1 Bund Petersilie\n",
            "\n",
            "**Zubereitung**:\n",
            "1. Die Rote Bete-Knollen gründlich waschen, mit einer Bürste säubern. In einem großen Topf in Salzwasser mit Kümmel und 2 EL Essig aufkochen und mindestens 30 Minuten garen, bis sie weich sind.\n",
            "2. Schalotten und Knoblauch schälen. Die Schalotten in feine Würfel schneiden, den Knoblauch pressen.\n",
            "3. Aus dem Öl und dem restlichen Essig (die Menge richtet sich nach dem Säuregrad) eine Marinade rühren. Schalotten und Knoblauch dazugeben und mit Salz und Pfeffer würzen.\n",
            "4. Die gekochte Rote Bete noch heiß schälen, in Scheiben schneiden und zur Marinade geben. Unter Wenden 4 bis 5 Stunden ziehen lassen, je länger, desto besser.\n",
            "5. Kurz vorm Anrichten die Petersilie waschen, trocken schütteln, hacken und untermischen.\n",
            "\n",
            "**Seite**: 29\n"
          ]
        }
      ],
      "source": [
        "query = \"Gib mir ein Rezept für einen Salat.\"\n",
        "print(rag_chain.invoke(query)[\"answer\"])"
      ]
    },
    {
      "cell_type": "markdown",
      "metadata": {},
      "source": [
        "# LLM judge in the loop"
      ]
    },
    {
      "cell_type": "markdown",
      "metadata": {},
      "source": [
        "We still do not have any regulation in our workflow. What that means is we prompted the LLM to give us recipes by the documents provided and we have, so far, no restriction on the documents provided. We could, for example, discard any retrieved documents which have a too high distance to the query. However, we will instead ask the LLM to judge the relevance of the query to the retrieved documents."
      ]
    },
    {
      "cell_type": "code",
      "execution_count": 66,
      "metadata": {
        "colab": {
          "base_uri": "https://localhost:8080/"
        },
        "id": "A9vRkL_Q8BXy",
        "outputId": "835d4f26-2e3e-4254-b55d-ab4a1c4617b9"
      },
      "outputs": [
        {
          "name": "stdout",
          "output_type": "stream",
          "text": [
            "Tut mir leid, ich kann dir keinen Witz erzählen. Der Kontext enthält nur Rezepte und Informationen über Köche und Kochen.\n"
          ]
        }
      ],
      "source": [
        "query = \"Erzähl mir einen Witz.\"\n",
        "print(rag_chain.invoke(query)['answer'])"
      ]
    },
    {
      "cell_type": "code",
      "execution_count": 67,
      "metadata": {
        "id": "fA1A26mhdmiw"
      },
      "outputs": [],
      "source": [
        "from langchain.schema.runnable import RunnableLambda\n",
        "from pydantic import BaseModel, Field\n",
        "\n",
        "# define a prompt template for relevance checking\n",
        "relevance_prompt = PromptTemplate.from_template(\"\"\"\n",
        "Given the user's question and the context documents, determine if the context is relevant.\n",
        "\n",
        "Question:\n",
        "{input_prompt}\n",
        "\n",
        "Context:\n",
        "{context}\n",
        "\n",
        "Is the context relevant and useful for answering the question? Respond with a score of 1 to 10, where 1 is not relevant at all and 10 is highly relevant!\n",
        "\"\"\")\n",
        "\n",
        "class RelevanceCheck(BaseModel):\n",
        "    \"\"\" Relance score of the retrieved documents. \"\"\"\n",
        "    relevance: int = Field(description=\"Relevance score from 1 to 10\")\n",
        "\n",
        "judge_relevance = (\n",
        "    RunnablePassthrough()\n",
        "    | relevance_prompt\n",
        "    | llm.with_structured_output(RelevanceCheck)\n",
        ")\n",
        "\n",
        "class RelevanceCheck(BaseModel):\n",
        "    \"\"\" Relance score of the retrieved documents. \"\"\"\n",
        "    relevance: int = Field(description=\"Relevance score from 1 to 10\")\n",
        "\n",
        "# function which checks if the retrieved documents are relevant. Score < 6 gets discarded.\n",
        "def filter_if_relevant(x : dict) -> dict:\n",
        "    \"\"\" Check if the retrieved documents are relevant based on the relevance score. \"\"\"\n",
        "    score = x[\"relevance\"].relevance  # extract the relevance score\n",
        "    print(f\"Relevance score: {score}\") # debug print to see the score\n",
        "    if int(score) < 6:\n",
        "        print(\"Question not relevant to retrieved content.\")\n",
        "        # You could return a fallback string here instead of raising an error\n",
        "        raise ValueError(\"No relevant documents found.\")\n",
        "    return x\n",
        "\n",
        "# Chain to generate the answer (only called if relevant)\n",
        "rag_chain_from_docs = (\n",
        "    RunnableLambda(filter_if_relevant)\n",
        "    | prompt\n",
        "    | llm\n",
        "    | StrOutputParser()\n",
        ")\n",
        "\n",
        "# full chain that retrieves documents, checks relevance, and generates an answer\n",
        "rag_chain = (\n",
        "    RunnableParallel({\n",
        "        \"context\": hybrid_retriever,\n",
        "        \"input_prompt\": RunnablePassthrough()\n",
        "    })\n",
        "    .assign(\n",
        "        relevance=judge_relevance  # run LLM to check relevance\n",
        "    )\n",
        "    .assign(\n",
        "        answer=rag_chain_from_docs  # only proceed if relevant\n",
        "    )\n",
        ")\n",
        "\n"
      ]
    },
    {
      "cell_type": "markdown",
      "metadata": {},
      "source": [
        "The above relevance score stops an output based on extraction of non-relevant documents "
      ]
    },
    {
      "cell_type": "code",
      "execution_count": 70,
      "metadata": {},
      "outputs": [
        {
          "name": "stdout",
          "output_type": "stream",
          "text": [
            "Relevance score: 1\n",
            "Question not relevant to retrieved content.\n"
          ]
        },
        {
          "ename": "ValueError",
          "evalue": "No relevant documents found.",
          "output_type": "error",
          "traceback": [
            "\u001b[1;31m---------------------------------------------------------------------------\u001b[0m",
            "\u001b[1;31mValueError\u001b[0m                                Traceback (most recent call last)",
            "Cell \u001b[1;32mIn[70], line 2\u001b[0m\n\u001b[0;32m      1\u001b[0m query \u001b[38;5;241m=\u001b[39m \u001b[38;5;124m\"\u001b[39m\u001b[38;5;124mErzähl mir einen Witz\u001b[39m\u001b[38;5;124m\"\u001b[39m\n\u001b[1;32m----> 2\u001b[0m \u001b[38;5;28mprint\u001b[39m(rag_chain\u001b[38;5;241m.\u001b[39minvoke(query)[\u001b[38;5;124m\"\u001b[39m\u001b[38;5;124manswer\u001b[39m\u001b[38;5;124m\"\u001b[39m])\n",
            "File \u001b[1;32mc:\\Users\\dholz\\anaconda3\\Lib\\site-packages\\langchain_core\\runnables\\base.py:3047\u001b[0m, in \u001b[0;36mRunnableSequence.invoke\u001b[1;34m(self, input, config, **kwargs)\u001b[0m\n\u001b[0;32m   3045\u001b[0m                 input_ \u001b[38;5;241m=\u001b[39m context\u001b[38;5;241m.\u001b[39mrun(step\u001b[38;5;241m.\u001b[39minvoke, input_, config, \u001b[38;5;241m*\u001b[39m\u001b[38;5;241m*\u001b[39mkwargs)\n\u001b[0;32m   3046\u001b[0m             \u001b[38;5;28;01melse\u001b[39;00m:\n\u001b[1;32m-> 3047\u001b[0m                 input_ \u001b[38;5;241m=\u001b[39m context\u001b[38;5;241m.\u001b[39mrun(step\u001b[38;5;241m.\u001b[39minvoke, input_, config)\n\u001b[0;32m   3048\u001b[0m \u001b[38;5;66;03m# finish the root run\u001b[39;00m\n\u001b[0;32m   3049\u001b[0m \u001b[38;5;28;01mexcept\u001b[39;00m \u001b[38;5;167;01mBaseException\u001b[39;00m \u001b[38;5;28;01mas\u001b[39;00m e:\n",
            "File \u001b[1;32mc:\\Users\\dholz\\anaconda3\\Lib\\site-packages\\langchain_core\\runnables\\passthrough.py:511\u001b[0m, in \u001b[0;36mRunnableAssign.invoke\u001b[1;34m(self, input, config, **kwargs)\u001b[0m\n\u001b[0;32m    504\u001b[0m \u001b[38;5;129m@override\u001b[39m\n\u001b[0;32m    505\u001b[0m \u001b[38;5;28;01mdef\u001b[39;00m \u001b[38;5;21minvoke\u001b[39m(\n\u001b[0;32m    506\u001b[0m     \u001b[38;5;28mself\u001b[39m,\n\u001b[1;32m   (...)\u001b[0m\n\u001b[0;32m    509\u001b[0m     \u001b[38;5;241m*\u001b[39m\u001b[38;5;241m*\u001b[39mkwargs: Any,\n\u001b[0;32m    510\u001b[0m ) \u001b[38;5;241m-\u001b[39m\u001b[38;5;241m>\u001b[39m \u001b[38;5;28mdict\u001b[39m[\u001b[38;5;28mstr\u001b[39m, Any]:\n\u001b[1;32m--> 511\u001b[0m     \u001b[38;5;28;01mreturn\u001b[39;00m \u001b[38;5;28mself\u001b[39m\u001b[38;5;241m.\u001b[39m_call_with_config(\u001b[38;5;28mself\u001b[39m\u001b[38;5;241m.\u001b[39m_invoke, \u001b[38;5;28minput\u001b[39m, config, \u001b[38;5;241m*\u001b[39m\u001b[38;5;241m*\u001b[39mkwargs)\n",
            "File \u001b[1;32mc:\\Users\\dholz\\anaconda3\\Lib\\site-packages\\langchain_core\\runnables\\base.py:1940\u001b[0m, in \u001b[0;36mRunnable._call_with_config\u001b[1;34m(self, func, input_, config, run_type, serialized, **kwargs)\u001b[0m\n\u001b[0;32m   1936\u001b[0m     child_config \u001b[38;5;241m=\u001b[39m patch_config(config, callbacks\u001b[38;5;241m=\u001b[39mrun_manager\u001b[38;5;241m.\u001b[39mget_child())\n\u001b[0;32m   1937\u001b[0m     \u001b[38;5;28;01mwith\u001b[39;00m set_config_context(child_config) \u001b[38;5;28;01mas\u001b[39;00m context:\n\u001b[0;32m   1938\u001b[0m         output \u001b[38;5;241m=\u001b[39m cast(\n\u001b[0;32m   1939\u001b[0m             \u001b[38;5;124m\"\u001b[39m\u001b[38;5;124mOutput\u001b[39m\u001b[38;5;124m\"\u001b[39m,\n\u001b[1;32m-> 1940\u001b[0m             context\u001b[38;5;241m.\u001b[39mrun(\n\u001b[0;32m   1941\u001b[0m                 call_func_with_variable_args,  \u001b[38;5;66;03m# type: ignore[arg-type]\u001b[39;00m\n\u001b[0;32m   1942\u001b[0m                 func,\n\u001b[0;32m   1943\u001b[0m                 input_,\n\u001b[0;32m   1944\u001b[0m                 config,\n\u001b[0;32m   1945\u001b[0m                 run_manager,\n\u001b[0;32m   1946\u001b[0m                 \u001b[38;5;241m*\u001b[39m\u001b[38;5;241m*\u001b[39mkwargs,\n\u001b[0;32m   1947\u001b[0m             ),\n\u001b[0;32m   1948\u001b[0m         )\n\u001b[0;32m   1949\u001b[0m \u001b[38;5;28;01mexcept\u001b[39;00m \u001b[38;5;167;01mBaseException\u001b[39;00m \u001b[38;5;28;01mas\u001b[39;00m e:\n\u001b[0;32m   1950\u001b[0m     run_manager\u001b[38;5;241m.\u001b[39mon_chain_error(e)\n",
            "File \u001b[1;32mc:\\Users\\dholz\\anaconda3\\Lib\\site-packages\\langchain_core\\runnables\\config.py:428\u001b[0m, in \u001b[0;36mcall_func_with_variable_args\u001b[1;34m(func, input, config, run_manager, **kwargs)\u001b[0m\n\u001b[0;32m    426\u001b[0m \u001b[38;5;28;01mif\u001b[39;00m run_manager \u001b[38;5;129;01mis\u001b[39;00m \u001b[38;5;129;01mnot\u001b[39;00m \u001b[38;5;28;01mNone\u001b[39;00m \u001b[38;5;129;01mand\u001b[39;00m accepts_run_manager(func):\n\u001b[0;32m    427\u001b[0m     kwargs[\u001b[38;5;124m\"\u001b[39m\u001b[38;5;124mrun_manager\u001b[39m\u001b[38;5;124m\"\u001b[39m] \u001b[38;5;241m=\u001b[39m run_manager\n\u001b[1;32m--> 428\u001b[0m \u001b[38;5;28;01mreturn\u001b[39;00m func(\u001b[38;5;28minput\u001b[39m, \u001b[38;5;241m*\u001b[39m\u001b[38;5;241m*\u001b[39mkwargs)\n",
            "File \u001b[1;32mc:\\Users\\dholz\\anaconda3\\Lib\\site-packages\\langchain_core\\runnables\\passthrough.py:497\u001b[0m, in \u001b[0;36mRunnableAssign._invoke\u001b[1;34m(self, value, run_manager, config, **kwargs)\u001b[0m\n\u001b[0;32m    492\u001b[0m     msg \u001b[38;5;241m=\u001b[39m \u001b[38;5;124m\"\u001b[39m\u001b[38;5;124mThe input to RunnablePassthrough.assign() must be a dict.\u001b[39m\u001b[38;5;124m\"\u001b[39m\n\u001b[0;32m    493\u001b[0m     \u001b[38;5;28;01mraise\u001b[39;00m \u001b[38;5;167;01mValueError\u001b[39;00m(msg)  \u001b[38;5;66;03m# noqa: TRY004\u001b[39;00m\n\u001b[0;32m    495\u001b[0m \u001b[38;5;28;01mreturn\u001b[39;00m {\n\u001b[0;32m    496\u001b[0m     \u001b[38;5;241m*\u001b[39m\u001b[38;5;241m*\u001b[39mvalue,\n\u001b[1;32m--> 497\u001b[0m     \u001b[38;5;241m*\u001b[39m\u001b[38;5;241m*\u001b[39m\u001b[38;5;28mself\u001b[39m\u001b[38;5;241m.\u001b[39mmapper\u001b[38;5;241m.\u001b[39minvoke(\n\u001b[0;32m    498\u001b[0m         value,\n\u001b[0;32m    499\u001b[0m         patch_config(config, callbacks\u001b[38;5;241m=\u001b[39mrun_manager\u001b[38;5;241m.\u001b[39mget_child()),\n\u001b[0;32m    500\u001b[0m         \u001b[38;5;241m*\u001b[39m\u001b[38;5;241m*\u001b[39mkwargs,\n\u001b[0;32m    501\u001b[0m     ),\n\u001b[0;32m    502\u001b[0m }\n",
            "File \u001b[1;32mc:\\Users\\dholz\\anaconda3\\Lib\\site-packages\\langchain_core\\runnables\\base.py:3774\u001b[0m, in \u001b[0;36mRunnableParallel.invoke\u001b[1;34m(self, input, config, **kwargs)\u001b[0m\n\u001b[0;32m   3769\u001b[0m     \u001b[38;5;28;01mwith\u001b[39;00m get_executor_for_config(config) \u001b[38;5;28;01mas\u001b[39;00m executor:\n\u001b[0;32m   3770\u001b[0m         futures \u001b[38;5;241m=\u001b[39m [\n\u001b[0;32m   3771\u001b[0m             executor\u001b[38;5;241m.\u001b[39msubmit(_invoke_step, step, \u001b[38;5;28minput\u001b[39m, config, key)\n\u001b[0;32m   3772\u001b[0m             \u001b[38;5;28;01mfor\u001b[39;00m key, step \u001b[38;5;129;01min\u001b[39;00m steps\u001b[38;5;241m.\u001b[39mitems()\n\u001b[0;32m   3773\u001b[0m         ]\n\u001b[1;32m-> 3774\u001b[0m         output \u001b[38;5;241m=\u001b[39m {key: future\u001b[38;5;241m.\u001b[39mresult() \u001b[38;5;28;01mfor\u001b[39;00m key, future \u001b[38;5;129;01min\u001b[39;00m \u001b[38;5;28mzip\u001b[39m(steps, futures)}\n\u001b[0;32m   3775\u001b[0m \u001b[38;5;66;03m# finish the root run\u001b[39;00m\n\u001b[0;32m   3776\u001b[0m \u001b[38;5;28;01mexcept\u001b[39;00m \u001b[38;5;167;01mBaseException\u001b[39;00m \u001b[38;5;28;01mas\u001b[39;00m e:\n",
            "File \u001b[1;32mc:\\Users\\dholz\\anaconda3\\Lib\\concurrent\\futures\\_base.py:449\u001b[0m, in \u001b[0;36mFuture.result\u001b[1;34m(self, timeout)\u001b[0m\n\u001b[0;32m    447\u001b[0m     \u001b[38;5;28;01mraise\u001b[39;00m CancelledError()\n\u001b[0;32m    448\u001b[0m \u001b[38;5;28;01melif\u001b[39;00m \u001b[38;5;28mself\u001b[39m\u001b[38;5;241m.\u001b[39m_state \u001b[38;5;241m==\u001b[39m FINISHED:\n\u001b[1;32m--> 449\u001b[0m     \u001b[38;5;28;01mreturn\u001b[39;00m \u001b[38;5;28mself\u001b[39m\u001b[38;5;241m.\u001b[39m__get_result()\n\u001b[0;32m    451\u001b[0m \u001b[38;5;28mself\u001b[39m\u001b[38;5;241m.\u001b[39m_condition\u001b[38;5;241m.\u001b[39mwait(timeout)\n\u001b[0;32m    453\u001b[0m \u001b[38;5;28;01mif\u001b[39;00m \u001b[38;5;28mself\u001b[39m\u001b[38;5;241m.\u001b[39m_state \u001b[38;5;129;01min\u001b[39;00m [CANCELLED, CANCELLED_AND_NOTIFIED]:\n",
            "File \u001b[1;32mc:\\Users\\dholz\\anaconda3\\Lib\\concurrent\\futures\\_base.py:401\u001b[0m, in \u001b[0;36mFuture.__get_result\u001b[1;34m(self)\u001b[0m\n\u001b[0;32m    399\u001b[0m \u001b[38;5;28;01mif\u001b[39;00m \u001b[38;5;28mself\u001b[39m\u001b[38;5;241m.\u001b[39m_exception:\n\u001b[0;32m    400\u001b[0m     \u001b[38;5;28;01mtry\u001b[39;00m:\n\u001b[1;32m--> 401\u001b[0m         \u001b[38;5;28;01mraise\u001b[39;00m \u001b[38;5;28mself\u001b[39m\u001b[38;5;241m.\u001b[39m_exception\n\u001b[0;32m    402\u001b[0m     \u001b[38;5;28;01mfinally\u001b[39;00m:\n\u001b[0;32m    403\u001b[0m         \u001b[38;5;66;03m# Break a reference cycle with the exception in self._exception\u001b[39;00m\n\u001b[0;32m    404\u001b[0m         \u001b[38;5;28mself\u001b[39m \u001b[38;5;241m=\u001b[39m \u001b[38;5;28;01mNone\u001b[39;00m\n",
            "File \u001b[1;32mc:\\Users\\dholz\\anaconda3\\Lib\\concurrent\\futures\\thread.py:58\u001b[0m, in \u001b[0;36m_WorkItem.run\u001b[1;34m(self)\u001b[0m\n\u001b[0;32m     55\u001b[0m     \u001b[38;5;28;01mreturn\u001b[39;00m\n\u001b[0;32m     57\u001b[0m \u001b[38;5;28;01mtry\u001b[39;00m:\n\u001b[1;32m---> 58\u001b[0m     result \u001b[38;5;241m=\u001b[39m \u001b[38;5;28mself\u001b[39m\u001b[38;5;241m.\u001b[39mfn(\u001b[38;5;241m*\u001b[39m\u001b[38;5;28mself\u001b[39m\u001b[38;5;241m.\u001b[39margs, \u001b[38;5;241m*\u001b[39m\u001b[38;5;241m*\u001b[39m\u001b[38;5;28mself\u001b[39m\u001b[38;5;241m.\u001b[39mkwargs)\n\u001b[0;32m     59\u001b[0m \u001b[38;5;28;01mexcept\u001b[39;00m \u001b[38;5;167;01mBaseException\u001b[39;00m \u001b[38;5;28;01mas\u001b[39;00m exc:\n\u001b[0;32m     60\u001b[0m     \u001b[38;5;28mself\u001b[39m\u001b[38;5;241m.\u001b[39mfuture\u001b[38;5;241m.\u001b[39mset_exception(exc)\n",
            "File \u001b[1;32mc:\\Users\\dholz\\anaconda3\\Lib\\site-packages\\langchain_core\\runnables\\base.py:3758\u001b[0m, in \u001b[0;36mRunnableParallel.invoke.<locals>._invoke_step\u001b[1;34m(step, input_, config, key)\u001b[0m\n\u001b[0;32m   3752\u001b[0m child_config \u001b[38;5;241m=\u001b[39m patch_config(\n\u001b[0;32m   3753\u001b[0m     config,\n\u001b[0;32m   3754\u001b[0m     \u001b[38;5;66;03m# mark each step as a child run\u001b[39;00m\n\u001b[0;32m   3755\u001b[0m     callbacks\u001b[38;5;241m=\u001b[39mrun_manager\u001b[38;5;241m.\u001b[39mget_child(\u001b[38;5;124mf\u001b[39m\u001b[38;5;124m\"\u001b[39m\u001b[38;5;124mmap:key:\u001b[39m\u001b[38;5;132;01m{\u001b[39;00mkey\u001b[38;5;132;01m}\u001b[39;00m\u001b[38;5;124m\"\u001b[39m),\n\u001b[0;32m   3756\u001b[0m )\n\u001b[0;32m   3757\u001b[0m \u001b[38;5;28;01mwith\u001b[39;00m set_config_context(child_config) \u001b[38;5;28;01mas\u001b[39;00m context:\n\u001b[1;32m-> 3758\u001b[0m     \u001b[38;5;28;01mreturn\u001b[39;00m context\u001b[38;5;241m.\u001b[39mrun(\n\u001b[0;32m   3759\u001b[0m         step\u001b[38;5;241m.\u001b[39minvoke,\n\u001b[0;32m   3760\u001b[0m         input_,\n\u001b[0;32m   3761\u001b[0m         child_config,\n\u001b[0;32m   3762\u001b[0m     )\n",
            "File \u001b[1;32mc:\\Users\\dholz\\anaconda3\\Lib\\site-packages\\langchain_core\\runnables\\base.py:3045\u001b[0m, in \u001b[0;36mRunnableSequence.invoke\u001b[1;34m(self, input, config, **kwargs)\u001b[0m\n\u001b[0;32m   3043\u001b[0m \u001b[38;5;28;01mwith\u001b[39;00m set_config_context(config) \u001b[38;5;28;01mas\u001b[39;00m context:\n\u001b[0;32m   3044\u001b[0m     \u001b[38;5;28;01mif\u001b[39;00m i \u001b[38;5;241m==\u001b[39m \u001b[38;5;241m0\u001b[39m:\n\u001b[1;32m-> 3045\u001b[0m         input_ \u001b[38;5;241m=\u001b[39m context\u001b[38;5;241m.\u001b[39mrun(step\u001b[38;5;241m.\u001b[39minvoke, input_, config, \u001b[38;5;241m*\u001b[39m\u001b[38;5;241m*\u001b[39mkwargs)\n\u001b[0;32m   3046\u001b[0m     \u001b[38;5;28;01melse\u001b[39;00m:\n\u001b[0;32m   3047\u001b[0m         input_ \u001b[38;5;241m=\u001b[39m context\u001b[38;5;241m.\u001b[39mrun(step\u001b[38;5;241m.\u001b[39minvoke, input_, config)\n",
            "File \u001b[1;32mc:\\Users\\dholz\\anaconda3\\Lib\\site-packages\\langchain_core\\runnables\\base.py:4771\u001b[0m, in \u001b[0;36mRunnableLambda.invoke\u001b[1;34m(self, input, config, **kwargs)\u001b[0m\n\u001b[0;32m   4757\u001b[0m \u001b[38;5;250m\u001b[39m\u001b[38;5;124;03m\"\"\"Invoke this Runnable synchronously.\u001b[39;00m\n\u001b[0;32m   4758\u001b[0m \n\u001b[0;32m   4759\u001b[0m \u001b[38;5;124;03mArgs:\u001b[39;00m\n\u001b[1;32m   (...)\u001b[0m\n\u001b[0;32m   4768\u001b[0m \u001b[38;5;124;03m    TypeError: If the Runnable is a coroutine function.\u001b[39;00m\n\u001b[0;32m   4769\u001b[0m \u001b[38;5;124;03m\"\"\"\u001b[39;00m\n\u001b[0;32m   4770\u001b[0m \u001b[38;5;28;01mif\u001b[39;00m \u001b[38;5;28mhasattr\u001b[39m(\u001b[38;5;28mself\u001b[39m, \u001b[38;5;124m\"\u001b[39m\u001b[38;5;124mfunc\u001b[39m\u001b[38;5;124m\"\u001b[39m):\n\u001b[1;32m-> 4771\u001b[0m     \u001b[38;5;28;01mreturn\u001b[39;00m \u001b[38;5;28mself\u001b[39m\u001b[38;5;241m.\u001b[39m_call_with_config(\n\u001b[0;32m   4772\u001b[0m         \u001b[38;5;28mself\u001b[39m\u001b[38;5;241m.\u001b[39m_invoke,\n\u001b[0;32m   4773\u001b[0m         \u001b[38;5;28minput\u001b[39m,\n\u001b[0;32m   4774\u001b[0m         ensure_config(config),\n\u001b[0;32m   4775\u001b[0m         \u001b[38;5;241m*\u001b[39m\u001b[38;5;241m*\u001b[39mkwargs,\n\u001b[0;32m   4776\u001b[0m     )\n\u001b[0;32m   4777\u001b[0m msg \u001b[38;5;241m=\u001b[39m \u001b[38;5;124m\"\u001b[39m\u001b[38;5;124mCannot invoke a coroutine function synchronously.Use `ainvoke` instead.\u001b[39m\u001b[38;5;124m\"\u001b[39m\n\u001b[0;32m   4778\u001b[0m \u001b[38;5;28;01mraise\u001b[39;00m \u001b[38;5;167;01mTypeError\u001b[39;00m(msg)\n",
            "File \u001b[1;32mc:\\Users\\dholz\\anaconda3\\Lib\\site-packages\\langchain_core\\runnables\\base.py:1940\u001b[0m, in \u001b[0;36mRunnable._call_with_config\u001b[1;34m(self, func, input_, config, run_type, serialized, **kwargs)\u001b[0m\n\u001b[0;32m   1936\u001b[0m     child_config \u001b[38;5;241m=\u001b[39m patch_config(config, callbacks\u001b[38;5;241m=\u001b[39mrun_manager\u001b[38;5;241m.\u001b[39mget_child())\n\u001b[0;32m   1937\u001b[0m     \u001b[38;5;28;01mwith\u001b[39;00m set_config_context(child_config) \u001b[38;5;28;01mas\u001b[39;00m context:\n\u001b[0;32m   1938\u001b[0m         output \u001b[38;5;241m=\u001b[39m cast(\n\u001b[0;32m   1939\u001b[0m             \u001b[38;5;124m\"\u001b[39m\u001b[38;5;124mOutput\u001b[39m\u001b[38;5;124m\"\u001b[39m,\n\u001b[1;32m-> 1940\u001b[0m             context\u001b[38;5;241m.\u001b[39mrun(\n\u001b[0;32m   1941\u001b[0m                 call_func_with_variable_args,  \u001b[38;5;66;03m# type: ignore[arg-type]\u001b[39;00m\n\u001b[0;32m   1942\u001b[0m                 func,\n\u001b[0;32m   1943\u001b[0m                 input_,\n\u001b[0;32m   1944\u001b[0m                 config,\n\u001b[0;32m   1945\u001b[0m                 run_manager,\n\u001b[0;32m   1946\u001b[0m                 \u001b[38;5;241m*\u001b[39m\u001b[38;5;241m*\u001b[39mkwargs,\n\u001b[0;32m   1947\u001b[0m             ),\n\u001b[0;32m   1948\u001b[0m         )\n\u001b[0;32m   1949\u001b[0m \u001b[38;5;28;01mexcept\u001b[39;00m \u001b[38;5;167;01mBaseException\u001b[39;00m \u001b[38;5;28;01mas\u001b[39;00m e:\n\u001b[0;32m   1950\u001b[0m     run_manager\u001b[38;5;241m.\u001b[39mon_chain_error(e)\n",
            "File \u001b[1;32mc:\\Users\\dholz\\anaconda3\\Lib\\site-packages\\langchain_core\\runnables\\config.py:428\u001b[0m, in \u001b[0;36mcall_func_with_variable_args\u001b[1;34m(func, input, config, run_manager, **kwargs)\u001b[0m\n\u001b[0;32m    426\u001b[0m \u001b[38;5;28;01mif\u001b[39;00m run_manager \u001b[38;5;129;01mis\u001b[39;00m \u001b[38;5;129;01mnot\u001b[39;00m \u001b[38;5;28;01mNone\u001b[39;00m \u001b[38;5;129;01mand\u001b[39;00m accepts_run_manager(func):\n\u001b[0;32m    427\u001b[0m     kwargs[\u001b[38;5;124m\"\u001b[39m\u001b[38;5;124mrun_manager\u001b[39m\u001b[38;5;124m\"\u001b[39m] \u001b[38;5;241m=\u001b[39m run_manager\n\u001b[1;32m--> 428\u001b[0m \u001b[38;5;28;01mreturn\u001b[39;00m func(\u001b[38;5;28minput\u001b[39m, \u001b[38;5;241m*\u001b[39m\u001b[38;5;241m*\u001b[39mkwargs)\n",
            "File \u001b[1;32mc:\\Users\\dholz\\anaconda3\\Lib\\site-packages\\langchain_core\\runnables\\base.py:4629\u001b[0m, in \u001b[0;36mRunnableLambda._invoke\u001b[1;34m(self, input_, run_manager, config, **kwargs)\u001b[0m\n\u001b[0;32m   4627\u001b[0m                 output \u001b[38;5;241m=\u001b[39m chunk\n\u001b[0;32m   4628\u001b[0m \u001b[38;5;28;01melse\u001b[39;00m:\n\u001b[1;32m-> 4629\u001b[0m     output \u001b[38;5;241m=\u001b[39m call_func_with_variable_args(\n\u001b[0;32m   4630\u001b[0m         \u001b[38;5;28mself\u001b[39m\u001b[38;5;241m.\u001b[39mfunc, input_, config, run_manager, \u001b[38;5;241m*\u001b[39m\u001b[38;5;241m*\u001b[39mkwargs\n\u001b[0;32m   4631\u001b[0m     )\n\u001b[0;32m   4632\u001b[0m \u001b[38;5;66;03m# If the output is a Runnable, invoke it\u001b[39;00m\n\u001b[0;32m   4633\u001b[0m \u001b[38;5;28;01mif\u001b[39;00m \u001b[38;5;28misinstance\u001b[39m(output, Runnable):\n",
            "File \u001b[1;32mc:\\Users\\dholz\\anaconda3\\Lib\\site-packages\\langchain_core\\runnables\\config.py:428\u001b[0m, in \u001b[0;36mcall_func_with_variable_args\u001b[1;34m(func, input, config, run_manager, **kwargs)\u001b[0m\n\u001b[0;32m    426\u001b[0m \u001b[38;5;28;01mif\u001b[39;00m run_manager \u001b[38;5;129;01mis\u001b[39;00m \u001b[38;5;129;01mnot\u001b[39;00m \u001b[38;5;28;01mNone\u001b[39;00m \u001b[38;5;129;01mand\u001b[39;00m accepts_run_manager(func):\n\u001b[0;32m    427\u001b[0m     kwargs[\u001b[38;5;124m\"\u001b[39m\u001b[38;5;124mrun_manager\u001b[39m\u001b[38;5;124m\"\u001b[39m] \u001b[38;5;241m=\u001b[39m run_manager\n\u001b[1;32m--> 428\u001b[0m \u001b[38;5;28;01mreturn\u001b[39;00m func(\u001b[38;5;28minput\u001b[39m, \u001b[38;5;241m*\u001b[39m\u001b[38;5;241m*\u001b[39mkwargs)\n",
            "Cell \u001b[1;32mIn[67], line 39\u001b[0m, in \u001b[0;36mfilter_if_relevant\u001b[1;34m(x)\u001b[0m\n\u001b[0;32m     37\u001b[0m     \u001b[38;5;28mprint\u001b[39m(\u001b[38;5;124m\"\u001b[39m\u001b[38;5;124mQuestion not relevant to retrieved content.\u001b[39m\u001b[38;5;124m\"\u001b[39m)\n\u001b[0;32m     38\u001b[0m     \u001b[38;5;66;03m# You could return a fallback string here instead of raising an error\u001b[39;00m\n\u001b[1;32m---> 39\u001b[0m     \u001b[38;5;28;01mraise\u001b[39;00m \u001b[38;5;167;01mValueError\u001b[39;00m(\u001b[38;5;124m\"\u001b[39m\u001b[38;5;124mNo relevant documents found.\u001b[39m\u001b[38;5;124m\"\u001b[39m)\n\u001b[0;32m     40\u001b[0m \u001b[38;5;28;01mreturn\u001b[39;00m x\n",
            "\u001b[1;31mValueError\u001b[0m: No relevant documents found."
          ]
        }
      ],
      "source": [
        "query = \"Erzähl mir einen Witz\"\n",
        "print(rag_chain.invoke(query)[\"answer\"])\n"
      ]
    },
    {
      "cell_type": "code",
      "execution_count": 423,
      "metadata": {},
      "outputs": [],
      "source": [
        "llm = ChatGoogleGenerativeAI(model=\"gemini-2.0-flash\", temperature = 0)"
      ]
    },
    {
      "cell_type": "code",
      "execution_count": 424,
      "metadata": {},
      "outputs": [
        {
          "name": "stdout",
          "output_type": "stream",
          "text": [
            "Relevance score: 8\n",
            "Basierend auf dem gegebenen Kontext kann ich dir folgendes Rezept anbieten, das alle gewünschten Zutaten (Zwiebeln, Tomaten, Karotten und Aubergine) enthält:\n",
            "\n",
            "**Rezeptname**: Ratatouille nach orientalischer Art\n",
            "\n",
            "**Zutaten**:\n",
            "*   1 mittelgroße Zwiebel\n",
            "*   1 Fenchel\n",
            "*   je 1 rote, gelbe und grüne Paprikaschote\n",
            "*   300 g feste reife Tomaten\n",
            "*   3 Knoblauchzehen\n",
            "*   1 Aubergine\n",
            "*   1 TL Korianderkörner\n",
            "*   ½ TL Kümmel\n",
            "*   1 TL Fenchelsamen\n",
            "*   9 EL Olivenöl\n",
            "*   1 TL Kurkuma (Gelbwurz)\n",
            "*   Salz, Pfeffer\n",
            "*   Currypulver\n",
            "*   2 Lorbeerblätter\n",
            "*   eventuell etwas Gemüsebrühe\n",
            "*   ½ Bund Koriander\n",
            "\n",
            "**Zubereitung**:\n",
            "\n",
            "1.  Die Zwiebel schälen. Den Fenchel und die Paprikaschoten putzen, waschen und trocken tupfen. Vom Fenchel den Strunk entfernen. Alles in kleine Würfel schneiden.\n",
            "2.  Die Tomaten mit kochendem Wasser überbrühen, kalt abschrecken, häuten und klein schneiden. Wer es ganz fein liebt, kann die Kerne entfernen. In jedem Fall den ablaufenden Saft auffangen.\n",
            "3.  Die Knoblauchzehen schälen und sehr fein hacken. Die Aubergine von Blüten- und Stängelansatz befreien, waschen, abtrocknen und anschließend ebenfalls in kleine Würfel schneiden.\n",
            "4.  Die Korianderkörner mit Kümmel und Fenchelsamen in 1 EL Olivenöl unter Rühren erhitzen, bis die Mischung duftet. Herausnehmen, abkühlen lassen und mit einem scharfen Messer auf einem Brett zerkleinern. Mit dem Knoblauch und dem Kurkuma zu einer Würzpaste vermengen.\n",
            "5.  4 EL Olivenöl in einem Topf erwärmen und die Würzpaste einrühren. Die Zwiebel darin glasig werden lassen. Erst dann die Fenchel- und Paprikawürfel zufügen und alles sanft kurz anschwitzen.\n",
            "6.  4 EL Öl in einer beschichteten Pfanne erhitzen und die Auberginenwürfel darin braten, bis sie leicht gebräunt sind. Mit Salz, Pfeffer und einem Hauch Curry abschmecken. Auf einer dicken Lage Küchenkrepp abfetten lassen.\n",
            "7.  Auberginen, Tomaten, Lorbeerblätter mit den Fenchel- und Paprikawürfeln und dem durchgesiebten Tomatensaft in einen Topf geben. Salzen, pfeffern und zugedeckt etwa 15 Minuten schmoren. Bei Bedarf etwas Gemüsebrühe zugeben. Das Gemüse sollte noch etwas Biss haben.\n",
            "8.  Den Koriander waschen, trocken tupfen und fein hacken. Die Lorbeerblätter aus dem Gemüse nehmen. Mit Salz und Pfeffer abschmecken und mit dem Koriander bestreut servieren.\n",
            "\n",
            "**Seite**: 101\n"
          ]
        }
      ],
      "source": [
        "query = \"Ich hätte gern ein Rezept mit Zwiebeln, Tomaten und Karotten und Aubergine. Es sollte alle Zutaten beinhalten.\"\n",
        "answer = rag_chain.invoke(query)\n",
        "print(answer[\"answer\"])"
      ]
    },
    {
      "cell_type": "markdown",
      "metadata": {},
      "source": [
        "# Agent in the Loop"
      ]
    },
    {
      "cell_type": "markdown",
      "metadata": {},
      "source": [
        "Using a relevance score hinders the llm of putting out results which are not relevant for the query. However, the above example shows that the model does not fully follow our queries: it outputs not all ingridients, just a couple. In the schema of above, we can ask another llm to check whether our llm satisfies the user queries. We can do that with an AI Agent in the loop"
      ]
    },
    {
      "cell_type": "code",
      "execution_count": null,
      "metadata": {},
      "outputs": [],
      "source": [
        "#llm = ChatGoogleGenerativeAI(model=\"gemini-2.0-flash-lite\", temperature = 0)"
      ]
    },
    {
      "cell_type": "code",
      "execution_count": 72,
      "metadata": {},
      "outputs": [],
      "source": [
        "%%capture\n",
        "%pip install langgraph"
      ]
    },
    {
      "cell_type": "code",
      "execution_count": 426,
      "metadata": {},
      "outputs": [],
      "source": [
        "from langgraph.graph import StateGraph, END\n",
        "from langchain.schema.runnable import RunnableLambda\n",
        "from typing import TypedDict\n",
        "\n",
        "# Define shared state\n",
        "class GraphState(TypedDict):\n",
        "    input_prompt: str\n",
        "    context: str\n",
        "    answer: str\n",
        "    valid: bool\n",
        "    prompt_count: int\n",
        "    validation_feedback : str\n",
        "    recipes : list[str]\n"
      ]
    },
    {
      "cell_type": "code",
      "execution_count": null,
      "metadata": {},
      "outputs": [],
      "source": [
        "def retrieve_docs(state: GraphState) -> GraphState: # defines the node to retrieve documents    \n",
        "    context = hybrid_retriever.invoke(state[\"input_prompt\"])\n",
        "    return {\"context\": context}\n"
      ]
    },
    {
      "cell_type": "code",
      "execution_count": null,
      "metadata": {},
      "outputs": [],
      "source": [
        "def generate_answer(state: GraphState) -> GraphState: # defines the node to generate an answer\n",
        "    formatted_prompt = prompt.format(context=state[\"context\"], input_prompt=state[\"input_prompt\"])\n",
        "    answer = llm.invoke(formatted_prompt)\n",
        "    return {\"answer\": answer}\n"
      ]
    },
    {
      "cell_type": "code",
      "execution_count": 429,
      "metadata": {},
      "outputs": [],
      "source": [
        "\n",
        "from langchain.prompts import ChatPromptTemplate"
      ]
    },
    {
      "cell_type": "code",
      "execution_count": null,
      "metadata": {},
      "outputs": [],
      "source": [
        "def validate_output(state: GraphState) -> GraphState: # defines the node to validate the output. Here we use a structured output to validate the answer\n",
        "\n",
        "    # class to validate the answer\n",
        "    class ValidateAnswer(BaseModel):\n",
        "            \"\"\" Validate the answer. \"\"\"\n",
        "            valid: bool = Field(description=\"Is the answer valid? All checks must be passed. Returns True or False.\")\n",
        "            validation_feedback: str = Field(description=\"Feedback on the validation\")\n",
        "            recipes : list[str] = Field(description=\"List of recipes found in the answer\")\n",
        "    \n",
        "    validation_prompt = ChatPromptTemplate.from_messages([\n",
        "        (\"system\" , \"\"\"Du bist ein hilfreicher Assitent, der folgendes überprüft:                                                    \n",
        "        1. Achte darauf, dass in jedem einzelnen Rezept der Antwort alle Zutaten in der Zutatenliste enthalten sind, die auch in der Zubereitung erwähnt werden.\n",
        "        2. Prüfe, ob die Frage des Nutzers gut genug benatwortet wurde.\n",
        "        Gehe dabei strukturiert vor und prüfe jedes Rezept einzeln.\"\"\"),\n",
        "        (\"user\", \"{answer}\")]\n",
        "        )\n",
        "                                                                                                          \n",
        "    feedback = llm.with_structured_output(ValidateAnswer).invoke(validation_prompt.format(answer=state[\"answer\"]))\n",
        "\n",
        "    prompt_count = state.get(\"prompt_count\", 0) # get the prompt count from state, default to 0 if not set\n",
        "\n",
        "    return {\n",
        "        \"valid\": feedback.valid,  # extract the validity of the answer\n",
        "        \"validation_feedback\": feedback.validation_feedback,  # extract the validation feedback\n",
        "        \"recipes\" : feedback.recipes,\n",
        "        \"prompt_count\" : prompt_count  # keep track of the number of prompts \n",
        "    }\n",
        "\n"
      ]
    },
    {
      "cell_type": "code",
      "execution_count": 456,
      "metadata": {},
      "outputs": [],
      "source": [
        "from typing import Literal\n",
        "\n",
        "def feedback(state: GraphState) -> Literal[\"generator\", END]: # conditional edge to provide feedback and generate a new prompt if the answer is not valid\n",
        "    \n",
        "    if state[\"prompt_count\"] >= 3:  # limit the number of prompts to 3\n",
        "        print(\"Maximum number of prompts reached. Ending the conversation.\")\n",
        "        return END \n",
        "    \n",
        "    feedback = state.get(\"validation_feedback\", \"No feedback provided\")\n",
        "    revised_prompt = f\"\"\"Die vorherige Antwort war nicht vollständig. Feedback: {feedback}\n",
        "\n",
        "    Original prompt:\n",
        "    {state['input_prompt']}\n",
        "\n",
        "    \"\"\"\n",
        "    if not state[\"valid\"]: \n",
        "        formatted_prompt = prompt.format(context=state[\"context\"], input_prompt=revised_prompt)\n",
        "        state[\"input_prompt\"] = llm.invoke(formatted_prompt)\n",
        "        return \"generator\"\n",
        "    \n",
        "    return END\n"
      ]
    },
    {
      "cell_type": "code",
      "execution_count": 457,
      "metadata": {},
      "outputs": [
        {
          "data": {
            "text/plain": [
              "<langgraph.graph.state.StateGraph at 0x26b639cc7a0>"
            ]
          },
          "execution_count": 457,
          "metadata": {},
          "output_type": "execute_result"
        }
      ],
      "source": [
        "builder = StateGraph(GraphState)\n",
        "\n",
        "builder.add_node(\"retriever\", retrieve_docs)\n",
        "builder.add_node(\"generator\", generate_answer)\n",
        "builder.add_node(\"validator\", validate_output)\n",
        "\n",
        "\n",
        "# Add edges\n",
        "builder.set_entry_point(\"retriever\")\n",
        "builder.add_edge(\"retriever\", \"generator\")\n",
        "builder.add_edge(\"generator\", \"validator\")\n",
        "\n",
        "# Conditional edge from validator\n",
        "builder.add_conditional_edges(\n",
        "    \"validator\",\n",
        "    feedback\n",
        ")\n",
        "\n"
      ]
    },
    {
      "cell_type": "code",
      "execution_count": 458,
      "metadata": {},
      "outputs": [
        {
          "data": {
            "image/png": "[encoded data removed]",
            "text/plain": [
              "<IPython.core.display.Image object>"
            ]
          },
          "metadata": {},
          "output_type": "display_data"
        }
      ],
      "source": [
        "graph = builder.compile()\n",
        "\n",
        "from IPython.display import display, Image\n",
        "display(Image(graph.get_graph().draw_mermaid_png()))  # Display the graph"
      ]
    },
    {
      "cell_type": "markdown",
      "metadata": {},
      "source": [
        "We have now created an agent which check two things.\n",
        "1. Whenever our llm outputs a recipe, the llm in the loop check wether every ingredient is listed in the recipe description\n",
        "2. A general satisfy the client's question check"
      ]
    },
    {
      "cell_type": "code",
      "execution_count": 461,
      "metadata": {},
      "outputs": [
        {
          "name": "stdout",
          "output_type": "stream",
          "text": [
            "Es tut mir leid, aber in dem gegebenen Kontext befindet sich kein Witz. Ich kann dir aber Rezepte aus dem Kontext geben, wenn du möchtest.\n"
          ]
        }
      ],
      "source": [
        "initial_state = {\n",
        "    \"input_prompt\": \"Erzähl mir ein Witz.\",\n",
        "}\n",
        "\n",
        "result = graph.invoke(initial_state, {\"recursion_limit\": 10}) # set recursion limit for early stopping of the graph\n",
        "print(result[\"answer\"].content)\n"
      ]
    },
    {
      "cell_type": "markdown",
      "metadata": {},
      "source": [
        "Let us check the feedback that the llm gave."
      ]
    },
    {
      "cell_type": "code",
      "execution_count": 462,
      "metadata": {},
      "outputs": [
        {
          "name": "stdout",
          "output_type": "stream",
          "text": [
            "Die Antwort ist valide, da sie dem Nutzer mitteilt, dass im gegebenen Kontext kein Witz vorhanden ist, aber Rezepte angeboten werden, falls gewünscht. Es werden keine spezifischen Rezepte genannt, daher ist die Überprüfung der Zutatenlisten nicht erforderlich. Die Frage des Nutzers wurde ausreichend beantwortet, da auf den fehlenden Witz hingewiesen und eine Alternative angeboten wurde. \n"
          ]
        }
      ],
      "source": [
        "print(result[\"validation_feedback\"])"
      ]
    },
    {
      "cell_type": "markdown",
      "metadata": {},
      "source": [
        "As a final last check, we ask our graph what it was actually made for: giving out tasty recipes!"
      ]
    },
    {
      "cell_type": "code",
      "execution_count": 466,
      "metadata": {},
      "outputs": [
        {
          "name": "stdout",
          "output_type": "stream",
          "text": [
            "**Rezeptname**: Tomaten-Quiche\n",
            "\n",
            "**Zutaten**:\n",
            "*   Butter für die Form\n",
            "*   1 Paket frischer Blätterteig (230 g)\n",
            "*   2 Zweige Thymian\n",
            "*   2 Knoblauchzehen\n",
            "*   300 g Gruyère in Scheiben\n",
            "*   6 Tomaten\n",
            "*   15 schwarze Oliven mit Stein\n",
            "*   1 EL Dijon-Senf\n",
            "*   Pfeffer\n",
            "*   3 EL Olivenöl\n",
            "\n",
            "**Zubereitung**:\n",
            "\n",
            "1.  Den Backofen auf 200 °C Ober- und Unterhitze vorheizen.\n",
            "2.  Eine Quicheform mit Butter ausstreichen, den Blätterteig ausbreiten, in die Form legen und 15 Minuten in den Kühlschrank stellen.\n",
            "3.  Den Thymian waschen, trocken schütteln und die Blättchen abzupfen. Den Knoblauch schälen und den Käse in Streifen schneiden.\n",
            "4.  Die Tomaten waschen und in Scheiben schneiden, den Stielansatz entfernen. Die Oliven vom Stein schneiden und grob hacken.\n",
            "5.  Den Blätterteig dünn mit Senf bestreichen und den Käse darauf verteilen. Die Tomatenscheiben ringförmig auf den Käse legen und die Oliven darauf verteilen. Mit Thymianblättchen bestreuen und mit Pfeffer würzen.\n",
            "6.  Olivenöl mit gepresstem Knoblauch mischen, die Quiche damit beträufeln und im Backofen auf mittlerer Schiene ca. 25 Minuten backen.\n",
            "\n",
            "**Seite**: 41\n",
            "\n",
            "**Rezeptname**: Einfacher Fenchel- Tomaten-Auflauf\n",
            "\n",
            "**Zutaten**:\n",
            "\n",
            "*   4 Fenchel\n",
            "*   8 EL Olivenöl\n",
            "*   150 ml Gemüsebrühe\n",
            "*   2 Kugeln Mozzarella (à 125 g)\n",
            "*   150 g Hartkäse (Parmesan, Greyerzer oder alter Gouda)\n",
            "*   1 groSSe Dose geschälte Tomaten (800 g)\n",
            "*   8 Basilikumblätter\n",
            "*   Butter für die Form\n",
            "*   Salz, Pfeffer\n",
            "*   2 TL getrockneter Oregano\n",
            "*   2 TL getrockneter Thymian\n",
            "\n",
            "**Zubereitung**:\n",
            "\n",
            "1.  Den Fenchel waschen, putzen, die Stängel abschneiden, das Fenchelgrün fein hacken und zur Seite legen. Die Knolle der Länge nach in fingerdicke Scheiben schneiden.\n",
            "2.  Den Backofen auf 200 °C Ober- und Unterhitze (Heißluft 180 °C) vorheizen.\n",
            "3.  Das Olivenöl in einer großen Pfanne bei mittlerer Hitze heiß werden lassen, die Fenchelscheiben mit der Gemüsebrühe hineingeben und weich garen.\n",
            "4.  Den Mozzarella in Scheiben schneiden, den Hartkäse reiben.\n",
            "5.  Die Tomaten mit Saft in einer Pfanne bei starker Hitze einkochen, die Früchte dabei zerdrücken. Die Basilikumblätter abbrausen, trocknen und fein hacken.\n",
            "6.  Eine breite Auflaufform einfetten und die Hälfte der Fenchelscheiben hineinlegen. Die Hälfte der Mozzarellascheiben darüber verteilen, mit wenig Salz, Pfeffer, gehacktem Fenchelgrün und den Kräutern würzen. Ein Drittel vom geriebenen Käse darüber streuen.\n",
            "7.  Die übrigen Fenchelscheiben darauf legen, den restlichen Mozzarella, Kräuter und wieder ein Drittel vom Käse darauf verteilen.\n",
            "8.  Die Tomatensauce mit wenig Salz und Pfeffer abschmecken und über den Auflauf gießen. Die Oberfläche mit dem restlichen Käse bestreuen.\n",
            "9.  Im Backofen auf mittlerer Schiene 25 Minuten überbacken, bis der Käse gebräunt ist.\n",
            "\n",
            "**Seite**: 121\n",
            "\n",
            "**Rezeptname**: Gefüllte Tomaten\n",
            "\n",
            "**Zutaten**:\n",
            "\n",
            "*   12 mittelgroSSe Tomaten\n",
            "*   Salz, Pfeffer\n",
            "*   1 Stange Staudensellerie\n",
            "*   2–3 Frühlingszwiebeln\n",
            "*   1 Knoblauchzehe\n",
            "*   6 EL Olivenöl\n",
            "*   200 g griechische Reisnudeln (Kritharaki)\n",
            "*   ca. 500 ml Gemüsebrühe\n",
            "*   200 g Champignons\n",
            "*   1 mittelgroSSe Zucchini\n",
            "*   1 Bund Petersilie\n",
            "*   100 g Feta\n",
            "*   2 gehäufte EL Semmelbrösel\n",
            "*   2 EL gehackte Kräuter (Thymian, Koriander, Basilikum)\n",
            "\n",
            "**Zubereitung**:\n",
            "\n",
            "1.  Den Backofen auf 200 °C Ober- und Unterhitze (Heißluft 180 °C) vorheizen.\n",
            "2.  Die Tomaten waschen, einen Deckel abschneiden und das Innere mit einem Löffel herausholen. Die Tomaten umdrehen, abtropfen lassen und dann mit der Öffnung nach oben in eine Auflaufform stellen. Mit Salz und Pfeffer würzen.\n",
            "3.  Den Staudensellerie putzen, waschen und in feine Würfel schneiden. Die Frühlingszwiebeln putzen, waschen und klein schneiden. Den Knoblauch schälen und fein hacken. Beides in einem Topf mit 2 EL Olivenöl glasig andünsten.\n",
            "4.  Reisnudeln und Staudensellerie zugeben, von der Gemüsebrühe nach und nach nur so viel auffüllen, bis die Reisnudeln bissfest sind.\n",
            "5.  Die Champignons und Zucchini putzen, in kleine Stücke schneiden, in 4 EL Olivenöl anschwitzen, salzen und pfeffern.\n",
            "6.  Die Petersilie waschen, trocknen, die Blättchen abzupfen und mit den angeschwitzten Champignons und Zucchini unter die Reisnudeln mischen.\n",
            "7.  Den Fetakäse würfeln und zufügen, mit Salz und Pfeffer abschmecken.\n",
            "8.  Die Füllung in die Tomaten einfüllen und im vorgeheizten Backofen 40 bis 50 Minuten backen.\n",
            "9.  Die Tomaten etwa 5 Minuten vor Ende der Backzeit mit Semmelbröseln und gehackten Kräutern bestreuen und im Backofen bis zum Ende der Backzeit leicht gratinieren.\n",
            "\n",
            "**Seite**: 90\n"
          ]
        }
      ],
      "source": [
        "initial_state = {\n",
        "    \"input_prompt\": \"Gib mir ein Rezept mit Oliven und Tomaten. Am Liebsten etwas auf dem Backofen.\",\n",
        "}\n",
        "\n",
        "result = graph.invoke(initial_state, {\"recursion_limit\": 10}) # set recursion limit for early stopping of the graph\n",
        "print(result[\"answer\"].content)\n"
      ]
    }
  ],
  "metadata": {
    "colab": {
      "authorship_tag": "ABX9TyOAbukTHPesVLq/qeYNa/DY",
      "include_colab_link": true,
      "mount_file_id": "1a1LwUawBPX42jn6JEQWozgtukHBFEdPs",
      "provenance": []
    },
    "kernelspec": {
      "display_name": "base",
      "language": "python",
      "name": "python3"
    },
    "language_info": {
      "codemirror_mode": {
        "name": "ipython",
        "version": 3
      },
      "file_extension": ".py",
      "mimetype": "text/x-python",
      "name": "python",
      "nbconvert_exporter": "python",
      "pygments_lexer": "ipython3",
      "version": "3.12.7"
    },
    "widgets": {
      "application/vnd.jupyter.widget-state+json": {
        "03f09be66c054a2e94a553b6253cafe3": {
          "model_module": "@jupyter-widgets/base",
          "model_module_version": "1.2.0",
          "model_name": "LayoutModel",
          "state": {
            "_model_module": "@jupyter-widgets/base",
            "_model_module_version": "1.2.0",
            "_model_name": "LayoutModel",
            "_view_count": null,
            "_view_module": "@jupyter-widgets/base",
            "_view_module_version": "1.2.0",
            "_view_name": "LayoutView",
            "align_content": null,
            "align_items": null,
            "align_self": null,
            "border": null,
            "bottom": null,
            "display": null,
            "flex": null,
            "flex_flow": null,
            "grid_area": null,
            "grid_auto_columns": null,
            "grid_auto_flow": null,
            "grid_auto_rows": null,
            "grid_column": null,
            "grid_gap": null,
            "grid_row": null,
            "grid_template_areas": null,
            "grid_template_columns": null,
            "grid_template_rows": null,
            "height": null,
            "justify_content": null,
            "justify_items": null,
            "left": null,
            "margin": null,
            "max_height": null,
            "max_width": null,
            "min_height": null,
            "min_width": null,
            "object_fit": null,
            "object_position": null,
            "order": null,
            "overflow": null,
            "overflow_x": null,
            "overflow_y": null,
            "padding": null,
            "right": null,
            "top": null,
            "visibility": null,
            "width": null
          }
        },
        "06e8086fda294e4fad3dcc74587479d7": {
          "model_module": "@jupyter-widgets/controls",
          "model_module_version": "1.5.0",
          "model_name": "FloatProgressModel",
          "state": {
            "_dom_classes": [],
            "_model_module": "@jupyter-widgets/controls",
            "_model_module_version": "1.5.0",
            "_model_name": "FloatProgressModel",
            "_view_count": null,
            "_view_module": "@jupyter-widgets/controls",
            "_view_module_version": "1.5.0",
            "_view_name": "ProgressView",
            "bar_style": "success",
            "description": "",
            "description_tooltip": null,
            "layout": "IPY_MODEL_a26fb58abd364ce58fc9c6d5626d6db4",
            "max": 385,
            "min": 0,
            "orientation": "horizontal",
            "style": "IPY_MODEL_21c7c7bf884642e38a504deaa404396a",
            "value": 385
          }
        },
        "0a55112599ee47419eb6f21a3a17f1bc": {
          "model_module": "@jupyter-widgets/controls",
          "model_module_version": "1.5.0",
          "model_name": "FloatProgressModel",
          "state": {
            "_dom_classes": [],
            "_model_module": "@jupyter-widgets/controls",
            "_model_module_version": "1.5.0",
            "_model_name": "FloatProgressModel",
            "_view_count": null,
            "_view_module": "@jupyter-widgets/controls",
            "_view_module_version": "1.5.0",
            "_view_name": "ProgressView",
            "bar_style": "success",
            "description": "",
            "description_tooltip": null,
            "layout": "IPY_MODEL_1e272ec727fd42eeab579cb8c0f4734f",
            "max": 231508,
            "min": 0,
            "orientation": "horizontal",
            "style": "IPY_MODEL_964ff98a658747cd84e86ddd681d74a3",
            "value": 231508
          }
        },
        "0c91c4aeaa7940efb32bb979513aabec": {
          "model_module": "@jupyter-widgets/controls",
          "model_module_version": "1.5.0",
          "model_name": "ProgressStyleModel",
          "state": {
            "_model_module": "@jupyter-widgets/controls",
            "_model_module_version": "1.5.0",
            "_model_name": "ProgressStyleModel",
            "_view_count": null,
            "_view_module": "@jupyter-widgets/base",
            "_view_module_version": "1.2.0",
            "_view_name": "StyleView",
            "bar_color": null,
            "description_width": ""
          }
        },
        "0f10d2e852fd4e65beb7f4fddffa72aa": {
          "model_module": "@jupyter-widgets/base",
          "model_module_version": "1.2.0",
          "model_name": "LayoutModel",
          "state": {
            "_model_module": "@jupyter-widgets/base",
            "_model_module_version": "1.2.0",
            "_model_name": "LayoutModel",
            "_view_count": null,
            "_view_module": "@jupyter-widgets/base",
            "_view_module_version": "1.2.0",
            "_view_name": "LayoutView",
            "align_content": null,
            "align_items": null,
            "align_self": null,
            "border": null,
            "bottom": null,
            "display": null,
            "flex": null,
            "flex_flow": null,
            "grid_area": null,
            "grid_auto_columns": null,
            "grid_auto_flow": null,
            "grid_auto_rows": null,
            "grid_column": null,
            "grid_gap": null,
            "grid_row": null,
            "grid_template_areas": null,
            "grid_template_columns": null,
            "grid_template_rows": null,
            "height": null,
            "justify_content": null,
            "justify_items": null,
            "left": null,
            "margin": null,
            "max_height": null,
            "max_width": null,
            "min_height": null,
            "min_width": null,
            "object_fit": null,
            "object_position": null,
            "order": null,
            "overflow": null,
            "overflow_x": null,
            "overflow_y": null,
            "padding": null,
            "right": null,
            "top": null,
            "visibility": null,
            "width": null
          }
        },
        "0fae8ce8ef1c4fe595ccf0ff7c1992a0": {
          "model_module": "@jupyter-widgets/base",
          "model_module_version": "1.2.0",
          "model_name": "LayoutModel",
          "state": {
            "_model_module": "@jupyter-widgets/base",
            "_model_module_version": "1.2.0",
            "_model_name": "LayoutModel",
            "_view_count": null,
            "_view_module": "@jupyter-widgets/base",
            "_view_module_version": "1.2.0",
            "_view_name": "LayoutView",
            "align_content": null,
            "align_items": null,
            "align_self": null,
            "border": null,
            "bottom": null,
            "display": null,
            "flex": null,
            "flex_flow": null,
            "grid_area": null,
            "grid_auto_columns": null,
            "grid_auto_flow": null,
            "grid_auto_rows": null,
            "grid_column": null,
            "grid_gap": null,
            "grid_row": null,
            "grid_template_areas": null,
            "grid_template_columns": null,
            "grid_template_rows": null,
            "height": null,
            "justify_content": null,
            "justify_items": null,
            "left": null,
            "margin": null,
            "max_height": null,
            "max_width": null,
            "min_height": null,
            "min_width": null,
            "object_fit": null,
            "object_position": null,
            "order": null,
            "overflow": null,
            "overflow_x": null,
            "overflow_y": null,
            "padding": null,
            "right": null,
            "top": null,
            "visibility": null,
            "width": null
          }
        },
        "130da72849e14423806c2c564a58df99": {
          "model_module": "@jupyter-widgets/controls",
          "model_module_version": "1.5.0",
          "model_name": "HTMLModel",
          "state": {
            "_dom_classes": [],
            "_model_module": "@jupyter-widgets/controls",
            "_model_module_version": "1.5.0",
            "_model_name": "HTMLModel",
            "_view_count": null,
            "_view_module": "@jupyter-widgets/controls",
            "_view_module_version": "1.5.0",
            "_view_name": "HTMLView",
            "description": "",
            "description_tooltip": null,
            "layout": "IPY_MODEL_beddecdd3493453e8109f4c6bb610d49",
            "placeholder": "​",
            "style": "IPY_MODEL_b3af0260da8a41dcbcbaf54db5050876",
            "value": "vocab.txt: 100%"
          }
        },
        "14a422b117ec404e8a81b12f9214e892": {
          "model_module": "@jupyter-widgets/controls",
          "model_module_version": "1.5.0",
          "model_name": "HTMLModel",
          "state": {
            "_dom_classes": [],
            "_model_module": "@jupyter-widgets/controls",
            "_model_module_version": "1.5.0",
            "_model_name": "HTMLModel",
            "_view_count": null,
            "_view_module": "@jupyter-widgets/controls",
            "_view_module_version": "1.5.0",
            "_view_name": "HTMLView",
            "description": "",
            "description_tooltip": null,
            "layout": "IPY_MODEL_645ad5335b03425aa5c9e1dda60e5d91",
            "placeholder": "​",
            "style": "IPY_MODEL_275437ca031b434bbe798a0202e76692",
            "value": "config.json: 100%"
          }
        },
        "1a80c62994014f909f6469bacb443a0b": {
          "model_module": "@jupyter-widgets/controls",
          "model_module_version": "1.5.0",
          "model_name": "HTMLModel",
          "state": {
            "_dom_classes": [],
            "_model_module": "@jupyter-widgets/controls",
            "_model_module_version": "1.5.0",
            "_model_name": "HTMLModel",
            "_view_count": null,
            "_view_module": "@jupyter-widgets/controls",
            "_view_module_version": "1.5.0",
            "_view_name": "HTMLView",
            "description": "",
            "description_tooltip": null,
            "layout": "IPY_MODEL_533509fc0b234d13b13c363beffcbfde",
            "placeholder": "​",
            "style": "IPY_MODEL_a0c0c0b0113a49f99ce3bb30d9e6c1b9",
            "value": " 232k/232k [00:00&lt;00:00, 9.23MB/s]"
          }
        },
        "1e272ec727fd42eeab579cb8c0f4734f": {
          "model_module": "@jupyter-widgets/base",
          "model_module_version": "1.2.0",
          "model_name": "LayoutModel",
          "state": {
            "_model_module": "@jupyter-widgets/base",
            "_model_module_version": "1.2.0",
            "_model_name": "LayoutModel",
            "_view_count": null,
            "_view_module": "@jupyter-widgets/base",
            "_view_module_version": "1.2.0",
            "_view_name": "LayoutView",
            "align_content": null,
            "align_items": null,
            "align_self": null,
            "border": null,
            "bottom": null,
            "display": null,
            "flex": null,
            "flex_flow": null,
            "grid_area": null,
            "grid_auto_columns": null,
            "grid_auto_flow": null,
            "grid_auto_rows": null,
            "grid_column": null,
            "grid_gap": null,
            "grid_row": null,
            "grid_template_areas": null,
            "grid_template_columns": null,
            "grid_template_rows": null,
            "height": null,
            "justify_content": null,
            "justify_items": null,
            "left": null,
            "margin": null,
            "max_height": null,
            "max_width": null,
            "min_height": null,
            "min_width": null,
            "object_fit": null,
            "object_position": null,
            "order": null,
            "overflow": null,
            "overflow_x": null,
            "overflow_y": null,
            "padding": null,
            "right": null,
            "top": null,
            "visibility": null,
            "width": null
          }
        },
        "21c7c7bf884642e38a504deaa404396a": {
          "model_module": "@jupyter-widgets/controls",
          "model_module_version": "1.5.0",
          "model_name": "ProgressStyleModel",
          "state": {
            "_model_module": "@jupyter-widgets/controls",
            "_model_module_version": "1.5.0",
            "_model_name": "ProgressStyleModel",
            "_view_count": null,
            "_view_module": "@jupyter-widgets/base",
            "_view_module_version": "1.2.0",
            "_view_name": "StyleView",
            "bar_color": null,
            "description_width": ""
          }
        },
        "21e614a76861461483833d43e404d61e": {
          "model_module": "@jupyter-widgets/base",
          "model_module_version": "1.2.0",
          "model_name": "LayoutModel",
          "state": {
            "_model_module": "@jupyter-widgets/base",
            "_model_module_version": "1.2.0",
            "_model_name": "LayoutModel",
            "_view_count": null,
            "_view_module": "@jupyter-widgets/base",
            "_view_module_version": "1.2.0",
            "_view_name": "LayoutView",
            "align_content": null,
            "align_items": null,
            "align_self": null,
            "border": null,
            "bottom": null,
            "display": null,
            "flex": null,
            "flex_flow": null,
            "grid_area": null,
            "grid_auto_columns": null,
            "grid_auto_flow": null,
            "grid_auto_rows": null,
            "grid_column": null,
            "grid_gap": null,
            "grid_row": null,
            "grid_template_areas": null,
            "grid_template_columns": null,
            "grid_template_rows": null,
            "height": null,
            "justify_content": null,
            "justify_items": null,
            "left": null,
            "margin": null,
            "max_height": null,
            "max_width": null,
            "min_height": null,
            "min_width": null,
            "object_fit": null,
            "object_position": null,
            "order": null,
            "overflow": null,
            "overflow_x": null,
            "overflow_y": null,
            "padding": null,
            "right": null,
            "top": null,
            "visibility": null,
            "width": null
          }
        },
        "23539b2c0cf04bd998462ec73513f975": {
          "model_module": "@jupyter-widgets/controls",
          "model_module_version": "1.5.0",
          "model_name": "HTMLModel",
          "state": {
            "_dom_classes": [],
            "_model_module": "@jupyter-widgets/controls",
            "_model_module_version": "1.5.0",
            "_model_name": "HTMLModel",
            "_view_count": null,
            "_view_module": "@jupyter-widgets/controls",
            "_view_module_version": "1.5.0",
            "_view_name": "HTMLView",
            "description": "",
            "description_tooltip": null,
            "layout": "IPY_MODEL_5612d815b82644288979e648fd3003dc",
            "placeholder": "​",
            "style": "IPY_MODEL_46e68856ce6f412a8a99a41dcaf89536",
            "value": " 394/394 [00:00&lt;00:00, 24.0kB/s]"
          }
        },
        "237d04cf18a2491496b432d53930a147": {
          "model_module": "@jupyter-widgets/controls",
          "model_module_version": "1.5.0",
          "model_name": "FloatProgressModel",
          "state": {
            "_dom_classes": [],
            "_model_module": "@jupyter-widgets/controls",
            "_model_module_version": "1.5.0",
            "_model_name": "FloatProgressModel",
            "_view_count": null,
            "_view_module": "@jupyter-widgets/controls",
            "_view_module_version": "1.5.0",
            "_view_name": "ProgressView",
            "bar_style": "success",
            "description": "",
            "description_tooltip": null,
            "layout": "IPY_MODEL_420c2f11f6f64f459deac125df3f07e2",
            "max": 125,
            "min": 0,
            "orientation": "horizontal",
            "style": "IPY_MODEL_cdb7299365fc406185d12c7c8d05f09a",
            "value": 125
          }
        },
        "24f75671c9b141f2a47c6abdbcfc7439": {
          "model_module": "@jupyter-widgets/controls",
          "model_module_version": "1.5.0",
          "model_name": "HBoxModel",
          "state": {
            "_dom_classes": [],
            "_model_module": "@jupyter-widgets/controls",
            "_model_module_version": "1.5.0",
            "_model_name": "HBoxModel",
            "_view_count": null,
            "_view_module": "@jupyter-widgets/controls",
            "_view_module_version": "1.5.0",
            "_view_name": "HBoxView",
            "box_style": "",
            "children": [
              "IPY_MODEL_f81bc191c7224b64807a549978f31c28",
              "IPY_MODEL_5d2845e369754a82a239b8014c7538f3",
              "IPY_MODEL_2fb6dfd4673844998e033ebdc132cbae"
            ],
            "layout": "IPY_MODEL_4d5ac5880f094fa9a2afa9b9647f4c57"
          }
        },
        "260a3f8bbb984472b9d8db56199573a2": {
          "model_module": "@jupyter-widgets/controls",
          "model_module_version": "1.5.0",
          "model_name": "HBoxModel",
          "state": {
            "_dom_classes": [],
            "_model_module": "@jupyter-widgets/controls",
            "_model_module_version": "1.5.0",
            "_model_name": "HBoxModel",
            "_view_count": null,
            "_view_module": "@jupyter-widgets/controls",
            "_view_module_version": "1.5.0",
            "_view_name": "HBoxView",
            "box_style": "",
            "children": [
              "IPY_MODEL_68b91d9824e442568b5bc525fbb30ac6",
              "IPY_MODEL_338d330188fa44e997b2303ebce0b991",
              "IPY_MODEL_c1c4783f3da543aaab0b06dc015d9252"
            ],
            "layout": "IPY_MODEL_6407c69b3e8747c98beb7a57e6c7a3f0"
          }
        },
        "275437ca031b434bbe798a0202e76692": {
          "model_module": "@jupyter-widgets/controls",
          "model_module_version": "1.5.0",
          "model_name": "DescriptionStyleModel",
          "state": {
            "_model_module": "@jupyter-widgets/controls",
            "_model_module_version": "1.5.0",
            "_model_name": "DescriptionStyleModel",
            "_view_count": null,
            "_view_module": "@jupyter-widgets/base",
            "_view_module_version": "1.2.0",
            "_view_name": "StyleView",
            "description_width": ""
          }
        },
        "27f0937cb1ff4f0081edd3569a9cb46a": {
          "model_module": "@jupyter-widgets/controls",
          "model_module_version": "1.5.0",
          "model_name": "DescriptionStyleModel",
          "state": {
            "_model_module": "@jupyter-widgets/controls",
            "_model_module_version": "1.5.0",
            "_model_name": "DescriptionStyleModel",
            "_view_count": null,
            "_view_module": "@jupyter-widgets/base",
            "_view_module_version": "1.2.0",
            "_view_name": "StyleView",
            "description_width": ""
          }
        },
        "28f63d491efc4b67bd86a0dec604a338": {
          "model_module": "@jupyter-widgets/base",
          "model_module_version": "1.2.0",
          "model_name": "LayoutModel",
          "state": {
            "_model_module": "@jupyter-widgets/base",
            "_model_module_version": "1.2.0",
            "_model_name": "LayoutModel",
            "_view_count": null,
            "_view_module": "@jupyter-widgets/base",
            "_view_module_version": "1.2.0",
            "_view_name": "LayoutView",
            "align_content": null,
            "align_items": null,
            "align_self": null,
            "border": null,
            "bottom": null,
            "display": null,
            "flex": null,
            "flex_flow": null,
            "grid_area": null,
            "grid_auto_columns": null,
            "grid_auto_flow": null,
            "grid_auto_rows": null,
            "grid_column": null,
            "grid_gap": null,
            "grid_row": null,
            "grid_template_areas": null,
            "grid_template_columns": null,
            "grid_template_rows": null,
            "height": null,
            "justify_content": null,
            "justify_items": null,
            "left": null,
            "margin": null,
            "max_height": null,
            "max_width": null,
            "min_height": null,
            "min_width": null,
            "object_fit": null,
            "object_position": null,
            "order": null,
            "overflow": null,
            "overflow_x": null,
            "overflow_y": null,
            "padding": null,
            "right": null,
            "top": null,
            "visibility": null,
            "width": null
          }
        },
        "2d40724467af48359706503f3572d53a": {
          "model_module": "@jupyter-widgets/base",
          "model_module_version": "1.2.0",
          "model_name": "LayoutModel",
          "state": {
            "_model_module": "@jupyter-widgets/base",
            "_model_module_version": "1.2.0",
            "_model_name": "LayoutModel",
            "_view_count": null,
            "_view_module": "@jupyter-widgets/base",
            "_view_module_version": "1.2.0",
            "_view_name": "LayoutView",
            "align_content": null,
            "align_items": null,
            "align_self": null,
            "border": null,
            "bottom": null,
            "display": null,
            "flex": null,
            "flex_flow": null,
            "grid_area": null,
            "grid_auto_columns": null,
            "grid_auto_flow": null,
            "grid_auto_rows": null,
            "grid_column": null,
            "grid_gap": null,
            "grid_row": null,
            "grid_template_areas": null,
            "grid_template_columns": null,
            "grid_template_rows": null,
            "height": null,
            "justify_content": null,
            "justify_items": null,
            "left": null,
            "margin": null,
            "max_height": null,
            "max_width": null,
            "min_height": null,
            "min_width": null,
            "object_fit": null,
            "object_position": null,
            "order": null,
            "overflow": null,
            "overflow_x": null,
            "overflow_y": null,
            "padding": null,
            "right": null,
            "top": null,
            "visibility": null,
            "width": null
          }
        },
        "2de6186faaa74f05bfec1ae7ed802c12": {
          "model_module": "@jupyter-widgets/controls",
          "model_module_version": "1.5.0",
          "model_name": "FloatProgressModel",
          "state": {
            "_dom_classes": [],
            "_model_module": "@jupyter-widgets/controls",
            "_model_module_version": "1.5.0",
            "_model_name": "FloatProgressModel",
            "_view_count": null,
            "_view_module": "@jupyter-widgets/controls",
            "_view_module_version": "1.5.0",
            "_view_name": "ProgressView",
            "bar_style": "success",
            "description": "",
            "description_tooltip": null,
            "layout": "IPY_MODEL_3fe3a9cb3ac64e5fa970c8254bb552ee",
            "max": 68084,
            "min": 0,
            "orientation": "horizontal",
            "style": "IPY_MODEL_4d003fe2530b4902b5be47599ae7083b",
            "value": 68084
          }
        },
        "2fb6dfd4673844998e033ebdc132cbae": {
          "model_module": "@jupyter-widgets/controls",
          "model_module_version": "1.5.0",
          "model_name": "HTMLModel",
          "state": {
            "_dom_classes": [],
            "_model_module": "@jupyter-widgets/controls",
            "_model_module_version": "1.5.0",
            "_model_name": "HTMLModel",
            "_view_count": null,
            "_view_module": "@jupyter-widgets/controls",
            "_view_module_version": "1.5.0",
            "_view_name": "HTMLView",
            "description": "",
            "description_tooltip": null,
            "layout": "IPY_MODEL_21e614a76861461483833d43e404d61e",
            "placeholder": "​",
            "style": "IPY_MODEL_f11a2efce9db4bef95f4b4ef58b1fcc3",
            "value": " 57.0/57.0 [00:00&lt;00:00, 3.59kB/s]"
          }
        },
        "30ba6e28b4494fd1bee86461815ce8fe": {
          "model_module": "@jupyter-widgets/controls",
          "model_module_version": "1.5.0",
          "model_name": "HTMLModel",
          "state": {
            "_dom_classes": [],
            "_model_module": "@jupyter-widgets/controls",
            "_model_module_version": "1.5.0",
            "_model_name": "HTMLModel",
            "_view_count": null,
            "_view_module": "@jupyter-widgets/controls",
            "_view_module_version": "1.5.0",
            "_view_name": "HTMLView",
            "description": "",
            "description_tooltip": null,
            "layout": "IPY_MODEL_c23d325309c240b3a81596784831fd09",
            "placeholder": "​",
            "style": "IPY_MODEL_f8d9dff59e544d3eb8f84de37b8eff47",
            "value": "config.json: 100%"
          }
        },
        "32c2947ffcfa48759183461f333e09d3": {
          "model_module": "@jupyter-widgets/base",
          "model_module_version": "1.2.0",
          "model_name": "LayoutModel",
          "state": {
            "_model_module": "@jupyter-widgets/base",
            "_model_module_version": "1.2.0",
            "_model_name": "LayoutModel",
            "_view_count": null,
            "_view_module": "@jupyter-widgets/base",
            "_view_module_version": "1.2.0",
            "_view_name": "LayoutView",
            "align_content": null,
            "align_items": null,
            "align_self": null,
            "border": null,
            "bottom": null,
            "display": null,
            "flex": null,
            "flex_flow": null,
            "grid_area": null,
            "grid_auto_columns": null,
            "grid_auto_flow": null,
            "grid_auto_rows": null,
            "grid_column": null,
            "grid_gap": null,
            "grid_row": null,
            "grid_template_areas": null,
            "grid_template_columns": null,
            "grid_template_rows": null,
            "height": null,
            "justify_content": null,
            "justify_items": null,
            "left": null,
            "margin": null,
            "max_height": null,
            "max_width": null,
            "min_height": null,
            "min_width": null,
            "object_fit": null,
            "object_position": null,
            "order": null,
            "overflow": null,
            "overflow_x": null,
            "overflow_y": null,
            "padding": null,
            "right": null,
            "top": null,
            "visibility": null,
            "width": null
          }
        },
        "3323fcdc136c4be28a335b6fcfdf18c6": {
          "model_module": "@jupyter-widgets/controls",
          "model_module_version": "1.5.0",
          "model_name": "HTMLModel",
          "state": {
            "_dom_classes": [],
            "_model_module": "@jupyter-widgets/controls",
            "_model_module_version": "1.5.0",
            "_model_name": "HTMLModel",
            "_view_count": null,
            "_view_module": "@jupyter-widgets/controls",
            "_view_module_version": "1.5.0",
            "_view_name": "HTMLView",
            "description": "",
            "description_tooltip": null,
            "layout": "IPY_MODEL_e3fc177a3c274d0fbea77feda85c4df0",
            "placeholder": "​",
            "style": "IPY_MODEL_9d3a03f3749445cda7cb6762bb97260a",
            "value": " 125/125 [00:00&lt;00:00, 8.34kB/s]"
          }
        },
        "338d330188fa44e997b2303ebce0b991": {
          "model_module": "@jupyter-widgets/controls",
          "model_module_version": "1.5.0",
          "model_name": "FloatProgressModel",
          "state": {
            "_dom_classes": [],
            "_model_module": "@jupyter-widgets/controls",
            "_model_module_version": "1.5.0",
            "_model_name": "FloatProgressModel",
            "_view_count": null,
            "_view_module": "@jupyter-widgets/controls",
            "_view_module_version": "1.5.0",
            "_view_name": "ProgressView",
            "bar_style": "success",
            "description": "",
            "description_tooltip": null,
            "layout": "IPY_MODEL_b6bd001409ee4d21a7cef9e259eabe94",
            "max": 711661,
            "min": 0,
            "orientation": "horizontal",
            "style": "IPY_MODEL_60542d0b8f6d4de09d88a8480a0a7e78",
            "value": 711661
          }
        },
        "3399f28812134870b95bf4df0320a95c": {
          "model_module": "@jupyter-widgets/controls",
          "model_module_version": "1.5.0",
          "model_name": "HTMLModel",
          "state": {
            "_dom_classes": [],
            "_model_module": "@jupyter-widgets/controls",
            "_model_module_version": "1.5.0",
            "_model_name": "HTMLModel",
            "_view_count": null,
            "_view_module": "@jupyter-widgets/controls",
            "_view_module_version": "1.5.0",
            "_view_name": "HTMLView",
            "description": "",
            "description_tooltip": null,
            "layout": "IPY_MODEL_32c2947ffcfa48759183461f333e09d3",
            "placeholder": "​",
            "style": "IPY_MODEL_ff35e3ff2c5c4598b4d478466e1e4d63",
            "value": " 385/385 [00:00&lt;00:00, 11.5kB/s]"
          }
        },
        "37d3eb13dc344872bbae9339192c5953": {
          "model_module": "@jupyter-widgets/controls",
          "model_module_version": "1.5.0",
          "model_name": "HTMLModel",
          "state": {
            "_dom_classes": [],
            "_model_module": "@jupyter-widgets/controls",
            "_model_module_version": "1.5.0",
            "_model_name": "HTMLModel",
            "_view_count": null,
            "_view_module": "@jupyter-widgets/controls",
            "_view_module_version": "1.5.0",
            "_view_name": "HTMLView",
            "description": "",
            "description_tooltip": null,
            "layout": "IPY_MODEL_9ae26c8c59834d48bb7d56103667d51b",
            "placeholder": "​",
            "style": "IPY_MODEL_27f0937cb1ff4f0081edd3569a9cb46a",
            "value": " 68.1k/68.1k [00:00&lt;00:00, 2.30MB/s]"
          }
        },
        "39b79f1a9ea14154a9058c2fcdf44b4b": {
          "model_module": "@jupyter-widgets/base",
          "model_module_version": "1.2.0",
          "model_name": "LayoutModel",
          "state": {
            "_model_module": "@jupyter-widgets/base",
            "_model_module_version": "1.2.0",
            "_model_name": "LayoutModel",
            "_view_count": null,
            "_view_module": "@jupyter-widgets/base",
            "_view_module_version": "1.2.0",
            "_view_name": "LayoutView",
            "align_content": null,
            "align_items": null,
            "align_self": null,
            "border": null,
            "bottom": null,
            "display": null,
            "flex": null,
            "flex_flow": null,
            "grid_area": null,
            "grid_auto_columns": null,
            "grid_auto_flow": null,
            "grid_auto_rows": null,
            "grid_column": null,
            "grid_gap": null,
            "grid_row": null,
            "grid_template_areas": null,
            "grid_template_columns": null,
            "grid_template_rows": null,
            "height": null,
            "justify_content": null,
            "justify_items": null,
            "left": null,
            "margin": null,
            "max_height": null,
            "max_width": null,
            "min_height": null,
            "min_width": null,
            "object_fit": null,
            "object_position": null,
            "order": null,
            "overflow": null,
            "overflow_x": null,
            "overflow_y": null,
            "padding": null,
            "right": null,
            "top": null,
            "visibility": null,
            "width": null
          }
        },
        "3fe3a9cb3ac64e5fa970c8254bb552ee": {
          "model_module": "@jupyter-widgets/base",
          "model_module_version": "1.2.0",
          "model_name": "LayoutModel",
          "state": {
            "_model_module": "@jupyter-widgets/base",
            "_model_module_version": "1.2.0",
            "_model_name": "LayoutModel",
            "_view_count": null,
            "_view_module": "@jupyter-widgets/base",
            "_view_module_version": "1.2.0",
            "_view_name": "LayoutView",
            "align_content": null,
            "align_items": null,
            "align_self": null,
            "border": null,
            "bottom": null,
            "display": null,
            "flex": null,
            "flex_flow": null,
            "grid_area": null,
            "grid_auto_columns": null,
            "grid_auto_flow": null,
            "grid_auto_rows": null,
            "grid_column": null,
            "grid_gap": null,
            "grid_row": null,
            "grid_template_areas": null,
            "grid_template_columns": null,
            "grid_template_rows": null,
            "height": null,
            "justify_content": null,
            "justify_items": null,
            "left": null,
            "margin": null,
            "max_height": null,
            "max_width": null,
            "min_height": null,
            "min_width": null,
            "object_fit": null,
            "object_position": null,
            "order": null,
            "overflow": null,
            "overflow_x": null,
            "overflow_y": null,
            "padding": null,
            "right": null,
            "top": null,
            "visibility": null,
            "width": null
          }
        },
        "40cd29f37ddb480cabba1b644815c939": {
          "model_module": "@jupyter-widgets/controls",
          "model_module_version": "1.5.0",
          "model_name": "HBoxModel",
          "state": {
            "_dom_classes": [],
            "_model_module": "@jupyter-widgets/controls",
            "_model_module_version": "1.5.0",
            "_model_name": "HBoxModel",
            "_view_count": null,
            "_view_module": "@jupyter-widgets/controls",
            "_view_module_version": "1.5.0",
            "_view_name": "HBoxView",
            "box_style": "",
            "children": [
              "IPY_MODEL_45304e36827949aa8c9c2e674e11c282",
              "IPY_MODEL_06e8086fda294e4fad3dcc74587479d7",
              "IPY_MODEL_3399f28812134870b95bf4df0320a95c"
            ],
            "layout": "IPY_MODEL_03f09be66c054a2e94a553b6253cafe3"
          }
        },
        "420c2f11f6f64f459deac125df3f07e2": {
          "model_module": "@jupyter-widgets/base",
          "model_module_version": "1.2.0",
          "model_name": "LayoutModel",
          "state": {
            "_model_module": "@jupyter-widgets/base",
            "_model_module_version": "1.2.0",
            "_model_name": "LayoutModel",
            "_view_count": null,
            "_view_module": "@jupyter-widgets/base",
            "_view_module_version": "1.2.0",
            "_view_name": "LayoutView",
            "align_content": null,
            "align_items": null,
            "align_self": null,
            "border": null,
            "bottom": null,
            "display": null,
            "flex": null,
            "flex_flow": null,
            "grid_area": null,
            "grid_auto_columns": null,
            "grid_auto_flow": null,
            "grid_auto_rows": null,
            "grid_column": null,
            "grid_gap": null,
            "grid_row": null,
            "grid_template_areas": null,
            "grid_template_columns": null,
            "grid_template_rows": null,
            "height": null,
            "justify_content": null,
            "justify_items": null,
            "left": null,
            "margin": null,
            "max_height": null,
            "max_width": null,
            "min_height": null,
            "min_width": null,
            "object_fit": null,
            "object_position": null,
            "order": null,
            "overflow": null,
            "overflow_x": null,
            "overflow_y": null,
            "padding": null,
            "right": null,
            "top": null,
            "visibility": null,
            "width": null
          }
        },
        "45304e36827949aa8c9c2e674e11c282": {
          "model_module": "@jupyter-widgets/controls",
          "model_module_version": "1.5.0",
          "model_name": "HTMLModel",
          "state": {
            "_dom_classes": [],
            "_model_module": "@jupyter-widgets/controls",
            "_model_module_version": "1.5.0",
            "_model_name": "HTMLModel",
            "_view_count": null,
            "_view_module": "@jupyter-widgets/controls",
            "_view_module_version": "1.5.0",
            "_view_name": "HTMLView",
            "description": "",
            "description_tooltip": null,
            "layout": "IPY_MODEL_b6b94a248c624c1d8e105bb706ad08b0",
            "placeholder": "​",
            "style": "IPY_MODEL_7039ad7f97e54f9ba611fdef16e3617b",
            "value": "modules.json: 100%"
          }
        },
        "46e68856ce6f412a8a99a41dcaf89536": {
          "model_module": "@jupyter-widgets/controls",
          "model_module_version": "1.5.0",
          "model_name": "DescriptionStyleModel",
          "state": {
            "_model_module": "@jupyter-widgets/controls",
            "_model_module_version": "1.5.0",
            "_model_name": "DescriptionStyleModel",
            "_view_count": null,
            "_view_module": "@jupyter-widgets/base",
            "_view_module_version": "1.2.0",
            "_view_name": "StyleView",
            "description_width": ""
          }
        },
        "48d1247d7a8946738807d19feb872bf6": {
          "model_module": "@jupyter-widgets/base",
          "model_module_version": "1.2.0",
          "model_name": "LayoutModel",
          "state": {
            "_model_module": "@jupyter-widgets/base",
            "_model_module_version": "1.2.0",
            "_model_name": "LayoutModel",
            "_view_count": null,
            "_view_module": "@jupyter-widgets/base",
            "_view_module_version": "1.2.0",
            "_view_name": "LayoutView",
            "align_content": null,
            "align_items": null,
            "align_self": null,
            "border": null,
            "bottom": null,
            "display": null,
            "flex": null,
            "flex_flow": null,
            "grid_area": null,
            "grid_auto_columns": null,
            "grid_auto_flow": null,
            "grid_auto_rows": null,
            "grid_column": null,
            "grid_gap": null,
            "grid_row": null,
            "grid_template_areas": null,
            "grid_template_columns": null,
            "grid_template_rows": null,
            "height": null,
            "justify_content": null,
            "justify_items": null,
            "left": null,
            "margin": null,
            "max_height": null,
            "max_width": null,
            "min_height": null,
            "min_width": null,
            "object_fit": null,
            "object_position": null,
            "order": null,
            "overflow": null,
            "overflow_x": null,
            "overflow_y": null,
            "padding": null,
            "right": null,
            "top": null,
            "visibility": null,
            "width": null
          }
        },
        "4bad9da1071e4e08adb5b5907fdf6758": {
          "model_module": "@jupyter-widgets/controls",
          "model_module_version": "1.5.0",
          "model_name": "DescriptionStyleModel",
          "state": {
            "_model_module": "@jupyter-widgets/controls",
            "_model_module_version": "1.5.0",
            "_model_name": "DescriptionStyleModel",
            "_view_count": null,
            "_view_module": "@jupyter-widgets/base",
            "_view_module_version": "1.2.0",
            "_view_name": "StyleView",
            "description_width": ""
          }
        },
        "4be37dc464a34b53a21b91a123266941": {
          "model_module": "@jupyter-widgets/controls",
          "model_module_version": "1.5.0",
          "model_name": "HBoxModel",
          "state": {
            "_dom_classes": [],
            "_model_module": "@jupyter-widgets/controls",
            "_model_module_version": "1.5.0",
            "_model_name": "HBoxModel",
            "_view_count": null,
            "_view_module": "@jupyter-widgets/controls",
            "_view_module_version": "1.5.0",
            "_view_name": "HBoxView",
            "box_style": "",
            "children": [
              "IPY_MODEL_e59c28cf0b624a509cd3a7cac94b1c68",
              "IPY_MODEL_e35f3ff150af42e780b9018e07162447",
              "IPY_MODEL_23539b2c0cf04bd998462ec73513f975"
            ],
            "layout": "IPY_MODEL_c3c1b10ae6494c78b25833f8f23b075f"
          }
        },
        "4cc2037008d94a0ca30e21ca7a9923b2": {
          "model_module": "@jupyter-widgets/controls",
          "model_module_version": "1.5.0",
          "model_name": "ProgressStyleModel",
          "state": {
            "_model_module": "@jupyter-widgets/controls",
            "_model_module_version": "1.5.0",
            "_model_name": "ProgressStyleModel",
            "_view_count": null,
            "_view_module": "@jupyter-widgets/base",
            "_view_module_version": "1.2.0",
            "_view_name": "StyleView",
            "bar_color": null,
            "description_width": ""
          }
        },
        "4d003fe2530b4902b5be47599ae7083b": {
          "model_module": "@jupyter-widgets/controls",
          "model_module_version": "1.5.0",
          "model_name": "ProgressStyleModel",
          "state": {
            "_model_module": "@jupyter-widgets/controls",
            "_model_module_version": "1.5.0",
            "_model_name": "ProgressStyleModel",
            "_view_count": null,
            "_view_module": "@jupyter-widgets/base",
            "_view_module_version": "1.2.0",
            "_view_name": "StyleView",
            "bar_color": null,
            "description_width": ""
          }
        },
        "4d5ac5880f094fa9a2afa9b9647f4c57": {
          "model_module": "@jupyter-widgets/base",
          "model_module_version": "1.2.0",
          "model_name": "LayoutModel",
          "state": {
            "_model_module": "@jupyter-widgets/base",
            "_model_module_version": "1.2.0",
            "_model_name": "LayoutModel",
            "_view_count": null,
            "_view_module": "@jupyter-widgets/base",
            "_view_module_version": "1.2.0",
            "_view_name": "LayoutView",
            "align_content": null,
            "align_items": null,
            "align_self": null,
            "border": null,
            "bottom": null,
            "display": null,
            "flex": null,
            "flex_flow": null,
            "grid_area": null,
            "grid_auto_columns": null,
            "grid_auto_flow": null,
            "grid_auto_rows": null,
            "grid_column": null,
            "grid_gap": null,
            "grid_row": null,
            "grid_template_areas": null,
            "grid_template_columns": null,
            "grid_template_rows": null,
            "height": null,
            "justify_content": null,
            "justify_items": null,
            "left": null,
            "margin": null,
            "max_height": null,
            "max_width": null,
            "min_height": null,
            "min_width": null,
            "object_fit": null,
            "object_position": null,
            "order": null,
            "overflow": null,
            "overflow_x": null,
            "overflow_y": null,
            "padding": null,
            "right": null,
            "top": null,
            "visibility": null,
            "width": null
          }
        },
        "533509fc0b234d13b13c363beffcbfde": {
          "model_module": "@jupyter-widgets/base",
          "model_module_version": "1.2.0",
          "model_name": "LayoutModel",
          "state": {
            "_model_module": "@jupyter-widgets/base",
            "_model_module_version": "1.2.0",
            "_model_name": "LayoutModel",
            "_view_count": null,
            "_view_module": "@jupyter-widgets/base",
            "_view_module_version": "1.2.0",
            "_view_name": "LayoutView",
            "align_content": null,
            "align_items": null,
            "align_self": null,
            "border": null,
            "bottom": null,
            "display": null,
            "flex": null,
            "flex_flow": null,
            "grid_area": null,
            "grid_auto_columns": null,
            "grid_auto_flow": null,
            "grid_auto_rows": null,
            "grid_column": null,
            "grid_gap": null,
            "grid_row": null,
            "grid_template_areas": null,
            "grid_template_columns": null,
            "grid_template_rows": null,
            "height": null,
            "justify_content": null,
            "justify_items": null,
            "left": null,
            "margin": null,
            "max_height": null,
            "max_width": null,
            "min_height": null,
            "min_width": null,
            "object_fit": null,
            "object_position": null,
            "order": null,
            "overflow": null,
            "overflow_x": null,
            "overflow_y": null,
            "padding": null,
            "right": null,
            "top": null,
            "visibility": null,
            "width": null
          }
        },
        "5378c49ba93a4daa9862adc9d5a953f6": {
          "model_module": "@jupyter-widgets/controls",
          "model_module_version": "1.5.0",
          "model_name": "HBoxModel",
          "state": {
            "_dom_classes": [],
            "_model_module": "@jupyter-widgets/controls",
            "_model_module_version": "1.5.0",
            "_model_name": "HBoxModel",
            "_view_count": null,
            "_view_module": "@jupyter-widgets/controls",
            "_view_module_version": "1.5.0",
            "_view_name": "HBoxView",
            "box_style": "",
            "children": [
              "IPY_MODEL_130da72849e14423806c2c564a58df99",
              "IPY_MODEL_0a55112599ee47419eb6f21a3a17f1bc",
              "IPY_MODEL_1a80c62994014f909f6469bacb443a0b"
            ],
            "layout": "IPY_MODEL_a13e6237b934431a90aa7128f1ebe128"
          }
        },
        "5612d815b82644288979e648fd3003dc": {
          "model_module": "@jupyter-widgets/base",
          "model_module_version": "1.2.0",
          "model_name": "LayoutModel",
          "state": {
            "_model_module": "@jupyter-widgets/base",
            "_model_module_version": "1.2.0",
            "_model_name": "LayoutModel",
            "_view_count": null,
            "_view_module": "@jupyter-widgets/base",
            "_view_module_version": "1.2.0",
            "_view_name": "LayoutView",
            "align_content": null,
            "align_items": null,
            "align_self": null,
            "border": null,
            "bottom": null,
            "display": null,
            "flex": null,
            "flex_flow": null,
            "grid_area": null,
            "grid_auto_columns": null,
            "grid_auto_flow": null,
            "grid_auto_rows": null,
            "grid_column": null,
            "grid_gap": null,
            "grid_row": null,
            "grid_template_areas": null,
            "grid_template_columns": null,
            "grid_template_rows": null,
            "height": null,
            "justify_content": null,
            "justify_items": null,
            "left": null,
            "margin": null,
            "max_height": null,
            "max_width": null,
            "min_height": null,
            "min_width": null,
            "object_fit": null,
            "object_position": null,
            "order": null,
            "overflow": null,
            "overflow_x": null,
            "overflow_y": null,
            "padding": null,
            "right": null,
            "top": null,
            "visibility": null,
            "width": null
          }
        },
        "57ddefd4a0a547f6a8567fea73a77e9b": {
          "model_module": "@jupyter-widgets/controls",
          "model_module_version": "1.5.0",
          "model_name": "HTMLModel",
          "state": {
            "_dom_classes": [],
            "_model_module": "@jupyter-widgets/controls",
            "_model_module_version": "1.5.0",
            "_model_name": "HTMLModel",
            "_view_count": null,
            "_view_module": "@jupyter-widgets/controls",
            "_view_module_version": "1.5.0",
            "_view_name": "HTMLView",
            "description": "",
            "description_tooltip": null,
            "layout": "IPY_MODEL_48d1247d7a8946738807d19feb872bf6",
            "placeholder": "​",
            "style": "IPY_MODEL_eb918cf5e1474a99a3e2917dc3961446",
            "value": " 66.7M/66.7M [00:00&lt;00:00, 157MB/s]"
          }
        },
        "5c83578ba8224a098a8cc69dd66dde69": {
          "model_module": "@jupyter-widgets/controls",
          "model_module_version": "1.5.0",
          "model_name": "HTMLModel",
          "state": {
            "_dom_classes": [],
            "_model_module": "@jupyter-widgets/controls",
            "_model_module_version": "1.5.0",
            "_model_name": "HTMLModel",
            "_view_count": null,
            "_view_module": "@jupyter-widgets/controls",
            "_view_module_version": "1.5.0",
            "_view_name": "HTMLView",
            "description": "",
            "description_tooltip": null,
            "layout": "IPY_MODEL_6edec2b1b0134427a1c7d8f9afa76af3",
            "placeholder": "​",
            "style": "IPY_MODEL_79150c15abfe42a7b741011e82434266",
            "value": "special_tokens_map.json: 100%"
          }
        },
        "5d2845e369754a82a239b8014c7538f3": {
          "model_module": "@jupyter-widgets/controls",
          "model_module_version": "1.5.0",
          "model_name": "FloatProgressModel",
          "state": {
            "_dom_classes": [],
            "_model_module": "@jupyter-widgets/controls",
            "_model_module_version": "1.5.0",
            "_model_name": "FloatProgressModel",
            "_view_count": null,
            "_view_module": "@jupyter-widgets/controls",
            "_view_module_version": "1.5.0",
            "_view_name": "ProgressView",
            "bar_style": "success",
            "description": "",
            "description_tooltip": null,
            "layout": "IPY_MODEL_fd42b35e1c0942d4aa6e6d5a9692fe68",
            "max": 57,
            "min": 0,
            "orientation": "horizontal",
            "style": "IPY_MODEL_9e407c70d58545ba965d8fbd4b31e4f4",
            "value": 57
          }
        },
        "5d8d5578e5944d7c91739b09bb685b60": {
          "model_module": "@jupyter-widgets/controls",
          "model_module_version": "1.5.0",
          "model_name": "HBoxModel",
          "state": {
            "_dom_classes": [],
            "_model_module": "@jupyter-widgets/controls",
            "_model_module_version": "1.5.0",
            "_model_name": "HBoxModel",
            "_view_count": null,
            "_view_module": "@jupyter-widgets/controls",
            "_view_module_version": "1.5.0",
            "_view_name": "HBoxView",
            "box_style": "",
            "children": [
              "IPY_MODEL_5c83578ba8224a098a8cc69dd66dde69",
              "IPY_MODEL_237d04cf18a2491496b432d53930a147",
              "IPY_MODEL_3323fcdc136c4be28a335b6fcfdf18c6"
            ],
            "layout": "IPY_MODEL_cc7f26f8be564a5eaefc832121e58a61"
          }
        },
        "60542d0b8f6d4de09d88a8480a0a7e78": {
          "model_module": "@jupyter-widgets/controls",
          "model_module_version": "1.5.0",
          "model_name": "ProgressStyleModel",
          "state": {
            "_model_module": "@jupyter-widgets/controls",
            "_model_module_version": "1.5.0",
            "_model_name": "ProgressStyleModel",
            "_view_count": null,
            "_view_module": "@jupyter-widgets/base",
            "_view_module_version": "1.2.0",
            "_view_name": "StyleView",
            "bar_color": null,
            "description_width": ""
          }
        },
        "6407c69b3e8747c98beb7a57e6c7a3f0": {
          "model_module": "@jupyter-widgets/base",
          "model_module_version": "1.2.0",
          "model_name": "LayoutModel",
          "state": {
            "_model_module": "@jupyter-widgets/base",
            "_model_module_version": "1.2.0",
            "_model_name": "LayoutModel",
            "_view_count": null,
            "_view_module": "@jupyter-widgets/base",
            "_view_module_version": "1.2.0",
            "_view_name": "LayoutView",
            "align_content": null,
            "align_items": null,
            "align_self": null,
            "border": null,
            "bottom": null,
            "display": null,
            "flex": null,
            "flex_flow": null,
            "grid_area": null,
            "grid_auto_columns": null,
            "grid_auto_flow": null,
            "grid_auto_rows": null,
            "grid_column": null,
            "grid_gap": null,
            "grid_row": null,
            "grid_template_areas": null,
            "grid_template_columns": null,
            "grid_template_rows": null,
            "height": null,
            "justify_content": null,
            "justify_items": null,
            "left": null,
            "margin": null,
            "max_height": null,
            "max_width": null,
            "min_height": null,
            "min_width": null,
            "object_fit": null,
            "object_position": null,
            "order": null,
            "overflow": null,
            "overflow_x": null,
            "overflow_y": null,
            "padding": null,
            "right": null,
            "top": null,
            "visibility": null,
            "width": null
          }
        },
        "645ad5335b03425aa5c9e1dda60e5d91": {
          "model_module": "@jupyter-widgets/base",
          "model_module_version": "1.2.0",
          "model_name": "LayoutModel",
          "state": {
            "_model_module": "@jupyter-widgets/base",
            "_model_module_version": "1.2.0",
            "_model_name": "LayoutModel",
            "_view_count": null,
            "_view_module": "@jupyter-widgets/base",
            "_view_module_version": "1.2.0",
            "_view_name": "LayoutView",
            "align_content": null,
            "align_items": null,
            "align_self": null,
            "border": null,
            "bottom": null,
            "display": null,
            "flex": null,
            "flex_flow": null,
            "grid_area": null,
            "grid_auto_columns": null,
            "grid_auto_flow": null,
            "grid_auto_rows": null,
            "grid_column": null,
            "grid_gap": null,
            "grid_row": null,
            "grid_template_areas": null,
            "grid_template_columns": null,
            "grid_template_rows": null,
            "height": null,
            "justify_content": null,
            "justify_items": null,
            "left": null,
            "margin": null,
            "max_height": null,
            "max_width": null,
            "min_height": null,
            "min_width": null,
            "object_fit": null,
            "object_position": null,
            "order": null,
            "overflow": null,
            "overflow_x": null,
            "overflow_y": null,
            "padding": null,
            "right": null,
            "top": null,
            "visibility": null,
            "width": null
          }
        },
        "671312514f9341779dc876e37e88b239": {
          "model_module": "@jupyter-widgets/controls",
          "model_module_version": "1.5.0",
          "model_name": "HTMLModel",
          "state": {
            "_dom_classes": [],
            "_model_module": "@jupyter-widgets/controls",
            "_model_module_version": "1.5.0",
            "_model_name": "HTMLModel",
            "_view_count": null,
            "_view_module": "@jupyter-widgets/controls",
            "_view_module_version": "1.5.0",
            "_view_name": "HTMLView",
            "description": "",
            "description_tooltip": null,
            "layout": "IPY_MODEL_9aa15a39579a41c5bb687ff7715b0264",
            "placeholder": "​",
            "style": "IPY_MODEL_805b3c8c283e4d7f81f3f61715ca9985",
            "value": "README.md: 100%"
          }
        },
        "673e6271335241a2bf7fa949bac8f8ca": {
          "model_module": "@jupyter-widgets/controls",
          "model_module_version": "1.5.0",
          "model_name": "ProgressStyleModel",
          "state": {
            "_model_module": "@jupyter-widgets/controls",
            "_model_module_version": "1.5.0",
            "_model_name": "ProgressStyleModel",
            "_view_count": null,
            "_view_module": "@jupyter-widgets/base",
            "_view_module_version": "1.2.0",
            "_view_name": "StyleView",
            "bar_color": null,
            "description_width": ""
          }
        },
        "68b91d9824e442568b5bc525fbb30ac6": {
          "model_module": "@jupyter-widgets/controls",
          "model_module_version": "1.5.0",
          "model_name": "HTMLModel",
          "state": {
            "_dom_classes": [],
            "_model_module": "@jupyter-widgets/controls",
            "_model_module_version": "1.5.0",
            "_model_name": "HTMLModel",
            "_view_count": null,
            "_view_module": "@jupyter-widgets/controls",
            "_view_module_version": "1.5.0",
            "_view_name": "HTMLView",
            "description": "",
            "description_tooltip": null,
            "layout": "IPY_MODEL_bdd5295da95049eeab52dd513b03f113",
            "placeholder": "​",
            "style": "IPY_MODEL_4bad9da1071e4e08adb5b5907fdf6758",
            "value": "tokenizer.json: 100%"
          }
        },
        "69b8d78526094589af370853125fc061": {
          "model_module": "@jupyter-widgets/controls",
          "model_module_version": "1.5.0",
          "model_name": "FloatProgressModel",
          "state": {
            "_dom_classes": [],
            "_model_module": "@jupyter-widgets/controls",
            "_model_module_version": "1.5.0",
            "_model_name": "FloatProgressModel",
            "_view_count": null,
            "_view_module": "@jupyter-widgets/controls",
            "_view_module_version": "1.5.0",
            "_view_name": "ProgressView",
            "bar_style": "success",
            "description": "",
            "description_tooltip": null,
            "layout": "IPY_MODEL_74f6b74b15374871be1b1378439e20d4",
            "max": 190,
            "min": 0,
            "orientation": "horizontal",
            "style": "IPY_MODEL_0c91c4aeaa7940efb32bb979513aabec",
            "value": 190
          }
        },
        "6edec2b1b0134427a1c7d8f9afa76af3": {
          "model_module": "@jupyter-widgets/base",
          "model_module_version": "1.2.0",
          "model_name": "LayoutModel",
          "state": {
            "_model_module": "@jupyter-widgets/base",
            "_model_module_version": "1.2.0",
            "_model_name": "LayoutModel",
            "_view_count": null,
            "_view_module": "@jupyter-widgets/base",
            "_view_module_version": "1.2.0",
            "_view_name": "LayoutView",
            "align_content": null,
            "align_items": null,
            "align_self": null,
            "border": null,
            "bottom": null,
            "display": null,
            "flex": null,
            "flex_flow": null,
            "grid_area": null,
            "grid_auto_columns": null,
            "grid_auto_flow": null,
            "grid_auto_rows": null,
            "grid_column": null,
            "grid_gap": null,
            "grid_row": null,
            "grid_template_areas": null,
            "grid_template_columns": null,
            "grid_template_rows": null,
            "height": null,
            "justify_content": null,
            "justify_items": null,
            "left": null,
            "margin": null,
            "max_height": null,
            "max_width": null,
            "min_height": null,
            "min_width": null,
            "object_fit": null,
            "object_position": null,
            "order": null,
            "overflow": null,
            "overflow_x": null,
            "overflow_y": null,
            "padding": null,
            "right": null,
            "top": null,
            "visibility": null,
            "width": null
          }
        },
        "6f7d5390ddb24d81aaa490c7a46edb32": {
          "model_module": "@jupyter-widgets/controls",
          "model_module_version": "1.5.0",
          "model_name": "HTMLModel",
          "state": {
            "_dom_classes": [],
            "_model_module": "@jupyter-widgets/controls",
            "_model_module_version": "1.5.0",
            "_model_name": "HTMLModel",
            "_view_count": null,
            "_view_module": "@jupyter-widgets/controls",
            "_view_module_version": "1.5.0",
            "_view_name": "HTMLView",
            "description": "",
            "description_tooltip": null,
            "layout": "IPY_MODEL_c0fde7d0ee97429e8d771f2dbadc1a73",
            "placeholder": "​",
            "style": "IPY_MODEL_929775e38a394d568e4062ca0813b1fc",
            "value": " 583/583 [00:00&lt;00:00, 22.9kB/s]"
          }
        },
        "7039ad7f97e54f9ba611fdef16e3617b": {
          "model_module": "@jupyter-widgets/controls",
          "model_module_version": "1.5.0",
          "model_name": "DescriptionStyleModel",
          "state": {
            "_model_module": "@jupyter-widgets/controls",
            "_model_module_version": "1.5.0",
            "_model_name": "DescriptionStyleModel",
            "_view_count": null,
            "_view_module": "@jupyter-widgets/base",
            "_view_module_version": "1.2.0",
            "_view_name": "StyleView",
            "description_width": ""
          }
        },
        "716d4f494b4e445f8ac232428e966f5e": {
          "model_module": "@jupyter-widgets/base",
          "model_module_version": "1.2.0",
          "model_name": "LayoutModel",
          "state": {
            "_model_module": "@jupyter-widgets/base",
            "_model_module_version": "1.2.0",
            "_model_name": "LayoutModel",
            "_view_count": null,
            "_view_module": "@jupyter-widgets/base",
            "_view_module_version": "1.2.0",
            "_view_name": "LayoutView",
            "align_content": null,
            "align_items": null,
            "align_self": null,
            "border": null,
            "bottom": null,
            "display": null,
            "flex": null,
            "flex_flow": null,
            "grid_area": null,
            "grid_auto_columns": null,
            "grid_auto_flow": null,
            "grid_auto_rows": null,
            "grid_column": null,
            "grid_gap": null,
            "grid_row": null,
            "grid_template_areas": null,
            "grid_template_columns": null,
            "grid_template_rows": null,
            "height": null,
            "justify_content": null,
            "justify_items": null,
            "left": null,
            "margin": null,
            "max_height": null,
            "max_width": null,
            "min_height": null,
            "min_width": null,
            "object_fit": null,
            "object_position": null,
            "order": null,
            "overflow": null,
            "overflow_x": null,
            "overflow_y": null,
            "padding": null,
            "right": null,
            "top": null,
            "visibility": null,
            "width": null
          }
        },
        "74f6b74b15374871be1b1378439e20d4": {
          "model_module": "@jupyter-widgets/base",
          "model_module_version": "1.2.0",
          "model_name": "LayoutModel",
          "state": {
            "_model_module": "@jupyter-widgets/base",
            "_model_module_version": "1.2.0",
            "_model_name": "LayoutModel",
            "_view_count": null,
            "_view_module": "@jupyter-widgets/base",
            "_view_module_version": "1.2.0",
            "_view_name": "LayoutView",
            "align_content": null,
            "align_items": null,
            "align_self": null,
            "border": null,
            "bottom": null,
            "display": null,
            "flex": null,
            "flex_flow": null,
            "grid_area": null,
            "grid_auto_columns": null,
            "grid_auto_flow": null,
            "grid_auto_rows": null,
            "grid_column": null,
            "grid_gap": null,
            "grid_row": null,
            "grid_template_areas": null,
            "grid_template_columns": null,
            "grid_template_rows": null,
            "height": null,
            "justify_content": null,
            "justify_items": null,
            "left": null,
            "margin": null,
            "max_height": null,
            "max_width": null,
            "min_height": null,
            "min_width": null,
            "object_fit": null,
            "object_position": null,
            "order": null,
            "overflow": null,
            "overflow_x": null,
            "overflow_y": null,
            "padding": null,
            "right": null,
            "top": null,
            "visibility": null,
            "width": null
          }
        },
        "79150c15abfe42a7b741011e82434266": {
          "model_module": "@jupyter-widgets/controls",
          "model_module_version": "1.5.0",
          "model_name": "DescriptionStyleModel",
          "state": {
            "_model_module": "@jupyter-widgets/controls",
            "_model_module_version": "1.5.0",
            "_model_name": "DescriptionStyleModel",
            "_view_count": null,
            "_view_module": "@jupyter-widgets/base",
            "_view_module_version": "1.2.0",
            "_view_name": "StyleView",
            "description_width": ""
          }
        },
        "7d1e75ecda1c4b51885639837d7b90ed": {
          "model_module": "@jupyter-widgets/base",
          "model_module_version": "1.2.0",
          "model_name": "LayoutModel",
          "state": {
            "_model_module": "@jupyter-widgets/base",
            "_model_module_version": "1.2.0",
            "_model_name": "LayoutModel",
            "_view_count": null,
            "_view_module": "@jupyter-widgets/base",
            "_view_module_version": "1.2.0",
            "_view_name": "LayoutView",
            "align_content": null,
            "align_items": null,
            "align_self": null,
            "border": null,
            "bottom": null,
            "display": null,
            "flex": null,
            "flex_flow": null,
            "grid_area": null,
            "grid_auto_columns": null,
            "grid_auto_flow": null,
            "grid_auto_rows": null,
            "grid_column": null,
            "grid_gap": null,
            "grid_row": null,
            "grid_template_areas": null,
            "grid_template_columns": null,
            "grid_template_rows": null,
            "height": null,
            "justify_content": null,
            "justify_items": null,
            "left": null,
            "margin": null,
            "max_height": null,
            "max_width": null,
            "min_height": null,
            "min_width": null,
            "object_fit": null,
            "object_position": null,
            "order": null,
            "overflow": null,
            "overflow_x": null,
            "overflow_y": null,
            "padding": null,
            "right": null,
            "top": null,
            "visibility": null,
            "width": null
          }
        },
        "805b3c8c283e4d7f81f3f61715ca9985": {
          "model_module": "@jupyter-widgets/controls",
          "model_module_version": "1.5.0",
          "model_name": "DescriptionStyleModel",
          "state": {
            "_model_module": "@jupyter-widgets/controls",
            "_model_module_version": "1.5.0",
            "_model_name": "DescriptionStyleModel",
            "_view_count": null,
            "_view_module": "@jupyter-widgets/base",
            "_view_module_version": "1.2.0",
            "_view_name": "StyleView",
            "description_width": ""
          }
        },
        "929775e38a394d568e4062ca0813b1fc": {
          "model_module": "@jupyter-widgets/controls",
          "model_module_version": "1.5.0",
          "model_name": "DescriptionStyleModel",
          "state": {
            "_model_module": "@jupyter-widgets/controls",
            "_model_module_version": "1.5.0",
            "_model_name": "DescriptionStyleModel",
            "_view_count": null,
            "_view_module": "@jupyter-widgets/base",
            "_view_module_version": "1.2.0",
            "_view_name": "StyleView",
            "description_width": ""
          }
        },
        "964ff98a658747cd84e86ddd681d74a3": {
          "model_module": "@jupyter-widgets/controls",
          "model_module_version": "1.5.0",
          "model_name": "ProgressStyleModel",
          "state": {
            "_model_module": "@jupyter-widgets/controls",
            "_model_module_version": "1.5.0",
            "_model_name": "ProgressStyleModel",
            "_view_count": null,
            "_view_module": "@jupyter-widgets/base",
            "_view_module_version": "1.2.0",
            "_view_name": "StyleView",
            "bar_color": null,
            "description_width": ""
          }
        },
        "980c6cd840c84911b69003b303f2fa90": {
          "model_module": "@jupyter-widgets/controls",
          "model_module_version": "1.5.0",
          "model_name": "DescriptionStyleModel",
          "state": {
            "_model_module": "@jupyter-widgets/controls",
            "_model_module_version": "1.5.0",
            "_model_name": "DescriptionStyleModel",
            "_view_count": null,
            "_view_module": "@jupyter-widgets/base",
            "_view_module_version": "1.2.0",
            "_view_name": "StyleView",
            "description_width": ""
          }
        },
        "9aa15a39579a41c5bb687ff7715b0264": {
          "model_module": "@jupyter-widgets/base",
          "model_module_version": "1.2.0",
          "model_name": "LayoutModel",
          "state": {
            "_model_module": "@jupyter-widgets/base",
            "_model_module_version": "1.2.0",
            "_model_name": "LayoutModel",
            "_view_count": null,
            "_view_module": "@jupyter-widgets/base",
            "_view_module_version": "1.2.0",
            "_view_name": "LayoutView",
            "align_content": null,
            "align_items": null,
            "align_self": null,
            "border": null,
            "bottom": null,
            "display": null,
            "flex": null,
            "flex_flow": null,
            "grid_area": null,
            "grid_auto_columns": null,
            "grid_auto_flow": null,
            "grid_auto_rows": null,
            "grid_column": null,
            "grid_gap": null,
            "grid_row": null,
            "grid_template_areas": null,
            "grid_template_columns": null,
            "grid_template_rows": null,
            "height": null,
            "justify_content": null,
            "justify_items": null,
            "left": null,
            "margin": null,
            "max_height": null,
            "max_width": null,
            "min_height": null,
            "min_width": null,
            "object_fit": null,
            "object_position": null,
            "order": null,
            "overflow": null,
            "overflow_x": null,
            "overflow_y": null,
            "padding": null,
            "right": null,
            "top": null,
            "visibility": null,
            "width": null
          }
        },
        "9ae26c8c59834d48bb7d56103667d51b": {
          "model_module": "@jupyter-widgets/base",
          "model_module_version": "1.2.0",
          "model_name": "LayoutModel",
          "state": {
            "_model_module": "@jupyter-widgets/base",
            "_model_module_version": "1.2.0",
            "_model_name": "LayoutModel",
            "_view_count": null,
            "_view_module": "@jupyter-widgets/base",
            "_view_module_version": "1.2.0",
            "_view_name": "LayoutView",
            "align_content": null,
            "align_items": null,
            "align_self": null,
            "border": null,
            "bottom": null,
            "display": null,
            "flex": null,
            "flex_flow": null,
            "grid_area": null,
            "grid_auto_columns": null,
            "grid_auto_flow": null,
            "grid_auto_rows": null,
            "grid_column": null,
            "grid_gap": null,
            "grid_row": null,
            "grid_template_areas": null,
            "grid_template_columns": null,
            "grid_template_rows": null,
            "height": null,
            "justify_content": null,
            "justify_items": null,
            "left": null,
            "margin": null,
            "max_height": null,
            "max_width": null,
            "min_height": null,
            "min_width": null,
            "object_fit": null,
            "object_position": null,
            "order": null,
            "overflow": null,
            "overflow_x": null,
            "overflow_y": null,
            "padding": null,
            "right": null,
            "top": null,
            "visibility": null,
            "width": null
          }
        },
        "9d3a03f3749445cda7cb6762bb97260a": {
          "model_module": "@jupyter-widgets/controls",
          "model_module_version": "1.5.0",
          "model_name": "DescriptionStyleModel",
          "state": {
            "_model_module": "@jupyter-widgets/controls",
            "_model_module_version": "1.5.0",
            "_model_name": "DescriptionStyleModel",
            "_view_count": null,
            "_view_module": "@jupyter-widgets/base",
            "_view_module_version": "1.2.0",
            "_view_name": "StyleView",
            "description_width": ""
          }
        },
        "9e08bfbd7ed142d0ab07bdea9fc2ed32": {
          "model_module": "@jupyter-widgets/base",
          "model_module_version": "1.2.0",
          "model_name": "LayoutModel",
          "state": {
            "_model_module": "@jupyter-widgets/base",
            "_model_module_version": "1.2.0",
            "_model_name": "LayoutModel",
            "_view_count": null,
            "_view_module": "@jupyter-widgets/base",
            "_view_module_version": "1.2.0",
            "_view_name": "LayoutView",
            "align_content": null,
            "align_items": null,
            "align_self": null,
            "border": null,
            "bottom": null,
            "display": null,
            "flex": null,
            "flex_flow": null,
            "grid_area": null,
            "grid_auto_columns": null,
            "grid_auto_flow": null,
            "grid_auto_rows": null,
            "grid_column": null,
            "grid_gap": null,
            "grid_row": null,
            "grid_template_areas": null,
            "grid_template_columns": null,
            "grid_template_rows": null,
            "height": null,
            "justify_content": null,
            "justify_items": null,
            "left": null,
            "margin": null,
            "max_height": null,
            "max_width": null,
            "min_height": null,
            "min_width": null,
            "object_fit": null,
            "object_position": null,
            "order": null,
            "overflow": null,
            "overflow_x": null,
            "overflow_y": null,
            "padding": null,
            "right": null,
            "top": null,
            "visibility": null,
            "width": null
          }
        },
        "9e407c70d58545ba965d8fbd4b31e4f4": {
          "model_module": "@jupyter-widgets/controls",
          "model_module_version": "1.5.0",
          "model_name": "ProgressStyleModel",
          "state": {
            "_model_module": "@jupyter-widgets/controls",
            "_model_module_version": "1.5.0",
            "_model_name": "ProgressStyleModel",
            "_view_count": null,
            "_view_module": "@jupyter-widgets/base",
            "_view_module_version": "1.2.0",
            "_view_name": "StyleView",
            "bar_color": null,
            "description_width": ""
          }
        },
        "a0c0c0b0113a49f99ce3bb30d9e6c1b9": {
          "model_module": "@jupyter-widgets/controls",
          "model_module_version": "1.5.0",
          "model_name": "DescriptionStyleModel",
          "state": {
            "_model_module": "@jupyter-widgets/controls",
            "_model_module_version": "1.5.0",
            "_model_name": "DescriptionStyleModel",
            "_view_count": null,
            "_view_module": "@jupyter-widgets/base",
            "_view_module_version": "1.2.0",
            "_view_name": "StyleView",
            "description_width": ""
          }
        },
        "a13e6237b934431a90aa7128f1ebe128": {
          "model_module": "@jupyter-widgets/base",
          "model_module_version": "1.2.0",
          "model_name": "LayoutModel",
          "state": {
            "_model_module": "@jupyter-widgets/base",
            "_model_module_version": "1.2.0",
            "_model_name": "LayoutModel",
            "_view_count": null,
            "_view_module": "@jupyter-widgets/base",
            "_view_module_version": "1.2.0",
            "_view_name": "LayoutView",
            "align_content": null,
            "align_items": null,
            "align_self": null,
            "border": null,
            "bottom": null,
            "display": null,
            "flex": null,
            "flex_flow": null,
            "grid_area": null,
            "grid_auto_columns": null,
            "grid_auto_flow": null,
            "grid_auto_rows": null,
            "grid_column": null,
            "grid_gap": null,
            "grid_row": null,
            "grid_template_areas": null,
            "grid_template_columns": null,
            "grid_template_rows": null,
            "height": null,
            "justify_content": null,
            "justify_items": null,
            "left": null,
            "margin": null,
            "max_height": null,
            "max_width": null,
            "min_height": null,
            "min_width": null,
            "object_fit": null,
            "object_position": null,
            "order": null,
            "overflow": null,
            "overflow_x": null,
            "overflow_y": null,
            "padding": null,
            "right": null,
            "top": null,
            "visibility": null,
            "width": null
          }
        },
        "a26fb58abd364ce58fc9c6d5626d6db4": {
          "model_module": "@jupyter-widgets/base",
          "model_module_version": "1.2.0",
          "model_name": "LayoutModel",
          "state": {
            "_model_module": "@jupyter-widgets/base",
            "_model_module_version": "1.2.0",
            "_model_name": "LayoutModel",
            "_view_count": null,
            "_view_module": "@jupyter-widgets/base",
            "_view_module_version": "1.2.0",
            "_view_name": "LayoutView",
            "align_content": null,
            "align_items": null,
            "align_self": null,
            "border": null,
            "bottom": null,
            "display": null,
            "flex": null,
            "flex_flow": null,
            "grid_area": null,
            "grid_auto_columns": null,
            "grid_auto_flow": null,
            "grid_auto_rows": null,
            "grid_column": null,
            "grid_gap": null,
            "grid_row": null,
            "grid_template_areas": null,
            "grid_template_columns": null,
            "grid_template_rows": null,
            "height": null,
            "justify_content": null,
            "justify_items": null,
            "left": null,
            "margin": null,
            "max_height": null,
            "max_width": null,
            "min_height": null,
            "min_width": null,
            "object_fit": null,
            "object_position": null,
            "order": null,
            "overflow": null,
            "overflow_x": null,
            "overflow_y": null,
            "padding": null,
            "right": null,
            "top": null,
            "visibility": null,
            "width": null
          }
        },
        "a73e5163e46b4f35a4b88ddc50335124": {
          "model_module": "@jupyter-widgets/controls",
          "model_module_version": "1.5.0",
          "model_name": "DescriptionStyleModel",
          "state": {
            "_model_module": "@jupyter-widgets/controls",
            "_model_module_version": "1.5.0",
            "_model_name": "DescriptionStyleModel",
            "_view_count": null,
            "_view_module": "@jupyter-widgets/base",
            "_view_module_version": "1.2.0",
            "_view_name": "StyleView",
            "description_width": ""
          }
        },
        "b3af0260da8a41dcbcbaf54db5050876": {
          "model_module": "@jupyter-widgets/controls",
          "model_module_version": "1.5.0",
          "model_name": "DescriptionStyleModel",
          "state": {
            "_model_module": "@jupyter-widgets/controls",
            "_model_module_version": "1.5.0",
            "_model_name": "DescriptionStyleModel",
            "_view_count": null,
            "_view_module": "@jupyter-widgets/base",
            "_view_module_version": "1.2.0",
            "_view_name": "StyleView",
            "description_width": ""
          }
        },
        "b6b94a248c624c1d8e105bb706ad08b0": {
          "model_module": "@jupyter-widgets/base",
          "model_module_version": "1.2.0",
          "model_name": "LayoutModel",
          "state": {
            "_model_module": "@jupyter-widgets/base",
            "_model_module_version": "1.2.0",
            "_model_name": "LayoutModel",
            "_view_count": null,
            "_view_module": "@jupyter-widgets/base",
            "_view_module_version": "1.2.0",
            "_view_name": "LayoutView",
            "align_content": null,
            "align_items": null,
            "align_self": null,
            "border": null,
            "bottom": null,
            "display": null,
            "flex": null,
            "flex_flow": null,
            "grid_area": null,
            "grid_auto_columns": null,
            "grid_auto_flow": null,
            "grid_auto_rows": null,
            "grid_column": null,
            "grid_gap": null,
            "grid_row": null,
            "grid_template_areas": null,
            "grid_template_columns": null,
            "grid_template_rows": null,
            "height": null,
            "justify_content": null,
            "justify_items": null,
            "left": null,
            "margin": null,
            "max_height": null,
            "max_width": null,
            "min_height": null,
            "min_width": null,
            "object_fit": null,
            "object_position": null,
            "order": null,
            "overflow": null,
            "overflow_x": null,
            "overflow_y": null,
            "padding": null,
            "right": null,
            "top": null,
            "visibility": null,
            "width": null
          }
        },
        "b6bd001409ee4d21a7cef9e259eabe94": {
          "model_module": "@jupyter-widgets/base",
          "model_module_version": "1.2.0",
          "model_name": "LayoutModel",
          "state": {
            "_model_module": "@jupyter-widgets/base",
            "_model_module_version": "1.2.0",
            "_model_name": "LayoutModel",
            "_view_count": null,
            "_view_module": "@jupyter-widgets/base",
            "_view_module_version": "1.2.0",
            "_view_name": "LayoutView",
            "align_content": null,
            "align_items": null,
            "align_self": null,
            "border": null,
            "bottom": null,
            "display": null,
            "flex": null,
            "flex_flow": null,
            "grid_area": null,
            "grid_auto_columns": null,
            "grid_auto_flow": null,
            "grid_auto_rows": null,
            "grid_column": null,
            "grid_gap": null,
            "grid_row": null,
            "grid_template_areas": null,
            "grid_template_columns": null,
            "grid_template_rows": null,
            "height": null,
            "justify_content": null,
            "justify_items": null,
            "left": null,
            "margin": null,
            "max_height": null,
            "max_width": null,
            "min_height": null,
            "min_width": null,
            "object_fit": null,
            "object_position": null,
            "order": null,
            "overflow": null,
            "overflow_x": null,
            "overflow_y": null,
            "padding": null,
            "right": null,
            "top": null,
            "visibility": null,
            "width": null
          }
        },
        "bc1fa94b3a0a4ac08d97d6b419fe9670": {
          "model_module": "@jupyter-widgets/controls",
          "model_module_version": "1.5.0",
          "model_name": "HBoxModel",
          "state": {
            "_dom_classes": [],
            "_model_module": "@jupyter-widgets/controls",
            "_model_module_version": "1.5.0",
            "_model_name": "HBoxModel",
            "_view_count": null,
            "_view_module": "@jupyter-widgets/controls",
            "_view_module_version": "1.5.0",
            "_view_name": "HBoxView",
            "box_style": "",
            "children": [
              "IPY_MODEL_d53ee564a77d480ea3d47954f3c48914",
              "IPY_MODEL_dcebe343a5b24971a2827c427e9be01c",
              "IPY_MODEL_57ddefd4a0a547f6a8567fea73a77e9b"
            ],
            "layout": "IPY_MODEL_d2edbb4ce1564dd8b0bb9fc6ca4d52f1"
          }
        },
        "bdd5295da95049eeab52dd513b03f113": {
          "model_module": "@jupyter-widgets/base",
          "model_module_version": "1.2.0",
          "model_name": "LayoutModel",
          "state": {
            "_model_module": "@jupyter-widgets/base",
            "_model_module_version": "1.2.0",
            "_model_name": "LayoutModel",
            "_view_count": null,
            "_view_module": "@jupyter-widgets/base",
            "_view_module_version": "1.2.0",
            "_view_name": "LayoutView",
            "align_content": null,
            "align_items": null,
            "align_self": null,
            "border": null,
            "bottom": null,
            "display": null,
            "flex": null,
            "flex_flow": null,
            "grid_area": null,
            "grid_auto_columns": null,
            "grid_auto_flow": null,
            "grid_auto_rows": null,
            "grid_column": null,
            "grid_gap": null,
            "grid_row": null,
            "grid_template_areas": null,
            "grid_template_columns": null,
            "grid_template_rows": null,
            "height": null,
            "justify_content": null,
            "justify_items": null,
            "left": null,
            "margin": null,
            "max_height": null,
            "max_width": null,
            "min_height": null,
            "min_width": null,
            "object_fit": null,
            "object_position": null,
            "order": null,
            "overflow": null,
            "overflow_x": null,
            "overflow_y": null,
            "padding": null,
            "right": null,
            "top": null,
            "visibility": null,
            "width": null
          }
        },
        "beddecdd3493453e8109f4c6bb610d49": {
          "model_module": "@jupyter-widgets/base",
          "model_module_version": "1.2.0",
          "model_name": "LayoutModel",
          "state": {
            "_model_module": "@jupyter-widgets/base",
            "_model_module_version": "1.2.0",
            "_model_name": "LayoutModel",
            "_view_count": null,
            "_view_module": "@jupyter-widgets/base",
            "_view_module_version": "1.2.0",
            "_view_name": "LayoutView",
            "align_content": null,
            "align_items": null,
            "align_self": null,
            "border": null,
            "bottom": null,
            "display": null,
            "flex": null,
            "flex_flow": null,
            "grid_area": null,
            "grid_auto_columns": null,
            "grid_auto_flow": null,
            "grid_auto_rows": null,
            "grid_column": null,
            "grid_gap": null,
            "grid_row": null,
            "grid_template_areas": null,
            "grid_template_columns": null,
            "grid_template_rows": null,
            "height": null,
            "justify_content": null,
            "justify_items": null,
            "left": null,
            "margin": null,
            "max_height": null,
            "max_width": null,
            "min_height": null,
            "min_width": null,
            "object_fit": null,
            "object_position": null,
            "order": null,
            "overflow": null,
            "overflow_x": null,
            "overflow_y": null,
            "padding": null,
            "right": null,
            "top": null,
            "visibility": null,
            "width": null
          }
        },
        "bfdddd318f5d42de9a9e4a584ab0928a": {
          "model_module": "@jupyter-widgets/base",
          "model_module_version": "1.2.0",
          "model_name": "LayoutModel",
          "state": {
            "_model_module": "@jupyter-widgets/base",
            "_model_module_version": "1.2.0",
            "_model_name": "LayoutModel",
            "_view_count": null,
            "_view_module": "@jupyter-widgets/base",
            "_view_module_version": "1.2.0",
            "_view_name": "LayoutView",
            "align_content": null,
            "align_items": null,
            "align_self": null,
            "border": null,
            "bottom": null,
            "display": null,
            "flex": null,
            "flex_flow": null,
            "grid_area": null,
            "grid_auto_columns": null,
            "grid_auto_flow": null,
            "grid_auto_rows": null,
            "grid_column": null,
            "grid_gap": null,
            "grid_row": null,
            "grid_template_areas": null,
            "grid_template_columns": null,
            "grid_template_rows": null,
            "height": null,
            "justify_content": null,
            "justify_items": null,
            "left": null,
            "margin": null,
            "max_height": null,
            "max_width": null,
            "min_height": null,
            "min_width": null,
            "object_fit": null,
            "object_position": null,
            "order": null,
            "overflow": null,
            "overflow_x": null,
            "overflow_y": null,
            "padding": null,
            "right": null,
            "top": null,
            "visibility": null,
            "width": null
          }
        },
        "c0fde7d0ee97429e8d771f2dbadc1a73": {
          "model_module": "@jupyter-widgets/base",
          "model_module_version": "1.2.0",
          "model_name": "LayoutModel",
          "state": {
            "_model_module": "@jupyter-widgets/base",
            "_model_module_version": "1.2.0",
            "_model_name": "LayoutModel",
            "_view_count": null,
            "_view_module": "@jupyter-widgets/base",
            "_view_module_version": "1.2.0",
            "_view_name": "LayoutView",
            "align_content": null,
            "align_items": null,
            "align_self": null,
            "border": null,
            "bottom": null,
            "display": null,
            "flex": null,
            "flex_flow": null,
            "grid_area": null,
            "grid_auto_columns": null,
            "grid_auto_flow": null,
            "grid_auto_rows": null,
            "grid_column": null,
            "grid_gap": null,
            "grid_row": null,
            "grid_template_areas": null,
            "grid_template_columns": null,
            "grid_template_rows": null,
            "height": null,
            "justify_content": null,
            "justify_items": null,
            "left": null,
            "margin": null,
            "max_height": null,
            "max_width": null,
            "min_height": null,
            "min_width": null,
            "object_fit": null,
            "object_position": null,
            "order": null,
            "overflow": null,
            "overflow_x": null,
            "overflow_y": null,
            "padding": null,
            "right": null,
            "top": null,
            "visibility": null,
            "width": null
          }
        },
        "c1c4783f3da543aaab0b06dc015d9252": {
          "model_module": "@jupyter-widgets/controls",
          "model_module_version": "1.5.0",
          "model_name": "HTMLModel",
          "state": {
            "_dom_classes": [],
            "_model_module": "@jupyter-widgets/controls",
            "_model_module_version": "1.5.0",
            "_model_name": "HTMLModel",
            "_view_count": null,
            "_view_module": "@jupyter-widgets/controls",
            "_view_module_version": "1.5.0",
            "_view_name": "HTMLView",
            "description": "",
            "description_tooltip": null,
            "layout": "IPY_MODEL_d248283ec598472eae87dabc5513b67e",
            "placeholder": "​",
            "style": "IPY_MODEL_a73e5163e46b4f35a4b88ddc50335124",
            "value": " 712k/712k [00:00&lt;00:00, 20.4MB/s]"
          }
        },
        "c22d18479bdb4c3cbcd12f33bda69d0f": {
          "model_module": "@jupyter-widgets/controls",
          "model_module_version": "1.5.0",
          "model_name": "DescriptionStyleModel",
          "state": {
            "_model_module": "@jupyter-widgets/controls",
            "_model_module_version": "1.5.0",
            "_model_name": "DescriptionStyleModel",
            "_view_count": null,
            "_view_module": "@jupyter-widgets/base",
            "_view_module_version": "1.2.0",
            "_view_name": "StyleView",
            "description_width": ""
          }
        },
        "c23d325309c240b3a81596784831fd09": {
          "model_module": "@jupyter-widgets/base",
          "model_module_version": "1.2.0",
          "model_name": "LayoutModel",
          "state": {
            "_model_module": "@jupyter-widgets/base",
            "_model_module_version": "1.2.0",
            "_model_name": "LayoutModel",
            "_view_count": null,
            "_view_module": "@jupyter-widgets/base",
            "_view_module_version": "1.2.0",
            "_view_name": "LayoutView",
            "align_content": null,
            "align_items": null,
            "align_self": null,
            "border": null,
            "bottom": null,
            "display": null,
            "flex": null,
            "flex_flow": null,
            "grid_area": null,
            "grid_auto_columns": null,
            "grid_auto_flow": null,
            "grid_auto_rows": null,
            "grid_column": null,
            "grid_gap": null,
            "grid_row": null,
            "grid_template_areas": null,
            "grid_template_columns": null,
            "grid_template_rows": null,
            "height": null,
            "justify_content": null,
            "justify_items": null,
            "left": null,
            "margin": null,
            "max_height": null,
            "max_width": null,
            "min_height": null,
            "min_width": null,
            "object_fit": null,
            "object_position": null,
            "order": null,
            "overflow": null,
            "overflow_x": null,
            "overflow_y": null,
            "padding": null,
            "right": null,
            "top": null,
            "visibility": null,
            "width": null
          }
        },
        "c3c1b10ae6494c78b25833f8f23b075f": {
          "model_module": "@jupyter-widgets/base",
          "model_module_version": "1.2.0",
          "model_name": "LayoutModel",
          "state": {
            "_model_module": "@jupyter-widgets/base",
            "_model_module_version": "1.2.0",
            "_model_name": "LayoutModel",
            "_view_count": null,
            "_view_module": "@jupyter-widgets/base",
            "_view_module_version": "1.2.0",
            "_view_name": "LayoutView",
            "align_content": null,
            "align_items": null,
            "align_self": null,
            "border": null,
            "bottom": null,
            "display": null,
            "flex": null,
            "flex_flow": null,
            "grid_area": null,
            "grid_auto_columns": null,
            "grid_auto_flow": null,
            "grid_auto_rows": null,
            "grid_column": null,
            "grid_gap": null,
            "grid_row": null,
            "grid_template_areas": null,
            "grid_template_columns": null,
            "grid_template_rows": null,
            "height": null,
            "justify_content": null,
            "justify_items": null,
            "left": null,
            "margin": null,
            "max_height": null,
            "max_width": null,
            "min_height": null,
            "min_width": null,
            "object_fit": null,
            "object_position": null,
            "order": null,
            "overflow": null,
            "overflow_x": null,
            "overflow_y": null,
            "padding": null,
            "right": null,
            "top": null,
            "visibility": null,
            "width": null
          }
        },
        "c3f25d3187d14b7ab02922c201fa2ada": {
          "model_module": "@jupyter-widgets/controls",
          "model_module_version": "1.5.0",
          "model_name": "HTMLModel",
          "state": {
            "_dom_classes": [],
            "_model_module": "@jupyter-widgets/controls",
            "_model_module_version": "1.5.0",
            "_model_name": "HTMLModel",
            "_view_count": null,
            "_view_module": "@jupyter-widgets/controls",
            "_view_module_version": "1.5.0",
            "_view_name": "HTMLView",
            "description": "",
            "description_tooltip": null,
            "layout": "IPY_MODEL_716d4f494b4e445f8ac232428e966f5e",
            "placeholder": "​",
            "style": "IPY_MODEL_980c6cd840c84911b69003b303f2fa90",
            "value": " 190/190 [00:00&lt;00:00, 8.27kB/s]"
          }
        },
        "c7df84a9d2dc4cd594ced327f5b56ff5": {
          "model_module": "@jupyter-widgets/controls",
          "model_module_version": "1.5.0",
          "model_name": "DescriptionStyleModel",
          "state": {
            "_model_module": "@jupyter-widgets/controls",
            "_model_module_version": "1.5.0",
            "_model_name": "DescriptionStyleModel",
            "_view_count": null,
            "_view_module": "@jupyter-widgets/base",
            "_view_module_version": "1.2.0",
            "_view_name": "StyleView",
            "description_width": ""
          }
        },
        "cc7f26f8be564a5eaefc832121e58a61": {
          "model_module": "@jupyter-widgets/base",
          "model_module_version": "1.2.0",
          "model_name": "LayoutModel",
          "state": {
            "_model_module": "@jupyter-widgets/base",
            "_model_module_version": "1.2.0",
            "_model_name": "LayoutModel",
            "_view_count": null,
            "_view_module": "@jupyter-widgets/base",
            "_view_module_version": "1.2.0",
            "_view_name": "LayoutView",
            "align_content": null,
            "align_items": null,
            "align_self": null,
            "border": null,
            "bottom": null,
            "display": null,
            "flex": null,
            "flex_flow": null,
            "grid_area": null,
            "grid_auto_columns": null,
            "grid_auto_flow": null,
            "grid_auto_rows": null,
            "grid_column": null,
            "grid_gap": null,
            "grid_row": null,
            "grid_template_areas": null,
            "grid_template_columns": null,
            "grid_template_rows": null,
            "height": null,
            "justify_content": null,
            "justify_items": null,
            "left": null,
            "margin": null,
            "max_height": null,
            "max_width": null,
            "min_height": null,
            "min_width": null,
            "object_fit": null,
            "object_position": null,
            "order": null,
            "overflow": null,
            "overflow_x": null,
            "overflow_y": null,
            "padding": null,
            "right": null,
            "top": null,
            "visibility": null,
            "width": null
          }
        },
        "cdb7299365fc406185d12c7c8d05f09a": {
          "model_module": "@jupyter-widgets/controls",
          "model_module_version": "1.5.0",
          "model_name": "ProgressStyleModel",
          "state": {
            "_model_module": "@jupyter-widgets/controls",
            "_model_module_version": "1.5.0",
            "_model_name": "ProgressStyleModel",
            "_view_count": null,
            "_view_module": "@jupyter-widgets/base",
            "_view_module_version": "1.2.0",
            "_view_name": "StyleView",
            "bar_color": null,
            "description_width": ""
          }
        },
        "cdcdefc29264405185860b0ce2970249": {
          "model_module": "@jupyter-widgets/controls",
          "model_module_version": "1.5.0",
          "model_name": "DescriptionStyleModel",
          "state": {
            "_model_module": "@jupyter-widgets/controls",
            "_model_module_version": "1.5.0",
            "_model_name": "DescriptionStyleModel",
            "_view_count": null,
            "_view_module": "@jupyter-widgets/base",
            "_view_module_version": "1.2.0",
            "_view_name": "StyleView",
            "description_width": ""
          }
        },
        "d248283ec598472eae87dabc5513b67e": {
          "model_module": "@jupyter-widgets/base",
          "model_module_version": "1.2.0",
          "model_name": "LayoutModel",
          "state": {
            "_model_module": "@jupyter-widgets/base",
            "_model_module_version": "1.2.0",
            "_model_name": "LayoutModel",
            "_view_count": null,
            "_view_module": "@jupyter-widgets/base",
            "_view_module_version": "1.2.0",
            "_view_name": "LayoutView",
            "align_content": null,
            "align_items": null,
            "align_self": null,
            "border": null,
            "bottom": null,
            "display": null,
            "flex": null,
            "flex_flow": null,
            "grid_area": null,
            "grid_auto_columns": null,
            "grid_auto_flow": null,
            "grid_auto_rows": null,
            "grid_column": null,
            "grid_gap": null,
            "grid_row": null,
            "grid_template_areas": null,
            "grid_template_columns": null,
            "grid_template_rows": null,
            "height": null,
            "justify_content": null,
            "justify_items": null,
            "left": null,
            "margin": null,
            "max_height": null,
            "max_width": null,
            "min_height": null,
            "min_width": null,
            "object_fit": null,
            "object_position": null,
            "order": null,
            "overflow": null,
            "overflow_x": null,
            "overflow_y": null,
            "padding": null,
            "right": null,
            "top": null,
            "visibility": null,
            "width": null
          }
        },
        "d2edbb4ce1564dd8b0bb9fc6ca4d52f1": {
          "model_module": "@jupyter-widgets/base",
          "model_module_version": "1.2.0",
          "model_name": "LayoutModel",
          "state": {
            "_model_module": "@jupyter-widgets/base",
            "_model_module_version": "1.2.0",
            "_model_name": "LayoutModel",
            "_view_count": null,
            "_view_module": "@jupyter-widgets/base",
            "_view_module_version": "1.2.0",
            "_view_name": "LayoutView",
            "align_content": null,
            "align_items": null,
            "align_self": null,
            "border": null,
            "bottom": null,
            "display": null,
            "flex": null,
            "flex_flow": null,
            "grid_area": null,
            "grid_auto_columns": null,
            "grid_auto_flow": null,
            "grid_auto_rows": null,
            "grid_column": null,
            "grid_gap": null,
            "grid_row": null,
            "grid_template_areas": null,
            "grid_template_columns": null,
            "grid_template_rows": null,
            "height": null,
            "justify_content": null,
            "justify_items": null,
            "left": null,
            "margin": null,
            "max_height": null,
            "max_width": null,
            "min_height": null,
            "min_width": null,
            "object_fit": null,
            "object_position": null,
            "order": null,
            "overflow": null,
            "overflow_x": null,
            "overflow_y": null,
            "padding": null,
            "right": null,
            "top": null,
            "visibility": null,
            "width": null
          }
        },
        "d3b8f16b4e72485e86006bc332830539": {
          "model_module": "@jupyter-widgets/controls",
          "model_module_version": "1.5.0",
          "model_name": "HBoxModel",
          "state": {
            "_dom_classes": [],
            "_model_module": "@jupyter-widgets/controls",
            "_model_module_version": "1.5.0",
            "_model_name": "HBoxModel",
            "_view_count": null,
            "_view_module": "@jupyter-widgets/controls",
            "_view_module_version": "1.5.0",
            "_view_name": "HBoxView",
            "box_style": "",
            "children": [
              "IPY_MODEL_30ba6e28b4494fd1bee86461815ce8fe",
              "IPY_MODEL_69b8d78526094589af370853125fc061",
              "IPY_MODEL_c3f25d3187d14b7ab02922c201fa2ada"
            ],
            "layout": "IPY_MODEL_0fae8ce8ef1c4fe595ccf0ff7c1992a0"
          }
        },
        "d53ee564a77d480ea3d47954f3c48914": {
          "model_module": "@jupyter-widgets/controls",
          "model_module_version": "1.5.0",
          "model_name": "HTMLModel",
          "state": {
            "_dom_classes": [],
            "_model_module": "@jupyter-widgets/controls",
            "_model_module_version": "1.5.0",
            "_model_name": "HTMLModel",
            "_view_count": null,
            "_view_module": "@jupyter-widgets/controls",
            "_view_module_version": "1.5.0",
            "_view_name": "HTMLView",
            "description": "",
            "description_tooltip": null,
            "layout": "IPY_MODEL_7d1e75ecda1c4b51885639837d7b90ed",
            "placeholder": "​",
            "style": "IPY_MODEL_c22d18479bdb4c3cbcd12f33bda69d0f",
            "value": "model.safetensors: 100%"
          }
        },
        "dc0f00b0af114aa3975c948a5c7373bc": {
          "model_module": "@jupyter-widgets/controls",
          "model_module_version": "1.5.0",
          "model_name": "ProgressStyleModel",
          "state": {
            "_model_module": "@jupyter-widgets/controls",
            "_model_module_version": "1.5.0",
            "_model_name": "ProgressStyleModel",
            "_view_count": null,
            "_view_module": "@jupyter-widgets/base",
            "_view_module_version": "1.2.0",
            "_view_name": "StyleView",
            "bar_color": null,
            "description_width": ""
          }
        },
        "dcebe343a5b24971a2827c427e9be01c": {
          "model_module": "@jupyter-widgets/controls",
          "model_module_version": "1.5.0",
          "model_name": "FloatProgressModel",
          "state": {
            "_dom_classes": [],
            "_model_module": "@jupyter-widgets/controls",
            "_model_module_version": "1.5.0",
            "_model_name": "FloatProgressModel",
            "_view_count": null,
            "_view_module": "@jupyter-widgets/controls",
            "_view_module_version": "1.5.0",
            "_view_name": "ProgressView",
            "bar_style": "success",
            "description": "",
            "description_tooltip": null,
            "layout": "IPY_MODEL_28f63d491efc4b67bd86a0dec604a338",
            "max": 66746168,
            "min": 0,
            "orientation": "horizontal",
            "style": "IPY_MODEL_4cc2037008d94a0ca30e21ca7a9923b2",
            "value": 66746168
          }
        },
        "e35f3ff150af42e780b9018e07162447": {
          "model_module": "@jupyter-widgets/controls",
          "model_module_version": "1.5.0",
          "model_name": "FloatProgressModel",
          "state": {
            "_dom_classes": [],
            "_model_module": "@jupyter-widgets/controls",
            "_model_module_version": "1.5.0",
            "_model_name": "FloatProgressModel",
            "_view_count": null,
            "_view_module": "@jupyter-widgets/controls",
            "_view_module_version": "1.5.0",
            "_view_name": "ProgressView",
            "bar_style": "success",
            "description": "",
            "description_tooltip": null,
            "layout": "IPY_MODEL_bfdddd318f5d42de9a9e4a584ab0928a",
            "max": 394,
            "min": 0,
            "orientation": "horizontal",
            "style": "IPY_MODEL_673e6271335241a2bf7fa949bac8f8ca",
            "value": 394
          }
        },
        "e3fc177a3c274d0fbea77feda85c4df0": {
          "model_module": "@jupyter-widgets/base",
          "model_module_version": "1.2.0",
          "model_name": "LayoutModel",
          "state": {
            "_model_module": "@jupyter-widgets/base",
            "_model_module_version": "1.2.0",
            "_model_name": "LayoutModel",
            "_view_count": null,
            "_view_module": "@jupyter-widgets/base",
            "_view_module_version": "1.2.0",
            "_view_name": "LayoutView",
            "align_content": null,
            "align_items": null,
            "align_self": null,
            "border": null,
            "bottom": null,
            "display": null,
            "flex": null,
            "flex_flow": null,
            "grid_area": null,
            "grid_auto_columns": null,
            "grid_auto_flow": null,
            "grid_auto_rows": null,
            "grid_column": null,
            "grid_gap": null,
            "grid_row": null,
            "grid_template_areas": null,
            "grid_template_columns": null,
            "grid_template_rows": null,
            "height": null,
            "justify_content": null,
            "justify_items": null,
            "left": null,
            "margin": null,
            "max_height": null,
            "max_width": null,
            "min_height": null,
            "min_width": null,
            "object_fit": null,
            "object_position": null,
            "order": null,
            "overflow": null,
            "overflow_x": null,
            "overflow_y": null,
            "padding": null,
            "right": null,
            "top": null,
            "visibility": null,
            "width": null
          }
        },
        "e59c28cf0b624a509cd3a7cac94b1c68": {
          "model_module": "@jupyter-widgets/controls",
          "model_module_version": "1.5.0",
          "model_name": "HTMLModel",
          "state": {
            "_dom_classes": [],
            "_model_module": "@jupyter-widgets/controls",
            "_model_module_version": "1.5.0",
            "_model_name": "HTMLModel",
            "_view_count": null,
            "_view_module": "@jupyter-widgets/controls",
            "_view_module_version": "1.5.0",
            "_view_name": "HTMLView",
            "description": "",
            "description_tooltip": null,
            "layout": "IPY_MODEL_0f10d2e852fd4e65beb7f4fddffa72aa",
            "placeholder": "​",
            "style": "IPY_MODEL_cdcdefc29264405185860b0ce2970249",
            "value": "tokenizer_config.json: 100%"
          }
        },
        "ea2450eb6d36409ea6ca50e4af7adf7c": {
          "model_module": "@jupyter-widgets/controls",
          "model_module_version": "1.5.0",
          "model_name": "HBoxModel",
          "state": {
            "_dom_classes": [],
            "_model_module": "@jupyter-widgets/controls",
            "_model_module_version": "1.5.0",
            "_model_name": "HBoxModel",
            "_view_count": null,
            "_view_module": "@jupyter-widgets/controls",
            "_view_module_version": "1.5.0",
            "_view_name": "HBoxView",
            "box_style": "",
            "children": [
              "IPY_MODEL_14a422b117ec404e8a81b12f9214e892",
              "IPY_MODEL_f81e09294823406d8b3fc2ffd063501c",
              "IPY_MODEL_6f7d5390ddb24d81aaa490c7a46edb32"
            ],
            "layout": "IPY_MODEL_2d40724467af48359706503f3572d53a"
          }
        },
        "eaae140bff2f40b581dd5f9afca9b2c6": {
          "model_module": "@jupyter-widgets/base",
          "model_module_version": "1.2.0",
          "model_name": "LayoutModel",
          "state": {
            "_model_module": "@jupyter-widgets/base",
            "_model_module_version": "1.2.0",
            "_model_name": "LayoutModel",
            "_view_count": null,
            "_view_module": "@jupyter-widgets/base",
            "_view_module_version": "1.2.0",
            "_view_name": "LayoutView",
            "align_content": null,
            "align_items": null,
            "align_self": null,
            "border": null,
            "bottom": null,
            "display": null,
            "flex": null,
            "flex_flow": null,
            "grid_area": null,
            "grid_auto_columns": null,
            "grid_auto_flow": null,
            "grid_auto_rows": null,
            "grid_column": null,
            "grid_gap": null,
            "grid_row": null,
            "grid_template_areas": null,
            "grid_template_columns": null,
            "grid_template_rows": null,
            "height": null,
            "justify_content": null,
            "justify_items": null,
            "left": null,
            "margin": null,
            "max_height": null,
            "max_width": null,
            "min_height": null,
            "min_width": null,
            "object_fit": null,
            "object_position": null,
            "order": null,
            "overflow": null,
            "overflow_x": null,
            "overflow_y": null,
            "padding": null,
            "right": null,
            "top": null,
            "visibility": null,
            "width": null
          }
        },
        "eb918cf5e1474a99a3e2917dc3961446": {
          "model_module": "@jupyter-widgets/controls",
          "model_module_version": "1.5.0",
          "model_name": "DescriptionStyleModel",
          "state": {
            "_model_module": "@jupyter-widgets/controls",
            "_model_module_version": "1.5.0",
            "_model_name": "DescriptionStyleModel",
            "_view_count": null,
            "_view_module": "@jupyter-widgets/base",
            "_view_module_version": "1.2.0",
            "_view_name": "StyleView",
            "description_width": ""
          }
        },
        "f11a2efce9db4bef95f4b4ef58b1fcc3": {
          "model_module": "@jupyter-widgets/controls",
          "model_module_version": "1.5.0",
          "model_name": "DescriptionStyleModel",
          "state": {
            "_model_module": "@jupyter-widgets/controls",
            "_model_module_version": "1.5.0",
            "_model_name": "DescriptionStyleModel",
            "_view_count": null,
            "_view_module": "@jupyter-widgets/base",
            "_view_module_version": "1.2.0",
            "_view_name": "StyleView",
            "description_width": ""
          }
        },
        "f81bc191c7224b64807a549978f31c28": {
          "model_module": "@jupyter-widgets/controls",
          "model_module_version": "1.5.0",
          "model_name": "HTMLModel",
          "state": {
            "_dom_classes": [],
            "_model_module": "@jupyter-widgets/controls",
            "_model_module_version": "1.5.0",
            "_model_name": "HTMLModel",
            "_view_count": null,
            "_view_module": "@jupyter-widgets/controls",
            "_view_module_version": "1.5.0",
            "_view_name": "HTMLView",
            "description": "",
            "description_tooltip": null,
            "layout": "IPY_MODEL_39b79f1a9ea14154a9058c2fcdf44b4b",
            "placeholder": "​",
            "style": "IPY_MODEL_c7df84a9d2dc4cd594ced327f5b56ff5",
            "value": "sentence_bert_config.json: 100%"
          }
        },
        "f81e09294823406d8b3fc2ffd063501c": {
          "model_module": "@jupyter-widgets/controls",
          "model_module_version": "1.5.0",
          "model_name": "FloatProgressModel",
          "state": {
            "_dom_classes": [],
            "_model_module": "@jupyter-widgets/controls",
            "_model_module_version": "1.5.0",
            "_model_name": "FloatProgressModel",
            "_view_count": null,
            "_view_module": "@jupyter-widgets/controls",
            "_view_module_version": "1.5.0",
            "_view_name": "ProgressView",
            "bar_style": "success",
            "description": "",
            "description_tooltip": null,
            "layout": "IPY_MODEL_9e08bfbd7ed142d0ab07bdea9fc2ed32",
            "max": 583,
            "min": 0,
            "orientation": "horizontal",
            "style": "IPY_MODEL_dc0f00b0af114aa3975c948a5c7373bc",
            "value": 583
          }
        },
        "f8d9dff59e544d3eb8f84de37b8eff47": {
          "model_module": "@jupyter-widgets/controls",
          "model_module_version": "1.5.0",
          "model_name": "DescriptionStyleModel",
          "state": {
            "_model_module": "@jupyter-widgets/controls",
            "_model_module_version": "1.5.0",
            "_model_name": "DescriptionStyleModel",
            "_view_count": null,
            "_view_module": "@jupyter-widgets/base",
            "_view_module_version": "1.2.0",
            "_view_name": "StyleView",
            "description_width": ""
          }
        },
        "f9a94259797f4be9b5c7de41a55f4eed": {
          "model_module": "@jupyter-widgets/controls",
          "model_module_version": "1.5.0",
          "model_name": "HBoxModel",
          "state": {
            "_dom_classes": [],
            "_model_module": "@jupyter-widgets/controls",
            "_model_module_version": "1.5.0",
            "_model_name": "HBoxModel",
            "_view_count": null,
            "_view_module": "@jupyter-widgets/controls",
            "_view_module_version": "1.5.0",
            "_view_name": "HBoxView",
            "box_style": "",
            "children": [
              "IPY_MODEL_671312514f9341779dc876e37e88b239",
              "IPY_MODEL_2de6186faaa74f05bfec1ae7ed802c12",
              "IPY_MODEL_37d3eb13dc344872bbae9339192c5953"
            ],
            "layout": "IPY_MODEL_eaae140bff2f40b581dd5f9afca9b2c6"
          }
        },
        "fd42b35e1c0942d4aa6e6d5a9692fe68": {
          "model_module": "@jupyter-widgets/base",
          "model_module_version": "1.2.0",
          "model_name": "LayoutModel",
          "state": {
            "_model_module": "@jupyter-widgets/base",
            "_model_module_version": "1.2.0",
            "_model_name": "LayoutModel",
            "_view_count": null,
            "_view_module": "@jupyter-widgets/base",
            "_view_module_version": "1.2.0",
            "_view_name": "LayoutView",
            "align_content": null,
            "align_items": null,
            "align_self": null,
            "border": null,
            "bottom": null,
            "display": null,
            "flex": null,
            "flex_flow": null,
            "grid_area": null,
            "grid_auto_columns": null,
            "grid_auto_flow": null,
            "grid_auto_rows": null,
            "grid_column": null,
            "grid_gap": null,
            "grid_row": null,
            "grid_template_areas": null,
            "grid_template_columns": null,
            "grid_template_rows": null,
            "height": null,
            "justify_content": null,
            "justify_items": null,
            "left": null,
            "margin": null,
            "max_height": null,
            "max_width": null,
            "min_height": null,
            "min_width": null,
            "object_fit": null,
            "object_position": null,
            "order": null,
            "overflow": null,
            "overflow_x": null,
            "overflow_y": null,
            "padding": null,
            "right": null,
            "top": null,
            "visibility": null,
            "width": null
          }
        },
        "ff35e3ff2c5c4598b4d478466e1e4d63": {
          "model_module": "@jupyter-widgets/controls",
          "model_module_version": "1.5.0",
          "model_name": "DescriptionStyleModel",
          "state": {
            "_model_module": "@jupyter-widgets/controls",
            "_model_module_version": "1.5.0",
            "_model_name": "DescriptionStyleModel",
            "_view_count": null,
            "_view_module": "@jupyter-widgets/base",
            "_view_module_version": "1.2.0",
            "_view_name": "StyleView",
            "description_width": ""
          }
        }
      }
    }
  },
  "nbformat": 4,
  "nbformat_minor": 0
}
